{
 "cells": [
  {
   "cell_type": "code",
   "execution_count": 2,
   "id": "initial_id",
   "metadata": {
    "collapsed": true,
    "ExecuteTime": {
     "end_time": "2023-12-03T10:47:47.789735700Z",
     "start_time": "2023-12-03T10:47:47.560326100Z"
    }
   },
   "outputs": [],
   "source": [
    "import tensorflow as tf"
   ]
  },
  {
   "cell_type": "code",
   "execution_count": 3,
   "outputs": [
    {
     "name": "stdout",
     "output_type": "stream",
     "text": [
      "2.15.0\n"
     ]
    }
   ],
   "source": [
    "print(tf.__version__)"
   ],
   "metadata": {
    "collapsed": false,
    "ExecuteTime": {
     "end_time": "2023-12-03T10:47:47.794210900Z",
     "start_time": "2023-12-03T10:47:47.567933500Z"
    }
   },
   "id": "74b0d28798a6bfc0"
  },
  {
   "cell_type": "markdown",
   "source": [
    "## Create tensors using tf.constant()"
   ],
   "metadata": {
    "collapsed": false
   },
   "id": "8a0aa38501814349"
  },
  {
   "cell_type": "markdown",
   "source": [
    "### Create Scalar - ndim = 0"
   ],
   "metadata": {
    "collapsed": false
   },
   "id": "2fb36cb7910a958b"
  },
  {
   "cell_type": "code",
   "execution_count": 4,
   "outputs": [
    {
     "data": {
      "text/plain": "<tf.Tensor: shape=(), dtype=int32, numpy=7>"
     },
     "execution_count": 4,
     "metadata": {},
     "output_type": "execute_result"
    }
   ],
   "source": [
    "scalar = tf.constant(7)\n",
    "scalar"
   ],
   "metadata": {
    "collapsed": false,
    "ExecuteTime": {
     "end_time": "2023-12-03T10:47:48.299373Z",
     "start_time": "2023-12-03T10:47:47.587784200Z"
    }
   },
   "id": "121071062e227ef4"
  },
  {
   "cell_type": "code",
   "execution_count": 5,
   "outputs": [
    {
     "data": {
      "text/plain": "tf.int32"
     },
     "execution_count": 5,
     "metadata": {},
     "output_type": "execute_result"
    }
   ],
   "source": [
    "scalar.dtype"
   ],
   "metadata": {
    "collapsed": false,
    "ExecuteTime": {
     "end_time": "2023-12-03T10:47:48.319825Z",
     "start_time": "2023-12-03T10:47:47.700679800Z"
    }
   },
   "id": "15bcd76149041a9c"
  },
  {
   "cell_type": "code",
   "execution_count": 6,
   "outputs": [
    {
     "data": {
      "text/plain": "TensorShape([])"
     },
     "execution_count": 6,
     "metadata": {},
     "output_type": "execute_result"
    }
   ],
   "source": [
    "scalar.shape"
   ],
   "metadata": {
    "collapsed": false,
    "ExecuteTime": {
     "end_time": "2023-12-03T10:47:48.342393Z",
     "start_time": "2023-12-03T10:47:47.707658100Z"
    }
   },
   "id": "a268577e78ad3e7e"
  },
  {
   "cell_type": "code",
   "execution_count": 7,
   "outputs": [
    {
     "data": {
      "text/plain": "0"
     },
     "execution_count": 7,
     "metadata": {},
     "output_type": "execute_result"
    }
   ],
   "source": [
    "scalar.ndim"
   ],
   "metadata": {
    "collapsed": false,
    "ExecuteTime": {
     "end_time": "2023-12-03T10:47:48.362935400Z",
     "start_time": "2023-12-03T10:47:47.719919300Z"
    }
   },
   "id": "4a293006f8b6efb5"
  },
  {
   "cell_type": "markdown",
   "source": [
    "### Create Vectors - ndim = 1"
   ],
   "metadata": {
    "collapsed": false
   },
   "id": "9e8b2453d04f9fd9"
  },
  {
   "cell_type": "code",
   "execution_count": 8,
   "outputs": [
    {
     "data": {
      "text/plain": "<tf.Tensor: shape=(2,), dtype=int32, numpy=array([10, 10])>"
     },
     "execution_count": 8,
     "metadata": {},
     "output_type": "execute_result"
    }
   ],
   "source": [
    "vector = tf.constant([10, 10])\n",
    "vector"
   ],
   "metadata": {
    "collapsed": false,
    "ExecuteTime": {
     "end_time": "2023-12-03T10:47:48.434830500Z",
     "start_time": "2023-12-03T10:47:47.728513400Z"
    }
   },
   "id": "acf8bdd1687e2202"
  },
  {
   "cell_type": "code",
   "execution_count": 9,
   "outputs": [
    {
     "data": {
      "text/plain": "(TensorShape([2]), 1)"
     },
     "execution_count": 9,
     "metadata": {},
     "output_type": "execute_result"
    }
   ],
   "source": [
    "vector.shape, vector.ndim"
   ],
   "metadata": {
    "collapsed": false,
    "ExecuteTime": {
     "end_time": "2023-12-03T10:47:48.435920200Z",
     "start_time": "2023-12-03T10:47:47.741172400Z"
    }
   },
   "id": "78629b8c602f761c"
  },
  {
   "cell_type": "markdown",
   "source": [
    "### Create Matrix - ndim = 2"
   ],
   "metadata": {
    "collapsed": false
   },
   "id": "6c8965853ea7cc66"
  },
  {
   "cell_type": "code",
   "execution_count": 10,
   "outputs": [
    {
     "data": {
      "text/plain": "<tf.Tensor: shape=(2, 2), dtype=int32, numpy=\narray([[10,  7],\n       [ 7, 10]])>"
     },
     "execution_count": 10,
     "metadata": {},
     "output_type": "execute_result"
    }
   ],
   "source": [
    "matrix = tf.constant([[10, 7], [7, 10]])\n",
    "matrix"
   ],
   "metadata": {
    "collapsed": false,
    "ExecuteTime": {
     "end_time": "2023-12-03T10:47:48.456498300Z",
     "start_time": "2023-12-03T10:47:47.751013700Z"
    }
   },
   "id": "2a5d36ee33850db0"
  },
  {
   "cell_type": "code",
   "execution_count": 11,
   "outputs": [
    {
     "data": {
      "text/plain": "(2, TensorShape([2, 2]))"
     },
     "execution_count": 11,
     "metadata": {},
     "output_type": "execute_result"
    }
   ],
   "source": [
    "matrix.ndim, matrix.shape"
   ],
   "metadata": {
    "collapsed": false,
    "ExecuteTime": {
     "end_time": "2023-12-03T10:47:48.456498300Z",
     "start_time": "2023-12-03T10:47:47.762048300Z"
    }
   },
   "id": "cf9c29297e2d04cf"
  },
  {
   "cell_type": "code",
   "execution_count": 12,
   "outputs": [],
   "source": [
    "another_matrix = tf.constant([[10., 7.], [3.,2.], [8., 9.]], dtype = tf.float32)"
   ],
   "metadata": {
    "collapsed": false,
    "ExecuteTime": {
     "end_time": "2023-12-03T10:47:48.458551300Z",
     "start_time": "2023-12-03T10:47:47.773020100Z"
    }
   },
   "id": "2e57d40948e16c87"
  },
  {
   "cell_type": "code",
   "execution_count": 13,
   "outputs": [
    {
     "data": {
      "text/plain": "2"
     },
     "execution_count": 13,
     "metadata": {},
     "output_type": "execute_result"
    }
   ],
   "source": [
    "another_matrix.ndim"
   ],
   "metadata": {
    "collapsed": false,
    "ExecuteTime": {
     "end_time": "2023-12-03T10:47:48.476035800Z",
     "start_time": "2023-12-03T10:47:47.787025900Z"
    }
   },
   "id": "6972f5146b025c48"
  },
  {
   "cell_type": "markdown",
   "source": [
    "### Create a tensor - ndim >= 0"
   ],
   "metadata": {
    "collapsed": false
   },
   "id": "1b32535038d6b43d"
  },
  {
   "cell_type": "code",
   "execution_count": 14,
   "outputs": [],
   "source": [
    "tensor = tf.constant([[[1,2,3],[4,5,6],[7,8,9]], [[10, 11, 12], [13,14,15], [16,17,1]]])"
   ],
   "metadata": {
    "collapsed": false,
    "ExecuteTime": {
     "end_time": "2023-12-03T10:47:48.490162300Z",
     "start_time": "2023-12-03T10:47:47.797210300Z"
    }
   },
   "id": "9ff5d93a3a8fbaab"
  },
  {
   "cell_type": "code",
   "execution_count": 15,
   "outputs": [
    {
     "data": {
      "text/plain": "3"
     },
     "execution_count": 15,
     "metadata": {},
     "output_type": "execute_result"
    }
   ],
   "source": [
    "tensor.ndim"
   ],
   "metadata": {
    "collapsed": false,
    "ExecuteTime": {
     "end_time": "2023-12-03T10:47:48.491160900Z",
     "start_time": "2023-12-03T10:47:47.809122500Z"
    }
   },
   "id": "fd611cb59eb81bee"
  },
  {
   "cell_type": "markdown",
   "source": [
    "## Create tensors using `tf.variable()`"
   ],
   "metadata": {
    "collapsed": false
   },
   "id": "664c6aaf15ef2310"
  },
  {
   "cell_type": "markdown",
   "source": [
    "### Creating a vector"
   ],
   "metadata": {
    "collapsed": false
   },
   "id": "6482326f83cc9cd8"
  },
  {
   "cell_type": "code",
   "execution_count": 16,
   "outputs": [
    {
     "data": {
      "text/plain": "(<tf.Variable 'Variable:0' shape=(2,) dtype=int32, numpy=array([10,  7])>,\n <tf.Tensor: shape=(2,), dtype=int32, numpy=array([10,  7])>)"
     },
     "execution_count": 16,
     "metadata": {},
     "output_type": "execute_result"
    }
   ],
   "source": [
    "changeable_vector = tf.Variable([10, 7])\n",
    "unchangeable_vector = tf.constant([10, 7])\n",
    "changeable_vector, unchangeable_vector"
   ],
   "metadata": {
    "collapsed": false,
    "ExecuteTime": {
     "end_time": "2023-12-03T10:47:48.492161500Z",
     "start_time": "2023-12-03T10:47:47.825829Z"
    }
   },
   "id": "82503b232b0c9ece"
  },
  {
   "cell_type": "code",
   "execution_count": 17,
   "outputs": [
    {
     "data": {
      "text/plain": "<tf.Variable 'UnreadVariable' shape=(2,) dtype=int32, numpy=array([7, 7])>"
     },
     "execution_count": 17,
     "metadata": {},
     "output_type": "execute_result"
    }
   ],
   "source": [
    "changeable_vector[0].assign(7)"
   ],
   "metadata": {
    "collapsed": false,
    "ExecuteTime": {
     "end_time": "2023-12-03T10:47:48.493160800Z",
     "start_time": "2023-12-03T10:47:47.857049Z"
    }
   },
   "id": "58f60bce8277dc50"
  },
  {
   "cell_type": "code",
   "execution_count": 18,
   "outputs": [
    {
     "ename": "AttributeError",
     "evalue": "'tensorflow.python.framework.ops.EagerTensor' object has no attribute 'assign'",
     "output_type": "error",
     "traceback": [
      "\u001B[1;31m---------------------------------------------------------------------------\u001B[0m",
      "\u001B[1;31mAttributeError\u001B[0m                            Traceback (most recent call last)",
      "Cell \u001B[1;32mIn[18], line 1\u001B[0m\n\u001B[1;32m----> 1\u001B[0m unchangeable_vector[\u001B[38;5;241m0\u001B[39m]\u001B[38;5;241m.\u001B[39massign(\u001B[38;5;241m7\u001B[39m)\n",
      "File \u001B[1;32m~\\anaconda3\\Lib\\site-packages\\tensorflow\\python\\framework\\tensor.py:261\u001B[0m, in \u001B[0;36mTensor.__getattr__\u001B[1;34m(self, name)\u001B[0m\n\u001B[0;32m    253\u001B[0m \u001B[38;5;28;01mif\u001B[39;00m name \u001B[38;5;129;01min\u001B[39;00m {\u001B[38;5;124m\"\u001B[39m\u001B[38;5;124mT\u001B[39m\u001B[38;5;124m\"\u001B[39m, \u001B[38;5;124m\"\u001B[39m\u001B[38;5;124mastype\u001B[39m\u001B[38;5;124m\"\u001B[39m, \u001B[38;5;124m\"\u001B[39m\u001B[38;5;124mravel\u001B[39m\u001B[38;5;124m\"\u001B[39m, \u001B[38;5;124m\"\u001B[39m\u001B[38;5;124mtranspose\u001B[39m\u001B[38;5;124m\"\u001B[39m, \u001B[38;5;124m\"\u001B[39m\u001B[38;5;124mreshape\u001B[39m\u001B[38;5;124m\"\u001B[39m, \u001B[38;5;124m\"\u001B[39m\u001B[38;5;124mclip\u001B[39m\u001B[38;5;124m\"\u001B[39m, \u001B[38;5;124m\"\u001B[39m\u001B[38;5;124msize\u001B[39m\u001B[38;5;124m\"\u001B[39m,\n\u001B[0;32m    254\u001B[0m             \u001B[38;5;124m\"\u001B[39m\u001B[38;5;124mtolist\u001B[39m\u001B[38;5;124m\"\u001B[39m, \u001B[38;5;124m\"\u001B[39m\u001B[38;5;124mdata\u001B[39m\u001B[38;5;124m\"\u001B[39m}:\n\u001B[0;32m    255\u001B[0m   \u001B[38;5;66;03m# TODO(wangpeng): Export the enable_numpy_behavior knob\u001B[39;00m\n\u001B[0;32m    256\u001B[0m   \u001B[38;5;28;01mraise\u001B[39;00m \u001B[38;5;167;01mAttributeError\u001B[39;00m(\n\u001B[0;32m    257\u001B[0m       \u001B[38;5;124mf\u001B[39m\u001B[38;5;124m\"\u001B[39m\u001B[38;5;132;01m{\u001B[39;00m\u001B[38;5;28mtype\u001B[39m(\u001B[38;5;28mself\u001B[39m)\u001B[38;5;241m.\u001B[39m\u001B[38;5;18m__name__\u001B[39m\u001B[38;5;132;01m}\u001B[39;00m\u001B[38;5;124m object has no attribute \u001B[39m\u001B[38;5;124m'\u001B[39m\u001B[38;5;132;01m{\u001B[39;00mname\u001B[38;5;132;01m}\u001B[39;00m\u001B[38;5;124m'\u001B[39m\u001B[38;5;124m. \u001B[39m\u001B[38;5;124m\"\u001B[39m \u001B[38;5;241m+\u001B[39m \u001B[38;5;124m\"\"\"\u001B[39m\n\u001B[0;32m    258\u001B[0m \u001B[38;5;124m    If you are looking for numpy-related methods, please run the following:\u001B[39m\n\u001B[0;32m    259\u001B[0m \u001B[38;5;124m    tf.experimental.numpy.experimental_enable_numpy_behavior()\u001B[39m\n\u001B[0;32m    260\u001B[0m \u001B[38;5;124m  \u001B[39m\u001B[38;5;124m\"\"\"\u001B[39m)\n\u001B[1;32m--> 261\u001B[0m \u001B[38;5;28mself\u001B[39m\u001B[38;5;241m.\u001B[39m\u001B[38;5;21m__getattribute__\u001B[39m(name)\n",
      "\u001B[1;31mAttributeError\u001B[0m: 'tensorflow.python.framework.ops.EagerTensor' object has no attribute 'assign'"
     ]
    }
   ],
   "source": [
    "unchangeable_vector[0].assign(7)"
   ],
   "metadata": {
    "collapsed": false,
    "ExecuteTime": {
     "end_time": "2023-12-03T10:47:48.996711100Z",
     "start_time": "2023-12-03T10:47:47.879631200Z"
    }
   },
   "id": "cf61401c63ee956b"
  },
  {
   "cell_type": "markdown",
   "source": [
    "## Creating Random Tensors"
   ],
   "metadata": {
    "collapsed": false
   },
   "id": "cf270b6038d24f8"
  },
  {
   "cell_type": "markdown",
   "source": [
    "### Creating a random generator from seed - tf.random.Generator.from_seed(seed_val)"
   ],
   "metadata": {
    "collapsed": false
   },
   "id": "ce3e2d5024ed9d81"
  },
  {
   "cell_type": "code",
   "execution_count": 19,
   "outputs": [],
   "source": [
    "random = tf.random.Generator.from_seed(42)"
   ],
   "metadata": {
    "collapsed": false,
    "ExecuteTime": {
     "end_time": "2023-12-03T10:47:55.708853200Z",
     "start_time": "2023-12-03T10:47:55.646047400Z"
    }
   },
   "id": "73fac831457d6ab6"
  },
  {
   "cell_type": "markdown",
   "source": [
    "### Creating a random normal tensor - random.normal(shape = ())"
   ],
   "metadata": {
    "collapsed": false
   },
   "id": "fbb5910bdf6973b6"
  },
  {
   "cell_type": "code",
   "execution_count": 20,
   "outputs": [],
   "source": [
    "random = random.normal((3, 5))"
   ],
   "metadata": {
    "collapsed": false,
    "ExecuteTime": {
     "end_time": "2023-12-03T10:48:00.944951Z",
     "start_time": "2023-12-03T10:48:00.884361800Z"
    }
   },
   "id": "aefaf9c4d9dc19ad"
  },
  {
   "cell_type": "code",
   "execution_count": 21,
   "outputs": [
    {
     "data": {
      "text/plain": "<tf.Tensor: shape=(3, 5), dtype=float32, numpy=\narray([[-0.7565803 , -0.06854702,  0.07595026, -1.2573844 , -0.23193763],\n       [-1.8107855 ,  0.09988727, -0.50998646, -0.7535805 , -0.57166284],\n       [ 0.1480774 , -0.23362993, -0.3522796 ,  0.40621263, -1.0523509 ]],\n      dtype=float32)>"
     },
     "execution_count": 21,
     "metadata": {},
     "output_type": "execute_result"
    }
   ],
   "source": [
    "random"
   ],
   "metadata": {
    "collapsed": false,
    "ExecuteTime": {
     "end_time": "2023-12-03T10:48:01.273863600Z",
     "start_time": "2023-12-03T10:48:01.251563700Z"
    }
   },
   "id": "79823b81c1a160d1"
  },
  {
   "cell_type": "markdown",
   "source": [
    "### Creating a random uniform tensor - random.uniform(shape = ())"
   ],
   "metadata": {
    "collapsed": false
   },
   "id": "373846f592f19bb"
  },
  {
   "cell_type": "code",
   "execution_count": 137,
   "outputs": [
    {
     "data": {
      "text/plain": "<tf.Tensor: shape=(3, 5), dtype=float32, numpy=\narray([[0.7493447 , 0.73561966, 0.45230794, 0.49039817, 0.1889317 ],\n       [0.52027524, 0.8736881 , 0.46921718, 0.63932586, 0.6467117 ],\n       [0.96246755, 0.41009164, 0.86540747, 0.8862978 , 0.27795732]],\n      dtype=float32)>"
     },
     "execution_count": 137,
     "metadata": {},
     "output_type": "execute_result"
    }
   ],
   "source": [
    "random_1 = tf.random.Generator.from_seed(42)\n",
    "random_1 = random_1.uniform((3, 5))\n",
    "random_1"
   ],
   "metadata": {
    "collapsed": false,
    "ExecuteTime": {
     "end_time": "2023-12-03T11:50:51.802179500Z",
     "start_time": "2023-12-03T11:50:51.782778700Z"
    }
   },
   "id": "7b5c568c26ba4b76"
  },
  {
   "cell_type": "markdown",
   "source": [
    "## Shuffle the Order of elements in a tensor\n",
    "\n",
    "- Sometimes Order of Input might effect the deep learning model learning, that's where shuffling might improve learning."
   ],
   "metadata": {
    "collapsed": false
   },
   "id": "fa6b46835089f994"
  },
  {
   "cell_type": "code",
   "execution_count": 23,
   "outputs": [],
   "source": [
    "not_shuffled = tf.constant([[10, 7], [3, 4], [5, 6]])"
   ],
   "metadata": {
    "collapsed": false,
    "ExecuteTime": {
     "end_time": "2023-12-03T10:48:02.022495400Z",
     "start_time": "2023-12-03T10:48:01.993023200Z"
    }
   },
   "id": "a39095274997d8b"
  },
  {
   "cell_type": "markdown",
   "source": [
    "### Shuffling along the first dimension - tf.random.shuffle()"
   ],
   "metadata": {
    "collapsed": false
   },
   "id": "b86c659ce5553038"
  },
  {
   "cell_type": "code",
   "execution_count": 24,
   "outputs": [
    {
     "data": {
      "text/plain": "<tf.Tensor: shape=(3, 2), dtype=int32, numpy=\narray([[ 3,  4],\n       [10,  7],\n       [ 5,  6]])>"
     },
     "execution_count": 24,
     "metadata": {},
     "output_type": "execute_result"
    }
   ],
   "source": [
    "tf.random.shuffle(not_shuffled)"
   ],
   "metadata": {
    "collapsed": false,
    "ExecuteTime": {
     "end_time": "2023-12-03T10:48:02.348801100Z",
     "start_time": "2023-12-03T10:48:02.327733300Z"
    }
   },
   "id": "740a379aeca0185b"
  },
  {
   "cell_type": "code",
   "execution_count": 25,
   "outputs": [
    {
     "data": {
      "text/plain": "<tf.Tensor: shape=(3, 2), dtype=int32, numpy=\narray([[10,  7],\n       [ 3,  4],\n       [ 5,  6]])>"
     },
     "execution_count": 25,
     "metadata": {},
     "output_type": "execute_result"
    }
   ],
   "source": [
    "not_shuffled"
   ],
   "metadata": {
    "collapsed": false,
    "ExecuteTime": {
     "end_time": "2023-12-03T10:48:02.521746900Z",
     "start_time": "2023-12-03T10:48:02.492033200Z"
    }
   },
   "id": "8ca2f676e72af6d1"
  },
  {
   "cell_type": "markdown",
   "source": [
    "### Shuffling along the first dimension using seed - tf.random.set_seed(seed_value), tf.random.shuffle(value, seed = seed_value)\n",
    "\n",
    "[random_seed](https://www.tensorflow.org/api_docs/python/tf/random/set_seed)\n",
    "\n",
    "To have reproducible tensors we need to have global seed and operational seed."
   ],
   "metadata": {
    "collapsed": false
   },
   "id": "6010d0f40273190b"
  },
  {
   "cell_type": "code",
   "execution_count": 26,
   "outputs": [
    {
     "ename": "AttributeError",
     "evalue": "'tensorflow.python.framework.ops.EagerTensor' object has no attribute 'set_seed'",
     "output_type": "error",
     "traceback": [
      "\u001B[1;31m---------------------------------------------------------------------------\u001B[0m",
      "\u001B[1;31mAttributeError\u001B[0m                            Traceback (most recent call last)",
      "Cell \u001B[1;32mIn[26], line 1\u001B[0m\n\u001B[1;32m----> 1\u001B[0m tf,random\u001B[38;5;241m.\u001B[39mset_seed(\u001B[38;5;241m42\u001B[39m)\n\u001B[0;32m      2\u001B[0m tf\u001B[38;5;241m.\u001B[39mrandom\u001B[38;5;241m.\u001B[39mshuffle(not_shuffled, seed\u001B[38;5;241m=\u001B[39m\u001B[38;5;241m42\u001B[39m)\n",
      "File \u001B[1;32m~\\anaconda3\\Lib\\site-packages\\tensorflow\\python\\framework\\tensor.py:261\u001B[0m, in \u001B[0;36mTensor.__getattr__\u001B[1;34m(self, name)\u001B[0m\n\u001B[0;32m    253\u001B[0m \u001B[38;5;28;01mif\u001B[39;00m name \u001B[38;5;129;01min\u001B[39;00m {\u001B[38;5;124m\"\u001B[39m\u001B[38;5;124mT\u001B[39m\u001B[38;5;124m\"\u001B[39m, \u001B[38;5;124m\"\u001B[39m\u001B[38;5;124mastype\u001B[39m\u001B[38;5;124m\"\u001B[39m, \u001B[38;5;124m\"\u001B[39m\u001B[38;5;124mravel\u001B[39m\u001B[38;5;124m\"\u001B[39m, \u001B[38;5;124m\"\u001B[39m\u001B[38;5;124mtranspose\u001B[39m\u001B[38;5;124m\"\u001B[39m, \u001B[38;5;124m\"\u001B[39m\u001B[38;5;124mreshape\u001B[39m\u001B[38;5;124m\"\u001B[39m, \u001B[38;5;124m\"\u001B[39m\u001B[38;5;124mclip\u001B[39m\u001B[38;5;124m\"\u001B[39m, \u001B[38;5;124m\"\u001B[39m\u001B[38;5;124msize\u001B[39m\u001B[38;5;124m\"\u001B[39m,\n\u001B[0;32m    254\u001B[0m             \u001B[38;5;124m\"\u001B[39m\u001B[38;5;124mtolist\u001B[39m\u001B[38;5;124m\"\u001B[39m, \u001B[38;5;124m\"\u001B[39m\u001B[38;5;124mdata\u001B[39m\u001B[38;5;124m\"\u001B[39m}:\n\u001B[0;32m    255\u001B[0m   \u001B[38;5;66;03m# TODO(wangpeng): Export the enable_numpy_behavior knob\u001B[39;00m\n\u001B[0;32m    256\u001B[0m   \u001B[38;5;28;01mraise\u001B[39;00m \u001B[38;5;167;01mAttributeError\u001B[39;00m(\n\u001B[0;32m    257\u001B[0m       \u001B[38;5;124mf\u001B[39m\u001B[38;5;124m\"\u001B[39m\u001B[38;5;132;01m{\u001B[39;00m\u001B[38;5;28mtype\u001B[39m(\u001B[38;5;28mself\u001B[39m)\u001B[38;5;241m.\u001B[39m\u001B[38;5;18m__name__\u001B[39m\u001B[38;5;132;01m}\u001B[39;00m\u001B[38;5;124m object has no attribute \u001B[39m\u001B[38;5;124m'\u001B[39m\u001B[38;5;132;01m{\u001B[39;00mname\u001B[38;5;132;01m}\u001B[39;00m\u001B[38;5;124m'\u001B[39m\u001B[38;5;124m. \u001B[39m\u001B[38;5;124m\"\u001B[39m \u001B[38;5;241m+\u001B[39m \u001B[38;5;124m\"\"\"\u001B[39m\n\u001B[0;32m    258\u001B[0m \u001B[38;5;124m    If you are looking for numpy-related methods, please run the following:\u001B[39m\n\u001B[0;32m    259\u001B[0m \u001B[38;5;124m    tf.experimental.numpy.experimental_enable_numpy_behavior()\u001B[39m\n\u001B[0;32m    260\u001B[0m \u001B[38;5;124m  \u001B[39m\u001B[38;5;124m\"\"\"\u001B[39m)\n\u001B[1;32m--> 261\u001B[0m \u001B[38;5;28mself\u001B[39m\u001B[38;5;241m.\u001B[39m\u001B[38;5;21m__getattribute__\u001B[39m(name)\n",
      "\u001B[1;31mAttributeError\u001B[0m: 'tensorflow.python.framework.ops.EagerTensor' object has no attribute 'set_seed'"
     ]
    }
   ],
   "source": [
    "tf,random.set_seed(42)\n",
    "tf.random.shuffle(not_shuffled, seed=42)"
   ],
   "metadata": {
    "collapsed": false,
    "ExecuteTime": {
     "end_time": "2023-12-03T10:48:02.854177200Z",
     "start_time": "2023-12-03T10:48:02.799962200Z"
    }
   },
   "id": "119e95a7849827dd"
  },
  {
   "cell_type": "code",
   "execution_count": 27,
   "outputs": [
    {
     "data": {
      "text/plain": "<tf.Tensor: shape=(3, 2), dtype=int32, numpy=\narray([[10,  7],\n       [ 3,  4],\n       [ 5,  6]])>"
     },
     "execution_count": 27,
     "metadata": {},
     "output_type": "execute_result"
    }
   ],
   "source": [
    "tf.random.set_seed(42)\n",
    "tf.random.shuffle(not_shuffled, seed=42)"
   ],
   "metadata": {
    "collapsed": false,
    "ExecuteTime": {
     "end_time": "2023-12-03T10:48:03.051202800Z",
     "start_time": "2023-12-03T10:48:03.003203100Z"
    }
   },
   "id": "671eb4ec3e4f033f"
  },
  {
   "cell_type": "markdown",
   "source": [
    "## Tensors from Numpy Arrays"
   ],
   "metadata": {
    "collapsed": false
   },
   "id": "7859ade45b8efd39"
  },
  {
   "cell_type": "code",
   "execution_count": 28,
   "outputs": [],
   "source": [
    "import numpy as np"
   ],
   "metadata": {
    "collapsed": false,
    "ExecuteTime": {
     "end_time": "2023-12-03T10:48:03.209079100Z",
     "start_time": "2023-12-03T10:48:03.188899200Z"
    }
   },
   "id": "7a60a234f4bf016"
  },
  {
   "cell_type": "markdown",
   "source": [
    "### Creating tensors of ones - tf.ones(shape)"
   ],
   "metadata": {
    "collapsed": false
   },
   "id": "e432e4c51f68914a"
  },
  {
   "cell_type": "code",
   "execution_count": 29,
   "outputs": [
    {
     "data": {
      "text/plain": "<tf.Tensor: shape=(10, 7), dtype=float32, numpy=\narray([[1., 1., 1., 1., 1., 1., 1.],\n       [1., 1., 1., 1., 1., 1., 1.],\n       [1., 1., 1., 1., 1., 1., 1.],\n       [1., 1., 1., 1., 1., 1., 1.],\n       [1., 1., 1., 1., 1., 1., 1.],\n       [1., 1., 1., 1., 1., 1., 1.],\n       [1., 1., 1., 1., 1., 1., 1.],\n       [1., 1., 1., 1., 1., 1., 1.],\n       [1., 1., 1., 1., 1., 1., 1.],\n       [1., 1., 1., 1., 1., 1., 1.]], dtype=float32)>"
     },
     "execution_count": 29,
     "metadata": {},
     "output_type": "execute_result"
    }
   ],
   "source": [
    "tf.ones(shape=(10, 7))"
   ],
   "metadata": {
    "collapsed": false,
    "ExecuteTime": {
     "end_time": "2023-12-03T10:48:03.853961100Z",
     "start_time": "2023-12-03T10:48:03.822573600Z"
    }
   },
   "id": "3b91d09db52a1bc3"
  },
  {
   "cell_type": "markdown",
   "source": [
    "### Creating tensors with zeros - tf.zeros(shape)"
   ],
   "metadata": {
    "collapsed": false
   },
   "id": "bbcf4449a508d48"
  },
  {
   "cell_type": "code",
   "execution_count": 30,
   "outputs": [
    {
     "data": {
      "text/plain": "<tf.Tensor: shape=(3, 5), dtype=float32, numpy=\narray([[0., 0., 0., 0., 0.],\n       [0., 0., 0., 0., 0.],\n       [0., 0., 0., 0., 0.]], dtype=float32)>"
     },
     "execution_count": 30,
     "metadata": {},
     "output_type": "execute_result"
    }
   ],
   "source": [
    "tf.zeros((3, 5))"
   ],
   "metadata": {
    "collapsed": false,
    "ExecuteTime": {
     "end_time": "2023-12-03T10:48:04.198098700Z",
     "start_time": "2023-12-03T10:48:04.182195700Z"
    }
   },
   "id": "bdbb8218e6c3082b"
  },
  {
   "cell_type": "markdown",
   "source": [
    "### Turning numpy arrays into tensors - tf.constant(numpy_array)\n",
    "\n",
    "The main difference between a numpy arrays and tensorflow tensors is that tensors can be run on a GPU (much faster for numerical computing)"
   ],
   "metadata": {
    "collapsed": false
   },
   "id": "51de6aae500f870"
  },
  {
   "cell_type": "code",
   "execution_count": 31,
   "outputs": [],
   "source": [
    "import numpy as np"
   ],
   "metadata": {
    "collapsed": false,
    "ExecuteTime": {
     "end_time": "2023-12-03T10:48:04.519872700Z",
     "start_time": "2023-12-03T10:48:04.504234400Z"
    }
   },
   "id": "1365093a9ca8f03a"
  },
  {
   "cell_type": "code",
   "execution_count": 32,
   "outputs": [],
   "source": [
    "numpy_A = np.arange(1, 25, dtype=np.int32)"
   ],
   "metadata": {
    "collapsed": false,
    "ExecuteTime": {
     "end_time": "2023-12-03T10:48:04.675209700Z",
     "start_time": "2023-12-03T10:48:04.673133400Z"
    }
   },
   "id": "c10a3a5e0363742e"
  },
  {
   "cell_type": "code",
   "execution_count": 33,
   "outputs": [
    {
     "data": {
      "text/plain": "array([ 1,  2,  3,  4,  5,  6,  7,  8,  9, 10, 11, 12, 13, 14, 15, 16, 17,\n       18, 19, 20, 21, 22, 23, 24])"
     },
     "execution_count": 33,
     "metadata": {},
     "output_type": "execute_result"
    }
   ],
   "source": [
    "numpy_A"
   ],
   "metadata": {
    "collapsed": false,
    "ExecuteTime": {
     "end_time": "2023-12-03T10:48:04.877985700Z",
     "start_time": "2023-12-03T10:48:04.855330900Z"
    }
   },
   "id": "b292017f5e7d5787"
  },
  {
   "cell_type": "code",
   "execution_count": 34,
   "outputs": [],
   "source": [
    "A = tf.constant(numpy_A, shape = (2, 3, 4))"
   ],
   "metadata": {
    "collapsed": false,
    "ExecuteTime": {
     "end_time": "2023-12-03T10:48:05.323287500Z",
     "start_time": "2023-12-03T10:48:05.009974500Z"
    }
   },
   "id": "ce99266fff211577"
  },
  {
   "cell_type": "code",
   "execution_count": 35,
   "outputs": [
    {
     "data": {
      "text/plain": "<tf.Tensor: shape=(2, 3, 4), dtype=int32, numpy=\narray([[[ 1,  2,  3,  4],\n        [ 5,  6,  7,  8],\n        [ 9, 10, 11, 12]],\n\n       [[13, 14, 15, 16],\n        [17, 18, 19, 20],\n        [21, 22, 23, 24]]])>"
     },
     "execution_count": 35,
     "metadata": {},
     "output_type": "execute_result"
    }
   ],
   "source": [
    "A"
   ],
   "metadata": {
    "collapsed": false,
    "ExecuteTime": {
     "end_time": "2023-12-03T10:48:05.747232200Z",
     "start_time": "2023-12-03T10:48:05.320777700Z"
    }
   },
   "id": "ed2e5c9fbfd047ec"
  },
  {
   "cell_type": "code",
   "execution_count": 36,
   "outputs": [
    {
     "data": {
      "text/plain": "<tf.Tensor: shape=(2, 3, 4), dtype=int32, numpy=\narray([[[ 1,  2,  3,  4],\n        [ 5,  6,  7,  8],\n        [ 9, 10, 11, 12]],\n\n       [[13, 14, 15, 16],\n        [17, 18, 19, 20],\n        [21, 22, 23, 24]]])>"
     },
     "execution_count": 36,
     "metadata": {},
     "output_type": "execute_result"
    }
   ],
   "source": [
    "A\n"
   ],
   "metadata": {
    "collapsed": false,
    "ExecuteTime": {
     "end_time": "2023-12-03T10:48:15.388856900Z",
     "start_time": "2023-12-03T10:48:15.357517800Z"
    }
   },
   "id": "15a484ab639c14a6"
  },
  {
   "cell_type": "markdown",
   "source": [
    "## Tensor Attributes"
   ],
   "metadata": {
    "collapsed": false
   },
   "id": "69c9daef7c2fe7c"
  },
  {
   "cell_type": "markdown",
   "source": [
    "### Shape - length of each of the dimensions of a tensor - tensor.shape"
   ],
   "metadata": {
    "collapsed": false
   },
   "id": "b5b8275ed296e1d1"
  },
  {
   "cell_type": "code",
   "execution_count": 42,
   "outputs": [
    {
     "data": {
      "text/plain": "TensorShape([2, 3, 4, 5])"
     },
     "execution_count": 42,
     "metadata": {},
     "output_type": "execute_result"
    }
   ],
   "source": [
    "rank_4_tensor = tf.zeros((2, 3,4,5))\n",
    "rank_4_tensor.shape"
   ],
   "metadata": {
    "collapsed": false,
    "ExecuteTime": {
     "end_time": "2023-12-03T10:55:23.095017400Z",
     "start_time": "2023-12-03T10:55:23.088706100Z"
    }
   },
   "id": "b0164f81db4dbce9"
  },
  {
   "cell_type": "markdown",
   "source": [
    "### Rank - 0 for scalar, 1 for vector, 2 for matrix - tensor.ndim"
   ],
   "metadata": {
    "collapsed": false
   },
   "id": "a90592da7c508ed4"
  },
  {
   "cell_type": "code",
   "execution_count": 43,
   "outputs": [
    {
     "data": {
      "text/plain": "<tf.Tensor: shape=(2, 3, 4, 5), dtype=float32, numpy=\narray([[[[0., 0., 0., 0., 0.],\n         [0., 0., 0., 0., 0.],\n         [0., 0., 0., 0., 0.],\n         [0., 0., 0., 0., 0.]],\n\n        [[0., 0., 0., 0., 0.],\n         [0., 0., 0., 0., 0.],\n         [0., 0., 0., 0., 0.],\n         [0., 0., 0., 0., 0.]],\n\n        [[0., 0., 0., 0., 0.],\n         [0., 0., 0., 0., 0.],\n         [0., 0., 0., 0., 0.],\n         [0., 0., 0., 0., 0.]]],\n\n\n       [[[0., 0., 0., 0., 0.],\n         [0., 0., 0., 0., 0.],\n         [0., 0., 0., 0., 0.],\n         [0., 0., 0., 0., 0.]],\n\n        [[0., 0., 0., 0., 0.],\n         [0., 0., 0., 0., 0.],\n         [0., 0., 0., 0., 0.],\n         [0., 0., 0., 0., 0.]],\n\n        [[0., 0., 0., 0., 0.],\n         [0., 0., 0., 0., 0.],\n         [0., 0., 0., 0., 0.],\n         [0., 0., 0., 0., 0.]]]], dtype=float32)>"
     },
     "execution_count": 43,
     "metadata": {},
     "output_type": "execute_result"
    }
   ],
   "source": [
    "rank_4_tensor = tf.zeros((2, 3,4,5))\n",
    "rank_4_tensor"
   ],
   "metadata": {
    "collapsed": false,
    "ExecuteTime": {
     "end_time": "2023-12-03T10:55:29.358463800Z",
     "start_time": "2023-12-03T10:55:29.340060700Z"
    }
   },
   "id": "c3198ce6b413945a"
  },
  {
   "cell_type": "code",
   "execution_count": 44,
   "outputs": [
    {
     "data": {
      "text/plain": "4"
     },
     "execution_count": 44,
     "metadata": {},
     "output_type": "execute_result"
    }
   ],
   "source": [
    "rank_4_tensor.ndim"
   ],
   "metadata": {
    "collapsed": false,
    "ExecuteTime": {
     "end_time": "2023-12-03T10:55:30.445946800Z",
     "start_time": "2023-12-03T10:55:30.430275700Z"
    }
   },
   "id": "4ee1dbb5b6895c19"
  },
  {
   "cell_type": "markdown",
   "source": [
    "### Axis or Dimension - particular dimension of a tensor - tensor[0]"
   ],
   "metadata": {
    "collapsed": false
   },
   "id": "7751fc578d7b39a4"
  },
  {
   "cell_type": "code",
   "execution_count": 45,
   "outputs": [
    {
     "data": {
      "text/plain": "<tf.Tensor: shape=(3, 4, 5), dtype=float32, numpy=\narray([[[0., 0., 0., 0., 0.],\n        [0., 0., 0., 0., 0.],\n        [0., 0., 0., 0., 0.],\n        [0., 0., 0., 0., 0.]],\n\n       [[0., 0., 0., 0., 0.],\n        [0., 0., 0., 0., 0.],\n        [0., 0., 0., 0., 0.],\n        [0., 0., 0., 0., 0.]],\n\n       [[0., 0., 0., 0., 0.],\n        [0., 0., 0., 0., 0.],\n        [0., 0., 0., 0., 0.],\n        [0., 0., 0., 0., 0.]]], dtype=float32)>"
     },
     "execution_count": 45,
     "metadata": {},
     "output_type": "execute_result"
    }
   ],
   "source": [
    "rank_4_tensor[0]"
   ],
   "metadata": {
    "collapsed": false,
    "ExecuteTime": {
     "end_time": "2023-12-03T10:55:41.883944500Z",
     "start_time": "2023-12-03T10:55:41.867850300Z"
    }
   },
   "id": "f6749498c3a9fdd7"
  },
  {
   "cell_type": "markdown",
   "source": [
    "### Size - total number of items in a tensor tf.size(tensor)"
   ],
   "metadata": {
    "collapsed": false
   },
   "id": "e4971bf2de90ae6d"
  },
  {
   "cell_type": "code",
   "execution_count": 41,
   "outputs": [
    {
     "data": {
      "text/plain": "<tf.Tensor: shape=(), dtype=int32, numpy=120>"
     },
     "execution_count": 41,
     "metadata": {},
     "output_type": "execute_result"
    }
   ],
   "source": [
    "tf.size(rank_4_tensor)"
   ],
   "metadata": {
    "collapsed": false,
    "ExecuteTime": {
     "end_time": "2023-12-03T10:54:15.847893900Z",
     "start_time": "2023-12-03T10:54:15.830030100Z"
    }
   },
   "id": "ab12a5a88f4f9758"
  },
  {
   "cell_type": "markdown",
   "source": [
    "### Datatype of tensor - tensor.dtype"
   ],
   "metadata": {
    "collapsed": false
   },
   "id": "d2a8530a44f69010"
  },
  {
   "cell_type": "code",
   "execution_count": 46,
   "outputs": [
    {
     "data": {
      "text/plain": "tf.float32"
     },
     "execution_count": 46,
     "metadata": {},
     "output_type": "execute_result"
    }
   ],
   "source": [
    "rank_4_tensor.dtype"
   ],
   "metadata": {
    "collapsed": false,
    "ExecuteTime": {
     "end_time": "2023-12-03T10:56:31.238515500Z",
     "start_time": "2023-12-03T10:56:31.207419Z"
    }
   },
   "id": "a9c789c85abf5089"
  },
  {
   "cell_type": "markdown",
   "source": [
    "## Indexing and Expanding Tensor"
   ],
   "metadata": {
    "collapsed": false
   },
   "id": "5fad64463f521070"
  },
  {
   "cell_type": "markdown",
   "source": [
    "### Tensors can be indexed as python lists"
   ],
   "metadata": {
    "collapsed": false
   },
   "id": "42adaa4576e57dd9"
  },
  {
   "cell_type": "code",
   "execution_count": 49,
   "outputs": [
    {
     "data": {
      "text/plain": "<tf.Tensor: shape=(2, 2, 2, 2), dtype=float32, numpy=\narray([[[[0., 0.],\n         [0., 0.]],\n\n        [[0., 0.],\n         [0., 0.]]],\n\n\n       [[[0., 0.],\n         [0., 0.]],\n\n        [[0., 0.],\n         [0., 0.]]]], dtype=float32)>"
     },
     "execution_count": 49,
     "metadata": {},
     "output_type": "execute_result"
    }
   ],
   "source": [
    "rank_4_tensor[:2, :2, :2, :2]"
   ],
   "metadata": {
    "collapsed": false,
    "ExecuteTime": {
     "end_time": "2023-12-03T10:58:08.021134900Z",
     "start_time": "2023-12-03T10:58:08.005241300Z"
    }
   },
   "id": "893b58b8e7dbe295"
  },
  {
   "cell_type": "code",
   "execution_count": 50,
   "outputs": [
    {
     "data": {
      "text/plain": "<tf.Tensor: shape=(1, 1, 1, 5), dtype=float32, numpy=array([[[[0., 0., 0., 0., 0.]]]], dtype=float32)>"
     },
     "execution_count": 50,
     "metadata": {},
     "output_type": "execute_result"
    }
   ],
   "source": [
    "rank_4_tensor[:1, :1, :1, :]"
   ],
   "metadata": {
    "collapsed": false,
    "ExecuteTime": {
     "end_time": "2023-12-03T10:59:12.649530100Z",
     "start_time": "2023-12-03T10:59:12.617914Z"
    }
   },
   "id": "401d64c3f8c4bb1d"
  },
  {
   "cell_type": "markdown",
   "source": [
    "### Adding a dimension to a tensor - tensor[..., tf.newaxis]"
   ],
   "metadata": {
    "collapsed": false
   },
   "id": "daa5fed9f1fbeae9"
  },
  {
   "cell_type": "code",
   "execution_count": 51,
   "outputs": [],
   "source": [
    "rank_2_tensor = tf.constant([[10, 7], [5, 6]])"
   ],
   "metadata": {
    "collapsed": false,
    "ExecuteTime": {
     "end_time": "2023-12-03T11:00:04.157980500Z",
     "start_time": "2023-12-03T11:00:04.133281Z"
    }
   },
   "id": "7b9cfc8eab9cf05e"
  },
  {
   "cell_type": "code",
   "execution_count": 53,
   "outputs": [
    {
     "data": {
      "text/plain": "2"
     },
     "execution_count": 53,
     "metadata": {},
     "output_type": "execute_result"
    }
   ],
   "source": [
    "rank_2_tensor.ndim"
   ],
   "metadata": {
    "collapsed": false,
    "ExecuteTime": {
     "end_time": "2023-12-03T11:00:14.678588500Z",
     "start_time": "2023-12-03T11:00:14.674542Z"
    }
   },
   "id": "fdb554a03be37002"
  },
  {
   "cell_type": "code",
   "execution_count": 54,
   "outputs": [
    {
     "data": {
      "text/plain": "<tf.Tensor: shape=(2,), dtype=int32, numpy=array([7, 6])>"
     },
     "execution_count": 54,
     "metadata": {},
     "output_type": "execute_result"
    }
   ],
   "source": [
    "rank_2_tensor[: , -1]"
   ],
   "metadata": {
    "collapsed": false,
    "ExecuteTime": {
     "end_time": "2023-12-03T11:00:36.693621200Z",
     "start_time": "2023-12-03T11:00:36.661941600Z"
    }
   },
   "id": "802bb30107892fca"
  },
  {
   "cell_type": "code",
   "execution_count": 55,
   "outputs": [],
   "source": [
    "rank_3_tensor = rank_2_tensor[..., tf.newaxis]"
   ],
   "metadata": {
    "collapsed": false,
    "ExecuteTime": {
     "end_time": "2023-12-03T11:01:26.698039500Z",
     "start_time": "2023-12-03T11:01:26.656834500Z"
    }
   },
   "id": "5d52861ba310eb4f"
  },
  {
   "cell_type": "code",
   "execution_count": 56,
   "outputs": [
    {
     "data": {
      "text/plain": "<tf.Tensor: shape=(2, 2, 1), dtype=int32, numpy=\narray([[[10],\n        [ 7]],\n\n       [[ 5],\n        [ 6]]])>"
     },
     "execution_count": 56,
     "metadata": {},
     "output_type": "execute_result"
    }
   ],
   "source": [
    "rank_3_tensor"
   ],
   "metadata": {
    "collapsed": false,
    "ExecuteTime": {
     "end_time": "2023-12-03T11:01:31.668311200Z",
     "start_time": "2023-12-03T11:01:31.620846600Z"
    }
   },
   "id": "440b4f0bb349b454"
  },
  {
   "cell_type": "markdown",
   "source": [
    "### Alternative way to add new axis - tf.expand_dims(tensor, axis = -1) // for adding new dim at the end"
   ],
   "metadata": {
    "collapsed": false
   },
   "id": "cd1495ac42bcd7d"
  },
  {
   "cell_type": "code",
   "execution_count": 59,
   "outputs": [
    {
     "data": {
      "text/plain": "<tf.Tensor: shape=(2, 1, 2), dtype=int32, numpy=\narray([[[10,  7]],\n\n       [[ 5,  6]]])>"
     },
     "execution_count": 59,
     "metadata": {},
     "output_type": "execute_result"
    }
   ],
   "source": [
    "tf.expand_dims(rank_2_tensor, axis= -1)"
   ],
   "metadata": {
    "collapsed": false,
    "ExecuteTime": {
     "end_time": "2023-12-03T11:03:07.522300800Z",
     "start_time": "2023-12-03T11:03:07.506508600Z"
    }
   },
   "id": "cd72c1f3bb55b9e1"
  },
  {
   "cell_type": "markdown",
   "source": [
    "## Manipulating Tensors(tensor Operations)"
   ],
   "metadata": {
    "collapsed": false
   },
   "id": "d9a71e75fb36222b"
  },
  {
   "cell_type": "markdown",
   "source": [
    "### Basic Operations(+, -, *, /)"
   ],
   "metadata": {
    "collapsed": false
   },
   "id": "465460cb932e348a"
  },
  {
   "cell_type": "code",
   "execution_count": 63,
   "outputs": [],
   "source": [
    "tensor_1 = tf.constant([[10, 7], [5, 6]])"
   ],
   "metadata": {
    "collapsed": false,
    "ExecuteTime": {
     "end_time": "2023-12-03T11:06:36.423200500Z",
     "start_time": "2023-12-03T11:06:36.408185300Z"
    }
   },
   "id": "1b1d79d1f9f71404"
  },
  {
   "cell_type": "code",
   "execution_count": 64,
   "outputs": [
    {
     "data": {
      "text/plain": "<tf.Tensor: shape=(2, 2), dtype=int32, numpy=\narray([[10,  7],\n       [ 5,  6]])>"
     },
     "execution_count": 64,
     "metadata": {},
     "output_type": "execute_result"
    }
   ],
   "source": [
    "tensor_1"
   ],
   "metadata": {
    "collapsed": false,
    "ExecuteTime": {
     "end_time": "2023-12-03T11:06:39.318005900Z",
     "start_time": "2023-12-03T11:06:39.302315900Z"
    }
   },
   "id": "a9b7c4b30fc514c6"
  },
  {
   "cell_type": "code",
   "execution_count": 66,
   "outputs": [
    {
     "data": {
      "text/plain": "<tf.Tensor: shape=(2, 2), dtype=int32, numpy=\narray([[20, 17],\n       [15, 16]])>"
     },
     "execution_count": 66,
     "metadata": {},
     "output_type": "execute_result"
    }
   ],
   "source": [
    "tensor_1 + 10"
   ],
   "metadata": {
    "collapsed": false,
    "ExecuteTime": {
     "end_time": "2023-12-03T11:06:58.092005400Z",
     "start_time": "2023-12-03T11:06:58.088199600Z"
    }
   },
   "id": "b8ea379dde833b40"
  },
  {
   "cell_type": "code",
   "execution_count": 67,
   "outputs": [
    {
     "data": {
      "text/plain": "<tf.Tensor: shape=(2, 2), dtype=int32, numpy=\narray([[100,  70],\n       [ 50,  60]])>"
     },
     "execution_count": 67,
     "metadata": {},
     "output_type": "execute_result"
    }
   ],
   "source": [
    "tensor_1 * 10"
   ],
   "metadata": {
    "collapsed": false,
    "ExecuteTime": {
     "end_time": "2023-12-03T11:08:55.380998400Z",
     "start_time": "2023-12-03T11:08:55.350734800Z"
    }
   },
   "id": "2712417641ee54f1"
  },
  {
   "cell_type": "code",
   "execution_count": 68,
   "outputs": [
    {
     "data": {
      "text/plain": "<tf.Tensor: shape=(2, 2), dtype=int32, numpy=\narray([[ 0, -3],\n       [-5, -4]])>"
     },
     "execution_count": 68,
     "metadata": {},
     "output_type": "execute_result"
    }
   ],
   "source": [
    "tensor_1 - 10"
   ],
   "metadata": {
    "collapsed": false,
    "ExecuteTime": {
     "end_time": "2023-12-03T11:09:52.207725600Z",
     "start_time": "2023-12-03T11:09:52.191785700Z"
    }
   },
   "id": "d3cb9dc289d17388"
  },
  {
   "cell_type": "markdown",
   "source": [
    "### We can use the tensorflow builtin functions as well"
   ],
   "metadata": {
    "collapsed": false
   },
   "id": "7805d505ecc5ac18"
  },
  {
   "cell_type": "code",
   "execution_count": 69,
   "outputs": [
    {
     "data": {
      "text/plain": "<tf.Tensor: shape=(2, 2), dtype=int32, numpy=\narray([[20, 17],\n       [15, 16]])>"
     },
     "execution_count": 69,
     "metadata": {},
     "output_type": "execute_result"
    }
   ],
   "source": [
    "tf.add(tensor_1, 10)"
   ],
   "metadata": {
    "collapsed": false,
    "ExecuteTime": {
     "end_time": "2023-12-03T11:10:15.868212100Z",
     "start_time": "2023-12-03T11:10:15.838867800Z"
    }
   },
   "id": "e9bc6d4f33171897"
  },
  {
   "cell_type": "code",
   "execution_count": 70,
   "outputs": [
    {
     "data": {
      "text/plain": "<tf.Tensor: shape=(2, 2), dtype=int32, numpy=\narray([[50, 35],\n       [25, 30]])>"
     },
     "execution_count": 70,
     "metadata": {},
     "output_type": "execute_result"
    }
   ],
   "source": [
    "tf.multiply(tensor_1, 5)"
   ],
   "metadata": {
    "collapsed": false,
    "ExecuteTime": {
     "end_time": "2023-12-03T11:10:24.953370100Z",
     "start_time": "2023-12-03T11:10:24.937578200Z"
    }
   },
   "id": "62d5b7377e533daa"
  },
  {
   "cell_type": "code",
   "execution_count": 71,
   "outputs": [
    {
     "data": {
      "text/plain": "<tf.Tensor: shape=(), dtype=int32, numpy=7>"
     },
     "execution_count": 71,
     "metadata": {},
     "output_type": "execute_result"
    }
   ],
   "source": [
    "tf.reduce_mean(tensor_1)"
   ],
   "metadata": {
    "collapsed": false,
    "ExecuteTime": {
     "end_time": "2023-12-03T11:10:31.770487300Z",
     "start_time": "2023-12-03T11:10:31.738989200Z"
    }
   },
   "id": "d9f8983836303b8e"
  },
  {
   "cell_type": "code",
   "execution_count": 72,
   "outputs": [
    {
     "data": {
      "text/plain": "<tf.Tensor: shape=(2, 2), dtype=float64, numpy=\narray([[1. , 0.7],\n       [0.5, 0.6]])>"
     },
     "execution_count": 72,
     "metadata": {},
     "output_type": "execute_result"
    }
   ],
   "source": [
    "tf.divide(tensor_1, 10)"
   ],
   "metadata": {
    "collapsed": false,
    "ExecuteTime": {
     "end_time": "2023-12-03T11:10:43.779972400Z",
     "start_time": "2023-12-03T11:10:43.717348500Z"
    }
   },
   "id": "17e940b12ab5bde9"
  },
  {
   "cell_type": "code",
   "execution_count": 75,
   "outputs": [
    {
     "data": {
      "text/plain": "<tf.Tensor: shape=(2, 2), dtype=int32, numpy=\narray([[-1, -4],\n       [-6, -5]])>"
     },
     "execution_count": 75,
     "metadata": {},
     "output_type": "execute_result"
    }
   ],
   "source": [
    "tf.subtract(tensor_1, 11)"
   ],
   "metadata": {
    "collapsed": false,
    "ExecuteTime": {
     "end_time": "2023-12-03T11:11:17.807651600Z",
     "start_time": "2023-12-03T11:11:17.795518600Z"
    }
   },
   "id": "28c3e9fc8f24b08a"
  },
  {
   "cell_type": "code",
   "execution_count": null,
   "outputs": [],
   "source": [],
   "metadata": {
    "collapsed": false
   },
   "id": "856ebd7e52d0fd99"
  },
  {
   "cell_type": "markdown",
   "source": [
    "## Matrix Multiplication in Tensors\n",
    "\n",
    "In neural network matrix multiplication is one of the common operations"
   ],
   "metadata": {
    "collapsed": false
   },
   "id": "17dd0fbcdfa1cf95"
  },
  {
   "cell_type": "markdown",
   "source": [
    "### Element wise multiplication - tf.multiply() or tensor_1 * tensor_2"
   ],
   "metadata": {
    "collapsed": false
   },
   "id": "d2ab26ec15597876"
  },
  {
   "cell_type": "code",
   "execution_count": 76,
   "outputs": [
    {
     "data": {
      "text/plain": "<tf.Tensor: shape=(2, 2), dtype=int32, numpy=\narray([[100,  49],\n       [ 25,  36]])>"
     },
     "execution_count": 76,
     "metadata": {},
     "output_type": "execute_result"
    }
   ],
   "source": [
    "tensor_1 * tensor_1"
   ],
   "metadata": {
    "collapsed": false,
    "ExecuteTime": {
     "end_time": "2023-12-03T11:12:30.600691200Z",
     "start_time": "2023-12-03T11:12:30.569463400Z"
    }
   },
   "id": "42fe22edefb6ead0"
  },
  {
   "cell_type": "code",
   "execution_count": 77,
   "outputs": [
    {
     "data": {
      "text/plain": "<tf.Tensor: shape=(2, 2), dtype=int32, numpy=\narray([[100,  49],\n       [ 25,  36]])>"
     },
     "execution_count": 77,
     "metadata": {},
     "output_type": "execute_result"
    }
   ],
   "source": [
    "tf.multiply(tensor_1, tensor_1)"
   ],
   "metadata": {
    "collapsed": false,
    "ExecuteTime": {
     "end_time": "2023-12-03T11:12:39.196105200Z",
     "start_time": "2023-12-03T11:12:39.165825100Z"
    }
   },
   "id": "739c102d0923ca00"
  },
  {
   "cell_type": "markdown",
   "source": [
    "### Dot Product => tf.matmul(tensor_1 * tensor_2) or tensor_1 @ tensor_2 or tf.tensordot(tensor_1, tensor_2)"
   ],
   "metadata": {
    "collapsed": false
   },
   "id": "e7bb8d0cf0c13ebe"
  },
  {
   "cell_type": "code",
   "execution_count": 79,
   "outputs": [
    {
     "data": {
      "text/plain": "<tf.Tensor: shape=(2, 2), dtype=int32, numpy=\narray([[135, 112],\n       [ 80,  71]])>"
     },
     "execution_count": 79,
     "metadata": {},
     "output_type": "execute_result"
    }
   ],
   "source": [
    "tf.matmul(tensor_1, tensor_1)"
   ],
   "metadata": {
    "collapsed": false,
    "ExecuteTime": {
     "end_time": "2023-12-03T11:13:24.018469600Z",
     "start_time": "2023-12-03T11:13:23.959965Z"
    }
   },
   "id": "457855997dc1503e"
  },
  {
   "cell_type": "code",
   "execution_count": 80,
   "outputs": [
    {
     "data": {
      "text/plain": "<tf.Tensor: shape=(2, 2), dtype=int32, numpy=\narray([[10,  7],\n       [ 5,  6]])>"
     },
     "execution_count": 80,
     "metadata": {},
     "output_type": "execute_result"
    }
   ],
   "source": [
    "tensor_1"
   ],
   "metadata": {
    "collapsed": false,
    "ExecuteTime": {
     "end_time": "2023-12-03T11:13:47.503155800Z",
     "start_time": "2023-12-03T11:13:47.471799600Z"
    }
   },
   "id": "91dd4be8d30afd65"
  },
  {
   "cell_type": "code",
   "execution_count": 81,
   "outputs": [
    {
     "data": {
      "text/plain": "<tf.Tensor: shape=(2, 2), dtype=int32, numpy=\narray([[135, 112],\n       [ 80,  71]])>"
     },
     "execution_count": 81,
     "metadata": {},
     "output_type": "execute_result"
    }
   ],
   "source": [
    "tensor_1 @ tensor_1"
   ],
   "metadata": {
    "collapsed": false,
    "ExecuteTime": {
     "end_time": "2023-12-03T11:14:02.206887800Z",
     "start_time": "2023-12-03T11:14:02.190962200Z"
    }
   },
   "id": "c2ca8b1ee8f99e5e"
  },
  {
   "cell_type": "code",
   "execution_count": 82,
   "outputs": [
    {
     "data": {
      "text/plain": "(<tf.Tensor: shape=(3, 2), dtype=int32, numpy=\n array([[1, 2],\n        [3, 4],\n        [5, 6]])>,\n <tf.Tensor: shape=(3, 2), dtype=int32, numpy=\n array([[ 7,  8],\n        [ 9, 10],\n        [11, 12]])>)"
     },
     "execution_count": 82,
     "metadata": {},
     "output_type": "execute_result"
    }
   ],
   "source": [
    "x = tf.constant([[1, 2], [3,4 ], [5, 6]])\n",
    "y = tf.constant([[7, 8], [9, 10], [11, 12]])\n",
    "x, y"
   ],
   "metadata": {
    "collapsed": false,
    "ExecuteTime": {
     "end_time": "2023-12-03T11:16:17.446056600Z",
     "start_time": "2023-12-03T11:16:17.399520300Z"
    }
   },
   "id": "4af90196ae7aacf7"
  },
  {
   "cell_type": "markdown",
   "source": [
    "### Transpose of a tensor => tf.transpose(tensor)"
   ],
   "metadata": {
    "collapsed": false
   },
   "id": "c605da19f9716af8"
  },
  {
   "cell_type": "code",
   "execution_count": 85,
   "outputs": [
    {
     "data": {
      "text/plain": "<tf.Tensor: shape=(3, 3), dtype=int32, numpy=\narray([[ 23,  29,  35],\n       [ 53,  67,  81],\n       [ 83, 105, 127]])>"
     },
     "execution_count": 85,
     "metadata": {},
     "output_type": "execute_result"
    }
   ],
   "source": [
    "x @ tf.transpose(y)"
   ],
   "metadata": {
    "collapsed": false,
    "ExecuteTime": {
     "end_time": "2023-12-03T11:16:52.579421Z",
     "start_time": "2023-12-03T11:16:52.555328400Z"
    }
   },
   "id": "1d891066aeebb733"
  },
  {
   "cell_type": "markdown",
   "source": [
    "### Reshaping a tensor => tf.reshape(tensor, shape = ())"
   ],
   "metadata": {
    "collapsed": false
   },
   "id": "138ca7883d353774"
  },
  {
   "cell_type": "code",
   "execution_count": 87,
   "outputs": [
    {
     "data": {
      "text/plain": "<tf.Tensor: shape=(3, 3), dtype=int32, numpy=\narray([[ 27,  30,  33],\n       [ 61,  68,  75],\n       [ 95, 106, 117]])>"
     },
     "execution_count": 87,
     "metadata": {},
     "output_type": "execute_result"
    }
   ],
   "source": [
    "x @ tf.reshape(y, shape=(2, 3))"
   ],
   "metadata": {
    "collapsed": false,
    "ExecuteTime": {
     "end_time": "2023-12-03T11:17:23.444238400Z",
     "start_time": "2023-12-03T11:17:23.412617900Z"
    }
   },
   "id": "2610d3e95cab9dc6"
  },
  {
   "cell_type": "code",
   "execution_count": 90,
   "outputs": [
    {
     "data": {
      "text/plain": "<tf.Tensor: shape=(3, 3), dtype=int32, numpy=\narray([[ 23,  29,  35],\n       [ 53,  67,  81],\n       [ 83, 105, 127]])>"
     },
     "execution_count": 90,
     "metadata": {},
     "output_type": "execute_result"
    }
   ],
   "source": [
    "tf.tensordot(x, tf.transpose(y), axes =  1)"
   ],
   "metadata": {
    "collapsed": false,
    "ExecuteTime": {
     "end_time": "2023-12-03T11:22:38.788127900Z",
     "start_time": "2023-12-03T11:22:38.776085200Z"
    }
   },
   "id": "9f92b658947bb93b"
  },
  {
   "cell_type": "markdown",
   "source": [
    "## Changing Type of a tensor => tf.cast(tensor, dtype = tf.)"
   ],
   "metadata": {
    "collapsed": false
   },
   "id": "f24a780380c7bd11"
  },
  {
   "cell_type": "code",
   "execution_count": 91,
   "outputs": [],
   "source": [
    "B = tf.constant([1.7, 7.4])"
   ],
   "metadata": {
    "collapsed": false,
    "ExecuteTime": {
     "end_time": "2023-12-03T11:28:27.827826100Z",
     "start_time": "2023-12-03T11:28:27.797008800Z"
    }
   },
   "id": "aaf705ecc8dac86a"
  },
  {
   "cell_type": "code",
   "execution_count": 92,
   "outputs": [],
   "source": [
    "C = tf.constant([7, 10])"
   ],
   "metadata": {
    "collapsed": false,
    "ExecuteTime": {
     "end_time": "2023-12-03T11:28:43.778531300Z",
     "start_time": "2023-12-03T11:28:43.750382100Z"
    }
   },
   "id": "c04f05c62670e6d7"
  },
  {
   "cell_type": "code",
   "execution_count": 94,
   "outputs": [
    {
     "data": {
      "text/plain": "<tf.Tensor: shape=(2,), dtype=int32, numpy=array([ 7, 10])>"
     },
     "execution_count": 94,
     "metadata": {},
     "output_type": "execute_result"
    }
   ],
   "source": [
    "C"
   ],
   "metadata": {
    "collapsed": false,
    "ExecuteTime": {
     "end_time": "2023-12-03T11:28:49.577966300Z",
     "start_time": "2023-12-03T11:28:49.545807400Z"
    }
   },
   "id": "464762d8cbd8113c"
  },
  {
   "cell_type": "code",
   "execution_count": 96,
   "outputs": [],
   "source": [
    "D = tf.cast(B, dtype=tf.float16)"
   ],
   "metadata": {
    "collapsed": false,
    "ExecuteTime": {
     "end_time": "2023-12-03T11:30:51.960768500Z",
     "start_time": "2023-12-03T11:30:51.954501500Z"
    }
   },
   "id": "aa19f82da158e3fd"
  },
  {
   "cell_type": "code",
   "execution_count": 97,
   "outputs": [
    {
     "data": {
      "text/plain": "<tf.Tensor: shape=(2,), dtype=float16, numpy=array([1.7, 7.4], dtype=float16)>"
     },
     "execution_count": 97,
     "metadata": {},
     "output_type": "execute_result"
    }
   ],
   "source": [
    "D"
   ],
   "metadata": {
    "collapsed": false,
    "ExecuteTime": {
     "end_time": "2023-12-03T11:30:53.490640700Z",
     "start_time": "2023-12-03T11:30:53.443501Z"
    }
   },
   "id": "671476bd39f27c58"
  },
  {
   "cell_type": "markdown",
   "source": [
    "### Change from int32 to float32"
   ],
   "metadata": {
    "collapsed": false
   },
   "id": "4414448f9ff8c6ba"
  },
  {
   "cell_type": "code",
   "execution_count": 100,
   "outputs": [],
   "source": [
    "E = tf.cast(C, dtype=tf.float32)"
   ],
   "metadata": {
    "collapsed": false,
    "ExecuteTime": {
     "end_time": "2023-12-03T11:31:59.697341900Z",
     "start_time": "2023-12-03T11:31:59.679501900Z"
    }
   },
   "id": "fe81a5f87e3f3cc7"
  },
  {
   "cell_type": "code",
   "execution_count": 101,
   "outputs": [
    {
     "data": {
      "text/plain": "<tf.Tensor: shape=(2,), dtype=float32, numpy=array([ 7., 10.], dtype=float32)>"
     },
     "execution_count": 101,
     "metadata": {},
     "output_type": "execute_result"
    }
   ],
   "source": [
    "E"
   ],
   "metadata": {
    "collapsed": false,
    "ExecuteTime": {
     "end_time": "2023-12-03T11:32:01.936006300Z",
     "start_time": "2023-12-03T11:32:01.888829300Z"
    }
   },
   "id": "2204df69c02e9ce7"
  },
  {
   "cell_type": "markdown",
   "source": [
    "## Tensor Aggregations\n",
    "- Aggregating tensors = condensing them from multiple values down to a smaller amount of values"
   ],
   "metadata": {
    "collapsed": false
   },
   "id": "3ed3c5625cab0792"
  },
  {
   "cell_type": "markdown",
   "source": [
    "### Get the absolute values => tf.abs(tensor)"
   ],
   "metadata": {
    "collapsed": false
   },
   "id": "b8b81ab955f29b7"
  },
  {
   "cell_type": "code",
   "execution_count": 103,
   "outputs": [],
   "source": [
    "D = tf.constant([-7, -10])"
   ],
   "metadata": {
    "collapsed": false,
    "ExecuteTime": {
     "end_time": "2023-12-03T11:34:39.220042700Z",
     "start_time": "2023-12-03T11:34:39.159141700Z"
    }
   },
   "id": "6b96e24705175be5"
  },
  {
   "cell_type": "code",
   "execution_count": 104,
   "outputs": [
    {
     "data": {
      "text/plain": "<tf.Tensor: shape=(2,), dtype=int32, numpy=array([ 7, 10])>"
     },
     "execution_count": 104,
     "metadata": {},
     "output_type": "execute_result"
    }
   ],
   "source": [
    "tf.abs(D)"
   ],
   "metadata": {
    "collapsed": false,
    "ExecuteTime": {
     "end_time": "2023-12-03T11:34:42.292416Z",
     "start_time": "2023-12-03T11:34:42.245230300Z"
    }
   },
   "id": "f8aa92779a5ea182"
  },
  {
   "cell_type": "markdown",
   "source": [
    "### minimum of a tensor => tf.reduce_min(tensor)"
   ],
   "metadata": {
    "collapsed": false
   },
   "id": "a3c68a3528bbfcd8"
  },
  {
   "cell_type": "code",
   "execution_count": 129,
   "outputs": [
    {
     "data": {
      "text/plain": "(<tf.Tensor: shape=(50,), dtype=int32, numpy=\n array([51, 92, 14, 71, 60, 20, 82, 86, 74, 74, 87, 99, 23,  2, 21, 52,  1,\n        87, 29, 37,  1, 63, 59, 20, 32, 75, 57, 21, 88, 48, 90, 58, 41, 91,\n        59, 79, 14, 61, 61, 46, 61, 50, 54, 63,  2, 50,  6, 20, 72, 38])>,\n <tf.Tensor: shape=(), dtype=int32, numpy=50>,\n 1)"
     },
     "execution_count": 129,
     "metadata": {},
     "output_type": "execute_result"
    }
   ],
   "source": [
    "np.random.seed(42)\n",
    "E = tf.constant(np.random.randint(0, 100, size=50))\n",
    "E, tf.size(E), E.ndim"
   ],
   "metadata": {
    "collapsed": false,
    "ExecuteTime": {
     "end_time": "2023-12-03T11:46:11.047945800Z",
     "start_time": "2023-12-03T11:46:11.016265100Z"
    }
   },
   "id": "3db9bd1a3b98dc19"
  },
  {
   "cell_type": "code",
   "execution_count": 116,
   "outputs": [
    {
     "data": {
      "text/plain": "<tf.Tensor: shape=(), dtype=int32, numpy=0>"
     },
     "execution_count": 116,
     "metadata": {},
     "output_type": "execute_result"
    }
   ],
   "source": [
    "tf.reduce_min(E)"
   ],
   "metadata": {
    "collapsed": false,
    "ExecuteTime": {
     "end_time": "2023-12-03T11:39:38.579122200Z",
     "start_time": "2023-12-03T11:39:38.518110200Z"
    }
   },
   "id": "4f25d3a836b97e56"
  },
  {
   "cell_type": "markdown",
   "source": [
    "### Maximum of a tensor => tf.reduce_max(tensor)"
   ],
   "metadata": {
    "collapsed": false
   },
   "id": "10d47e123ef5f2f4"
  },
  {
   "cell_type": "code",
   "execution_count": 118,
   "outputs": [
    {
     "data": {
      "text/plain": "<tf.Tensor: shape=(), dtype=int32, numpy=97>"
     },
     "execution_count": 118,
     "metadata": {},
     "output_type": "execute_result"
    }
   ],
   "source": [
    "tf.reduce_max(E)"
   ],
   "metadata": {
    "collapsed": false,
    "ExecuteTime": {
     "end_time": "2023-12-03T11:39:55.279620700Z",
     "start_time": "2023-12-03T11:39:55.248052Z"
    }
   },
   "id": "7d4e95ec8b5e850b"
  },
  {
   "cell_type": "markdown",
   "source": [
    "### Mean of a tensor => tf.reduce_mean(tensor)"
   ],
   "metadata": {
    "collapsed": false
   },
   "id": "458431448ed1a44"
  },
  {
   "cell_type": "code",
   "execution_count": 119,
   "outputs": [
    {
     "data": {
      "text/plain": "<tf.Tensor: shape=(), dtype=int32, numpy=53>"
     },
     "execution_count": 119,
     "metadata": {},
     "output_type": "execute_result"
    }
   ],
   "source": [
    "tf.reduce_mean(E)"
   ],
   "metadata": {
    "collapsed": false,
    "ExecuteTime": {
     "end_time": "2023-12-03T11:40:09.287154800Z",
     "start_time": "2023-12-03T11:40:09.255431700Z"
    }
   },
   "id": "798dcf8aeb469e4f"
  },
  {
   "cell_type": "markdown",
   "source": [
    "### Sum of a tensor => tf.reduce_sum(tensor)"
   ],
   "metadata": {
    "collapsed": false
   },
   "id": "a0fcc8e844870bf3"
  },
  {
   "cell_type": "code",
   "execution_count": 120,
   "outputs": [
    {
     "data": {
      "text/plain": "<tf.Tensor: shape=(), dtype=int32, numpy=2676>"
     },
     "execution_count": 120,
     "metadata": {},
     "output_type": "execute_result"
    }
   ],
   "source": [
    "tf.reduce_sum(E)"
   ],
   "metadata": {
    "collapsed": false,
    "ExecuteTime": {
     "end_time": "2023-12-03T11:40:21.037534900Z",
     "start_time": "2023-12-03T11:40:21.005168100Z"
    }
   },
   "id": "73f5d9520fea0579"
  },
  {
   "cell_type": "markdown",
   "source": [
    "### Variance of a tensor => tfp.stats.variance(tensor) => we need tensorflow_probability"
   ],
   "metadata": {
    "collapsed": false
   },
   "id": "1c965b9f6a676945"
  },
  {
   "cell_type": "code",
   "execution_count": 123,
   "outputs": [
    {
     "data": {
      "text/plain": "<tf.Tensor: shape=(), dtype=int32, numpy=813>"
     },
     "execution_count": 123,
     "metadata": {},
     "output_type": "execute_result"
    }
   ],
   "source": [
    "import tensorflow_probability as tfp\n",
    "tfp.stats.variance(E)"
   ],
   "metadata": {
    "collapsed": false,
    "ExecuteTime": {
     "end_time": "2023-12-03T11:43:31.904538600Z",
     "start_time": "2023-12-03T11:43:31.869201300Z"
    }
   },
   "id": "74296cfde4b966c9"
  },
  {
   "cell_type": "markdown",
   "source": [
    "### Standard Deviation of a tensor => tf.math.reduce_std(tensor) => tensor should of type float or complex"
   ],
   "metadata": {
    "collapsed": false
   },
   "id": "2b3d90e163019a28"
  },
  {
   "cell_type": "code",
   "execution_count": 126,
   "outputs": [
    {
     "data": {
      "text/plain": "<tf.Tensor: shape=(), dtype=float32, numpy=28.519636>"
     },
     "execution_count": 126,
     "metadata": {},
     "output_type": "execute_result"
    }
   ],
   "source": [
    "tf.math.reduce_std(tf.cast(E, dtype=tf.float32))"
   ],
   "metadata": {
    "collapsed": false,
    "ExecuteTime": {
     "end_time": "2023-12-03T11:45:15.962228900Z",
     "start_time": "2023-12-03T11:45:15.938153Z"
    }
   },
   "id": "3798bef41b2a2ef2"
  },
  {
   "cell_type": "markdown",
   "source": [
    "## Find positional maximum and minimum of a tensor"
   ],
   "metadata": {
    "collapsed": false
   },
   "id": "5e4d19ced98e2c2d"
  },
  {
   "cell_type": "code",
   "execution_count": 140,
   "outputs": [],
   "source": [
    "tf.random.set_seed(42)\n",
    "F = tf.random.uniform(shape=[50])"
   ],
   "metadata": {
    "collapsed": false,
    "ExecuteTime": {
     "end_time": "2023-12-03T11:51:15.396473500Z",
     "start_time": "2023-12-03T11:51:15.380554800Z"
    }
   },
   "id": "265273999d12cc37"
  },
  {
   "cell_type": "code",
   "execution_count": 141,
   "outputs": [
    {
     "data": {
      "text/plain": "<tf.Tensor: shape=(50,), dtype=float32, numpy=\narray([0.6645621 , 0.44100678, 0.3528825 , 0.46448255, 0.03366041,\n       0.68467236, 0.74011743, 0.8724445 , 0.22632635, 0.22319686,\n       0.3103881 , 0.7223358 , 0.13318717, 0.5480639 , 0.5746088 ,\n       0.8996835 , 0.00946367, 0.5212307 , 0.6345445 , 0.1993283 ,\n       0.72942245, 0.54583454, 0.10756552, 0.6767061 , 0.6602763 ,\n       0.33695042, 0.60141766, 0.21062577, 0.8527372 , 0.44062173,\n       0.9485276 , 0.23752594, 0.81179297, 0.5263394 , 0.494308  ,\n       0.21612847, 0.8457197 , 0.8718841 , 0.3083862 , 0.6868038 ,\n       0.23764038, 0.7817228 , 0.9671384 , 0.06870162, 0.79873943,\n       0.66028714, 0.5871513 , 0.16461694, 0.7381023 , 0.32054043],\n      dtype=float32)>"
     },
     "execution_count": 141,
     "metadata": {},
     "output_type": "execute_result"
    }
   ],
   "source": [
    "F"
   ],
   "metadata": {
    "collapsed": false,
    "ExecuteTime": {
     "end_time": "2023-12-03T11:51:15.927556200Z",
     "start_time": "2023-12-03T11:51:15.896166200Z"
    }
   },
   "id": "709c9a1921c5a540"
  },
  {
   "cell_type": "markdown",
   "source": [
    "### Find positional maximum => tf.argmax(tensor)"
   ],
   "metadata": {
    "collapsed": false
   },
   "id": "45eda16d08164c0"
  },
  {
   "cell_type": "code",
   "execution_count": 142,
   "outputs": [
    {
     "data": {
      "text/plain": "<tf.Tensor: shape=(), dtype=int64, numpy=42>"
     },
     "execution_count": 142,
     "metadata": {},
     "output_type": "execute_result"
    }
   ],
   "source": [
    "tf.argmax(F)"
   ],
   "metadata": {
    "collapsed": false,
    "ExecuteTime": {
     "end_time": "2023-12-03T11:51:37.071407600Z",
     "start_time": "2023-12-03T11:51:37.008206900Z"
    }
   },
   "id": "51349075881c3241"
  },
  {
   "cell_type": "code",
   "execution_count": 144,
   "outputs": [
    {
     "data": {
      "text/plain": "<tf.Tensor: shape=(), dtype=float32, numpy=0.9671384>"
     },
     "execution_count": 144,
     "metadata": {},
     "output_type": "execute_result"
    }
   ],
   "source": [
    "F[tf.argmax(F)]"
   ],
   "metadata": {
    "collapsed": false,
    "ExecuteTime": {
     "end_time": "2023-12-03T11:52:08.592996500Z",
     "start_time": "2023-12-03T11:52:08.545911100Z"
    }
   },
   "id": "b9d2d7de66217e90"
  },
  {
   "cell_type": "code",
   "execution_count": 145,
   "outputs": [
    {
     "data": {
      "text/plain": "<tf.Tensor: shape=(), dtype=float32, numpy=0.9671384>"
     },
     "execution_count": 145,
     "metadata": {},
     "output_type": "execute_result"
    }
   ],
   "source": [
    "tf.reduce_max(F)"
   ],
   "metadata": {
    "collapsed": false,
    "ExecuteTime": {
     "end_time": "2023-12-03T11:52:18.223922200Z",
     "start_time": "2023-12-03T11:52:18.145591700Z"
    }
   },
   "id": "2a873ec7498f894"
  },
  {
   "cell_type": "markdown",
   "source": [
    "### Find positional minimum => tf.argmin(tensor)"
   ],
   "metadata": {
    "collapsed": false
   },
   "id": "e979ddb838e1d211"
  },
  {
   "cell_type": "code",
   "execution_count": 148,
   "outputs": [],
   "source": [
    "assert tf.reduce_min(F) == F[tf.argmin(F)]"
   ],
   "metadata": {
    "collapsed": false,
    "ExecuteTime": {
     "end_time": "2023-12-03T11:54:00.114226800Z",
     "start_time": "2023-12-03T11:54:00.087897400Z"
    }
   },
   "id": "5d83fbd739f1032c"
  },
  {
   "cell_type": "code",
   "execution_count": 149,
   "outputs": [
    {
     "data": {
      "text/plain": "<tf.Tensor: shape=(), dtype=float32, numpy=0.009463668>"
     },
     "execution_count": 149,
     "metadata": {},
     "output_type": "execute_result"
    }
   ],
   "source": [
    "tf.reduce_min(F)"
   ],
   "metadata": {
    "collapsed": false,
    "ExecuteTime": {
     "end_time": "2023-12-03T11:54:06.346116600Z",
     "start_time": "2023-12-03T11:54:06.283290100Z"
    }
   },
   "id": "366d59ad94c8d3d0"
  },
  {
   "cell_type": "markdown",
   "source": [
    "## Squeezing a tensor(removing all single dimensions) => tf.squeeze(G) => removes all dimensions of 1"
   ],
   "metadata": {
    "collapsed": false
   },
   "id": "fbafc8d1b3b72a03"
  },
  {
   "cell_type": "code",
   "execution_count": 152,
   "outputs": [],
   "source": [
    "tf.random.set_seed(42)\n",
    "G = tf.constant(tf.random.uniform(shape=[50]), shape=(1,1,1,1, 50))"
   ],
   "metadata": {
    "collapsed": false,
    "ExecuteTime": {
     "end_time": "2023-12-03T11:56:09.231499100Z",
     "start_time": "2023-12-03T11:56:09.203657400Z"
    }
   },
   "id": "4acf265764fb0295"
  },
  {
   "cell_type": "code",
   "execution_count": 153,
   "outputs": [
    {
     "data": {
      "text/plain": "<tf.Tensor: shape=(1, 1, 1, 1, 50), dtype=float32, numpy=\narray([[[[[0.6645621 , 0.44100678, 0.3528825 , 0.46448255, 0.03366041,\n           0.68467236, 0.74011743, 0.8724445 , 0.22632635, 0.22319686,\n           0.3103881 , 0.7223358 , 0.13318717, 0.5480639 , 0.5746088 ,\n           0.8996835 , 0.00946367, 0.5212307 , 0.6345445 , 0.1993283 ,\n           0.72942245, 0.54583454, 0.10756552, 0.6767061 , 0.6602763 ,\n           0.33695042, 0.60141766, 0.21062577, 0.8527372 , 0.44062173,\n           0.9485276 , 0.23752594, 0.81179297, 0.5263394 , 0.494308  ,\n           0.21612847, 0.8457197 , 0.8718841 , 0.3083862 , 0.6868038 ,\n           0.23764038, 0.7817228 , 0.9671384 , 0.06870162, 0.79873943,\n           0.66028714, 0.5871513 , 0.16461694, 0.7381023 , 0.32054043]]]]],\n      dtype=float32)>"
     },
     "execution_count": 153,
     "metadata": {},
     "output_type": "execute_result"
    }
   ],
   "source": [
    "G"
   ],
   "metadata": {
    "collapsed": false,
    "ExecuteTime": {
     "end_time": "2023-12-03T11:56:09.485016400Z",
     "start_time": "2023-12-03T11:56:09.453270100Z"
    }
   },
   "id": "cbfb2edf06eff42b"
  },
  {
   "cell_type": "code",
   "execution_count": 154,
   "outputs": [],
   "source": [
    "G_Squeezed = tf.squeeze(G)"
   ],
   "metadata": {
    "collapsed": false,
    "ExecuteTime": {
     "end_time": "2023-12-03T11:56:34.945474200Z",
     "start_time": "2023-12-03T11:56:34.867039Z"
    }
   },
   "id": "9ea112e176c41d13"
  },
  {
   "cell_type": "code",
   "execution_count": 155,
   "outputs": [
    {
     "data": {
      "text/plain": "TensorShape([50])"
     },
     "execution_count": 155,
     "metadata": {},
     "output_type": "execute_result"
    }
   ],
   "source": [
    "G_Squeezed.shape"
   ],
   "metadata": {
    "collapsed": false,
    "ExecuteTime": {
     "end_time": "2023-12-03T11:56:39.724210700Z",
     "start_time": "2023-12-03T11:56:39.676780200Z"
    }
   },
   "id": "cf5cfee5fca350a5"
  },
  {
   "cell_type": "code",
   "execution_count": 156,
   "outputs": [
    {
     "data": {
      "text/plain": "<tf.Tensor: shape=(1, 1, 1, 1, 50), dtype=float32, numpy=\narray([[[[[0.6645621 , 0.44100678, 0.3528825 , 0.46448255, 0.03366041,\n           0.68467236, 0.74011743, 0.8724445 , 0.22632635, 0.22319686,\n           0.3103881 , 0.7223358 , 0.13318717, 0.5480639 , 0.5746088 ,\n           0.8996835 , 0.00946367, 0.5212307 , 0.6345445 , 0.1993283 ,\n           0.72942245, 0.54583454, 0.10756552, 0.6767061 , 0.6602763 ,\n           0.33695042, 0.60141766, 0.21062577, 0.8527372 , 0.44062173,\n           0.9485276 , 0.23752594, 0.81179297, 0.5263394 , 0.494308  ,\n           0.21612847, 0.8457197 , 0.8718841 , 0.3083862 , 0.6868038 ,\n           0.23764038, 0.7817228 , 0.9671384 , 0.06870162, 0.79873943,\n           0.66028714, 0.5871513 , 0.16461694, 0.7381023 , 0.32054043]]]]],\n      dtype=float32)>"
     },
     "execution_count": 156,
     "metadata": {},
     "output_type": "execute_result"
    }
   ],
   "source": [
    "G"
   ],
   "metadata": {
    "collapsed": false,
    "ExecuteTime": {
     "end_time": "2023-12-03T11:56:45.305211700Z",
     "start_time": "2023-12-03T11:56:45.226832Z"
    }
   },
   "id": "8627ae2902d818e"
  },
  {
   "cell_type": "markdown",
   "source": [
    "## One hot encoding => tf.one_hot(list, depth)"
   ],
   "metadata": {
    "collapsed": false
   },
   "id": "ec35b20dbfd58fad"
  },
  {
   "cell_type": "code",
   "execution_count": 159,
   "outputs": [
    {
     "data": {
      "text/plain": "<tf.Tensor: shape=(4, 3), dtype=float32, numpy=\narray([[1., 0., 0.],\n       [0., 1., 0.],\n       [0., 0., 1.],\n       [0., 0., 0.]], dtype=float32)>"
     },
     "execution_count": 159,
     "metadata": {},
     "output_type": "execute_result"
    }
   ],
   "source": [
    "some_list = [0, 1, 2, 3]\n",
    "tf.one_hot(some_list, depth= 3)"
   ],
   "metadata": {
    "collapsed": false,
    "ExecuteTime": {
     "end_time": "2023-12-03T11:59:19.561817800Z",
     "start_time": "2023-12-03T11:59:19.530525400Z"
    }
   },
   "id": "db4282497ed29910"
  },
  {
   "cell_type": "markdown",
   "source": [
    "### Specify custom values for one hot encoding - tf.one_hot(indices, depth = int_val, off_value =\"\", on_value = \"\")"
   ],
   "metadata": {
    "collapsed": false
   },
   "id": "c36cbd69c7268522"
  },
  {
   "cell_type": "code",
   "execution_count": 160,
   "outputs": [
    {
     "data": {
      "text/plain": "<tf.Tensor: shape=(4, 4), dtype=string, numpy=\narray([[b'Yes', b'No', b'No', b'No'],\n       [b'No', b'Yes', b'No', b'No'],\n       [b'No', b'No', b'Yes', b'No'],\n       [b'No', b'No', b'No', b'Yes']], dtype=object)>"
     },
     "execution_count": 160,
     "metadata": {},
     "output_type": "execute_result"
    }
   ],
   "source": [
    "tf.one_hot(some_list, depth=4, on_value=\"Yes\", off_value=\"No\")"
   ],
   "metadata": {
    "collapsed": false,
    "ExecuteTime": {
     "end_time": "2023-12-03T12:00:31.159182900Z",
     "start_time": "2023-12-03T12:00:31.112083400Z"
    }
   },
   "id": "33e96ee179ecff14"
  },
  {
   "cell_type": "markdown",
   "source": [
    "## More math operations"
   ],
   "metadata": {
    "collapsed": false
   },
   "id": "846e82fe5c72365c"
  },
  {
   "cell_type": "markdown",
   "source": [
    "### Square - tf.square(tensor)"
   ],
   "metadata": {
    "collapsed": false
   },
   "id": "ac9c0848393f14ac"
  },
  {
   "cell_type": "code",
   "execution_count": 161,
   "outputs": [],
   "source": [
    "H = tf.range(1, 10)"
   ],
   "metadata": {
    "collapsed": false,
    "ExecuteTime": {
     "end_time": "2023-12-03T12:02:12.481617600Z",
     "start_time": "2023-12-03T12:02:12.403335300Z"
    }
   },
   "id": "70950a14ae84de4b"
  },
  {
   "cell_type": "code",
   "execution_count": 162,
   "outputs": [
    {
     "data": {
      "text/plain": "<tf.Tensor: shape=(9,), dtype=int32, numpy=array([1, 2, 3, 4, 5, 6, 7, 8, 9])>"
     },
     "execution_count": 162,
     "metadata": {},
     "output_type": "execute_result"
    }
   ],
   "source": [
    "H"
   ],
   "metadata": {
    "collapsed": false,
    "ExecuteTime": {
     "end_time": "2023-12-03T12:02:13.740141800Z",
     "start_time": "2023-12-03T12:02:13.661515700Z"
    }
   },
   "id": "b2868364c72d59ac"
  },
  {
   "cell_type": "code",
   "execution_count": 164,
   "outputs": [
    {
     "data": {
      "text/plain": "<tf.Tensor: shape=(9,), dtype=int32, numpy=array([ 1,  4,  9, 16, 25, 36, 49, 64, 81])>"
     },
     "execution_count": 164,
     "metadata": {},
     "output_type": "execute_result"
    }
   ],
   "source": [
    "tf.square(H)"
   ],
   "metadata": {
    "collapsed": false,
    "ExecuteTime": {
     "end_time": "2023-12-03T12:02:52.067180200Z",
     "start_time": "2023-12-03T12:02:52.051281600Z"
    }
   },
   "id": "f5178f87805f4c95"
  },
  {
   "cell_type": "markdown",
   "source": [
    "### Finding Square root => tf.math.sqrt(tensor) => works only with float or complex types"
   ],
   "metadata": {
    "collapsed": false
   },
   "id": "a968bf8289304d53"
  },
  {
   "cell_type": "code",
   "execution_count": 166,
   "outputs": [
    {
     "data": {
      "text/plain": "<tf.Tensor: shape=(9,), dtype=float32, numpy=\narray([1.       , 1.4142135, 1.7320508, 2.       , 2.236068 , 2.4494898,\n       2.6457512, 2.828427 , 3.       ], dtype=float32)>"
     },
     "execution_count": 166,
     "metadata": {},
     "output_type": "execute_result"
    }
   ],
   "source": [
    "tf.sqrt(tf.cast(H, dtype=tf.float32))"
   ],
   "metadata": {
    "collapsed": false,
    "ExecuteTime": {
     "end_time": "2023-12-03T12:03:38.091510900Z",
     "start_time": "2023-12-03T12:03:38.028274200Z"
    }
   },
   "id": "851408bfbb5a737c"
  },
  {
   "cell_type": "markdown",
   "source": [
    "### Finding log => tf.math.log(tensor) => works only with float or complex types"
   ],
   "metadata": {
    "collapsed": false
   },
   "id": "a40864c39ad9426e"
  },
  {
   "cell_type": "code",
   "execution_count": 169,
   "outputs": [
    {
     "data": {
      "text/plain": "<tf.Tensor: shape=(9,), dtype=float16, numpy=\narray([0.    , 0.6934, 1.099 , 1.387 , 1.609 , 1.792 , 1.946 , 2.08  ,\n       2.197 ], dtype=float16)>"
     },
     "execution_count": 169,
     "metadata": {},
     "output_type": "execute_result"
    }
   ],
   "source": [
    "tf.math.log(tf.cast(H, dtype=tf.float16))"
   ],
   "metadata": {
    "collapsed": false,
    "ExecuteTime": {
     "end_time": "2023-12-03T12:04:35.142338900Z",
     "start_time": "2023-12-03T12:04:35.110785600Z"
    }
   },
   "id": "1416e67d8c45acd4"
  },
  {
   "cell_type": "markdown",
   "source": [
    "## Tensors and Numpy\n",
    "\n",
    "- One of the main differences between a TensorFlow tensor and a numpy is that a TensorFlow can be run on a TPU or GPU(for faster numerical processing)"
   ],
   "metadata": {
    "collapsed": false
   },
   "id": "add12e8d883d65fd"
  },
  {
   "cell_type": "markdown",
   "source": [
    "### Converting tensor to numpy => tensor.numpy()"
   ],
   "metadata": {
    "collapsed": false
   },
   "id": "420421bc01c96f31"
  },
  {
   "cell_type": "code",
   "execution_count": 172,
   "outputs": [],
   "source": [
    "tensor_J = tf.constant(np.array([3.,7.,10.]))"
   ],
   "metadata": {
    "collapsed": false,
    "ExecuteTime": {
     "end_time": "2023-12-03T12:06:39.684770500Z",
     "start_time": "2023-12-03T12:06:39.609961800Z"
    }
   },
   "id": "d9e7b3b3041425df"
  },
  {
   "cell_type": "code",
   "execution_count": 173,
   "outputs": [
    {
     "data": {
      "text/plain": "array([ 3.,  7., 10.])"
     },
     "execution_count": 173,
     "metadata": {},
     "output_type": "execute_result"
    }
   ],
   "source": [
    "tensor_J.numpy()"
   ],
   "metadata": {
    "collapsed": false,
    "ExecuteTime": {
     "end_time": "2023-12-03T12:06:52.172181900Z",
     "start_time": "2023-12-03T12:06:52.093773600Z"
    }
   },
   "id": "172b73a4c7a16953"
  },
  {
   "cell_type": "code",
   "execution_count": 175,
   "outputs": [
    {
     "data": {
      "text/plain": "[]"
     },
     "execution_count": 175,
     "metadata": {},
     "output_type": "execute_result"
    }
   ],
   "source": [
    "tf.config.list_physical_devices('GPU')"
   ],
   "metadata": {
    "collapsed": false,
    "ExecuteTime": {
     "end_time": "2023-12-03T12:09:20.715362100Z",
     "start_time": "2023-12-03T12:09:20.691080300Z"
    }
   },
   "id": "a64fb33abcf29ca8"
  },
  {
   "cell_type": "code",
   "execution_count": 176,
   "outputs": [
    {
     "name": "stdout",
     "output_type": "stream",
     "text": [
      "[name: \"/device:CPU:0\"\n",
      "device_type: \"CPU\"\n",
      "memory_limit: 268435456\n",
      "locality {\n",
      "}\n",
      "incarnation: 14035268028164800258\n",
      "xla_global_id: -1\n",
      "]\n"
     ]
    }
   ],
   "source": [
    "\n",
    "from tensorflow.python.client import device_lib\n",
    "print(device_lib.list_local_devices())"
   ],
   "metadata": {
    "collapsed": false,
    "ExecuteTime": {
     "end_time": "2023-12-03T12:10:15.214061400Z",
     "start_time": "2023-12-03T12:10:15.136774500Z"
    }
   },
   "id": "60b41f7d425d1e9c"
  },
  {
   "cell_type": "code",
   "execution_count": 177,
   "outputs": [
    {
     "data": {
      "text/plain": "[PhysicalDevice(name='/physical_device:CPU:0', device_type='CPU')]"
     },
     "execution_count": 177,
     "metadata": {},
     "output_type": "execute_result"
    }
   ],
   "source": [
    "tf.config.list_physical_devices()"
   ],
   "metadata": {
    "collapsed": false,
    "ExecuteTime": {
     "end_time": "2023-12-03T12:15:53.875021Z",
     "start_time": "2023-12-03T12:15:53.798611900Z"
    }
   },
   "id": "eaedd4d6a1f3729"
  },
  {
   "cell_type": "code",
   "execution_count": null,
   "outputs": [],
   "source": [],
   "metadata": {
    "collapsed": false
   },
   "id": "1bdf038306525780"
  }
 ],
 "metadata": {
  "kernelspec": {
   "display_name": "Python 3",
   "language": "python",
   "name": "python3"
  },
  "language_info": {
   "codemirror_mode": {
    "name": "ipython",
    "version": 2
   },
   "file_extension": ".py",
   "mimetype": "text/x-python",
   "name": "python",
   "nbconvert_exporter": "python",
   "pygments_lexer": "ipython2",
   "version": "2.7.6"
  }
 },
 "nbformat": 4,
 "nbformat_minor": 5
}
