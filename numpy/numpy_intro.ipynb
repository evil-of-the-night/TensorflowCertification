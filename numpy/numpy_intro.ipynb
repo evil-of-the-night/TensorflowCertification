{
 "cells": [
  {
   "cell_type": "markdown",
   "source": [
    "# Numpy"
   ],
   "metadata": {
    "collapsed": false
   },
   "id": "66f86aa4fd1f6d07"
  },
  {
   "cell_type": "code",
   "execution_count": 1,
   "outputs": [],
   "source": [
    "import numpy as np"
   ],
   "metadata": {
    "collapsed": false,
    "ExecuteTime": {
     "end_time": "2023-11-30T23:42:10.173073900Z",
     "start_time": "2023-11-30T23:42:09.535306600Z"
    }
   },
   "id": "1b0e3bcbeed34692"
  },
  {
   "cell_type": "markdown",
   "source": [
    "## DataTypes & Attributes"
   ],
   "metadata": {
    "collapsed": false
   },
   "id": "f7c99817eee66c57"
  },
  {
   "cell_type": "markdown",
   "source": [
    "### Numpy's main datatype is ndarray"
   ],
   "metadata": {
    "collapsed": false
   },
   "id": "d04c79e96af54897"
  },
  {
   "cell_type": "code",
   "execution_count": 2,
   "outputs": [
    {
     "data": {
      "text/plain": "array([1, 2, 3])"
     },
     "execution_count": 2,
     "metadata": {},
     "output_type": "execute_result"
    }
   ],
   "source": [
    "a1 = np.array([1,2,3])\n",
    "a1"
   ],
   "metadata": {
    "collapsed": false,
    "ExecuteTime": {
     "end_time": "2023-11-30T23:42:10.226165800Z",
     "start_time": "2023-11-30T23:42:09.650303400Z"
    }
   },
   "id": "6a738877922bdb17"
  },
  {
   "cell_type": "code",
   "execution_count": 3,
   "outputs": [
    {
     "data": {
      "text/plain": "numpy.ndarray"
     },
     "execution_count": 3,
     "metadata": {},
     "output_type": "execute_result"
    }
   ],
   "source": [
    "type(a1)\n"
   ],
   "metadata": {
    "collapsed": false,
    "ExecuteTime": {
     "end_time": "2023-11-30T23:42:10.226165800Z",
     "start_time": "2023-11-30T23:42:09.709859200Z"
    }
   },
   "id": "8a3a6ef82d9e7208"
  },
  {
   "cell_type": "code",
   "execution_count": 4,
   "outputs": [],
   "source": [
    "a2 = np.array([[1, 2.0, 3.3], [4, 5, 6.5]])"
   ],
   "metadata": {
    "collapsed": false,
    "ExecuteTime": {
     "end_time": "2023-11-30T23:42:10.226165800Z",
     "start_time": "2023-11-30T23:42:09.738610700Z"
    }
   },
   "id": "1d260be7e23e79c8"
  },
  {
   "cell_type": "code",
   "execution_count": 5,
   "outputs": [
    {
     "data": {
      "text/plain": "array([[1. , 2. , 3.3],\n       [4. , 5. , 6.5]])"
     },
     "execution_count": 5,
     "metadata": {},
     "output_type": "execute_result"
    }
   ],
   "source": [
    "a2"
   ],
   "metadata": {
    "collapsed": false,
    "ExecuteTime": {
     "end_time": "2023-11-30T23:42:10.226165800Z",
     "start_time": "2023-11-30T23:42:09.750918800Z"
    }
   },
   "id": "3a69f4c529eef890"
  },
  {
   "cell_type": "code",
   "execution_count": 6,
   "outputs": [],
   "source": [
    "a3 = np.array([[[1, 2, 3],\n",
    "                [4, 5, 6]],\n",
    "               [[7, 8, 9],\n",
    "                [10, 11, 12]],\n",
    "               [[13, 14, 15],\n",
    "                [16, 17, 18]]])"
   ],
   "metadata": {
    "collapsed": false,
    "ExecuteTime": {
     "end_time": "2023-11-30T23:42:10.228881400Z",
     "start_time": "2023-11-30T23:42:09.767438800Z"
    }
   },
   "id": "39d61adc46f309f"
  },
  {
   "cell_type": "code",
   "execution_count": 7,
   "outputs": [
    {
     "data": {
      "text/plain": "array([[[ 1,  2,  3],\n        [ 4,  5,  6]],\n\n       [[ 7,  8,  9],\n        [10, 11, 12]],\n\n       [[13, 14, 15],\n        [16, 17, 18]]])"
     },
     "execution_count": 7,
     "metadata": {},
     "output_type": "execute_result"
    }
   ],
   "source": [
    "a3"
   ],
   "metadata": {
    "collapsed": false,
    "ExecuteTime": {
     "end_time": "2023-11-30T23:42:10.228881400Z",
     "start_time": "2023-11-30T23:42:09.795019500Z"
    }
   },
   "id": "cfe9f62d9fa682ed"
  },
  {
   "cell_type": "markdown",
   "source": [
    "### finding dimensions of numpy array - ar.shape"
   ],
   "metadata": {
    "collapsed": false
   },
   "id": "889fd7f486ddcdbd"
  },
  {
   "cell_type": "code",
   "execution_count": 8,
   "outputs": [
    {
     "data": {
      "text/plain": "(3, 2, 3)"
     },
     "execution_count": 8,
     "metadata": {},
     "output_type": "execute_result"
    }
   ],
   "source": [
    "a3.shape\n"
   ],
   "metadata": {
    "collapsed": false,
    "ExecuteTime": {
     "end_time": "2023-11-30T23:42:10.228881400Z",
     "start_time": "2023-11-30T23:42:09.815946200Z"
    }
   },
   "id": "11788c816ff3c87c"
  },
  {
   "cell_type": "code",
   "execution_count": 9,
   "outputs": [
    {
     "data": {
      "text/plain": "(3,)"
     },
     "execution_count": 9,
     "metadata": {},
     "output_type": "execute_result"
    }
   ],
   "source": [
    "a1.shape\n"
   ],
   "metadata": {
    "collapsed": false,
    "ExecuteTime": {
     "end_time": "2023-11-30T23:42:10.228881400Z",
     "start_time": "2023-11-30T23:42:09.833376200Z"
    }
   },
   "id": "3a5883860953cbc8"
  },
  {
   "cell_type": "code",
   "execution_count": 10,
   "outputs": [
    {
     "data": {
      "text/plain": "(2, 3)"
     },
     "execution_count": 10,
     "metadata": {},
     "output_type": "execute_result"
    }
   ],
   "source": [
    "a2.shape"
   ],
   "metadata": {
    "collapsed": false,
    "ExecuteTime": {
     "end_time": "2023-11-30T23:42:10.228881400Z",
     "start_time": "2023-11-30T23:42:09.858735600Z"
    }
   },
   "id": "f3ba96cd37457394"
  },
  {
   "cell_type": "markdown",
   "source": [
    "### Finding number of dimensions of numpy array - ar.ndmin"
   ],
   "metadata": {
    "collapsed": false
   },
   "id": "cdb6b0534d80709e"
  },
  {
   "cell_type": "code",
   "execution_count": 11,
   "outputs": [
    {
     "data": {
      "text/plain": "(1, 2, 3)"
     },
     "execution_count": 11,
     "metadata": {},
     "output_type": "execute_result"
    }
   ],
   "source": [
    "a1.ndim, a2.ndim, a3.ndim"
   ],
   "metadata": {
    "collapsed": false,
    "ExecuteTime": {
     "end_time": "2023-11-30T23:42:10.228881400Z",
     "start_time": "2023-11-30T23:42:09.905662800Z"
    }
   },
   "id": "7b452bb4749c3af3"
  },
  {
   "cell_type": "markdown",
   "source": [
    "### Finding type of values in numpy array - ar.dtype"
   ],
   "metadata": {
    "collapsed": false
   },
   "id": "884a2a0ec44bc53"
  },
  {
   "cell_type": "code",
   "execution_count": 12,
   "outputs": [
    {
     "data": {
      "text/plain": "(dtype('float64'), dtype('float64'), dtype('int32'))"
     },
     "execution_count": 12,
     "metadata": {},
     "output_type": "execute_result"
    }
   ],
   "source": [
    "a2.dtype, a2.dtype, a3.dtype"
   ],
   "metadata": {
    "collapsed": false,
    "ExecuteTime": {
     "end_time": "2023-11-30T23:42:10.228881400Z",
     "start_time": "2023-11-30T23:42:09.905662800Z"
    }
   },
   "id": "75230556d115e3c5"
  },
  {
   "cell_type": "markdown",
   "source": [
    "### Finding number of values in numpy array - ar.size"
   ],
   "metadata": {
    "collapsed": false
   },
   "id": "a55d4a4121e8ece"
  },
  {
   "cell_type": "code",
   "execution_count": 13,
   "outputs": [
    {
     "data": {
      "text/plain": "(3, 6, 18)"
     },
     "execution_count": 13,
     "metadata": {},
     "output_type": "execute_result"
    }
   ],
   "source": [
    "a1.size, a2.size, a3.size"
   ],
   "metadata": {
    "collapsed": false,
    "ExecuteTime": {
     "end_time": "2023-11-30T23:42:10.228881400Z",
     "start_time": "2023-11-30T23:42:10.000593Z"
    }
   },
   "id": "c7e76a8f74529133"
  },
  {
   "cell_type": "markdown",
   "source": [
    "### Making pandas series using numpy array - pd.Series(ar)"
   ],
   "metadata": {
    "collapsed": false
   },
   "id": "de308a160336b6d5"
  },
  {
   "cell_type": "code",
   "execution_count": 14,
   "outputs": [
    {
     "data": {
      "text/plain": "0    1\n1    2\n2    3\ndtype: int32"
     },
     "execution_count": 14,
     "metadata": {},
     "output_type": "execute_result"
    }
   ],
   "source": [
    "import pandas as pd\n",
    "pd.Series(a1)"
   ],
   "metadata": {
    "collapsed": false,
    "ExecuteTime": {
     "end_time": "2023-11-30T23:42:10.578542800Z",
     "start_time": "2023-11-30T23:42:10.000593Z"
    }
   },
   "id": "2b3644358da122f1"
  },
  {
   "cell_type": "markdown",
   "source": [
    "## Creating Numpy Arrays"
   ],
   "metadata": {
    "collapsed": false
   },
   "id": "9dfc7f3d8dd9dd03"
  },
  {
   "cell_type": "markdown",
   "source": [
    "### Creating using list - np.array(list)"
   ],
   "metadata": {
    "collapsed": false
   },
   "id": "508d3a7f091f858b"
  },
  {
   "cell_type": "code",
   "execution_count": 15,
   "outputs": [
    {
     "data": {
      "text/plain": "array([1, 2, 3])"
     },
     "execution_count": 15,
     "metadata": {},
     "output_type": "execute_result"
    }
   ],
   "source": [
    "sample_array = np.array([1,2,3])\n",
    "sample_array"
   ],
   "metadata": {
    "collapsed": false,
    "ExecuteTime": {
     "end_time": "2023-11-30T23:42:10.588975100Z",
     "start_time": "2023-11-30T23:42:10.372884500Z"
    }
   },
   "id": "7de3df645030a902"
  },
  {
   "cell_type": "markdown",
   "source": [
    "### Creating array of Ones - np.ones((5,), dtype=int) or np.ones(shape)"
   ],
   "metadata": {
    "collapsed": false
   },
   "id": "f2e39161ffa973ed"
  },
  {
   "cell_type": "code",
   "execution_count": 16,
   "outputs": [
    {
     "data": {
      "text/plain": "array([1., 1., 1., 1., 1.])"
     },
     "execution_count": 16,
     "metadata": {},
     "output_type": "execute_result"
    }
   ],
   "source": [
    "np.ones(5)"
   ],
   "metadata": {
    "collapsed": false,
    "ExecuteTime": {
     "end_time": "2023-11-30T23:42:10.590488700Z",
     "start_time": "2023-11-30T23:42:10.381642400Z"
    }
   },
   "id": "5fe9276f31276bc3"
  },
  {
   "cell_type": "code",
   "execution_count": 17,
   "outputs": [],
   "source": [
    "ones = np.ones((2, 3))"
   ],
   "metadata": {
    "collapsed": false,
    "ExecuteTime": {
     "end_time": "2023-11-30T23:42:10.591984800Z",
     "start_time": "2023-11-30T23:42:10.391894700Z"
    }
   },
   "id": "c391cbeb5b3cf651"
  },
  {
   "cell_type": "code",
   "execution_count": 18,
   "outputs": [
    {
     "data": {
      "text/plain": "dtype('float64')"
     },
     "execution_count": 18,
     "metadata": {},
     "output_type": "execute_result"
    }
   ],
   "source": [
    "ones.dtype"
   ],
   "metadata": {
    "collapsed": false,
    "ExecuteTime": {
     "end_time": "2023-11-30T23:42:10.591984800Z",
     "start_time": "2023-11-30T23:42:10.400900Z"
    }
   },
   "id": "5c57984054de61a7"
  },
  {
   "cell_type": "code",
   "execution_count": 19,
   "outputs": [
    {
     "data": {
      "text/plain": "array([[1., 1., 1.],\n       [1., 1., 1.]])"
     },
     "execution_count": 19,
     "metadata": {},
     "output_type": "execute_result"
    }
   ],
   "source": [
    "ones"
   ],
   "metadata": {
    "collapsed": false,
    "ExecuteTime": {
     "end_time": "2023-11-30T23:42:10.591984800Z",
     "start_time": "2023-11-30T23:42:10.413277400Z"
    }
   },
   "id": "e02c4b1716d08980"
  },
  {
   "cell_type": "markdown",
   "source": [
    "### Creating numpy array of zeros - np.zeros(shape, dtype)"
   ],
   "metadata": {
    "collapsed": false
   },
   "id": "365651b49f9f042"
  },
  {
   "cell_type": "code",
   "execution_count": 20,
   "outputs": [],
   "source": [
    "zeros = np.zeros((2, 3), dtype=float)"
   ],
   "metadata": {
    "collapsed": false,
    "ExecuteTime": {
     "end_time": "2023-11-30T23:42:10.591984800Z",
     "start_time": "2023-11-30T23:42:10.421171600Z"
    }
   },
   "id": "9e5a1b513ca373f6"
  },
  {
   "cell_type": "code",
   "execution_count": 21,
   "outputs": [
    {
     "data": {
      "text/plain": "array([[0., 0., 0.],\n       [0., 0., 0.]])"
     },
     "execution_count": 21,
     "metadata": {},
     "output_type": "execute_result"
    }
   ],
   "source": [
    "zeros"
   ],
   "metadata": {
    "collapsed": false,
    "ExecuteTime": {
     "end_time": "2023-11-30T23:42:10.591984800Z",
     "start_time": "2023-11-30T23:42:10.429300200Z"
    }
   },
   "id": "c6610fabaaa7212c"
  },
  {
   "cell_type": "markdown",
   "source": [
    "### Creating even spaced values numpy array - np.arange(start, stop, step)"
   ],
   "metadata": {
    "collapsed": false
   },
   "id": "d128a042f0d11ce7"
  },
  {
   "cell_type": "code",
   "execution_count": 22,
   "outputs": [],
   "source": [
    "range_array = np.arange(0, 10, 2)"
   ],
   "metadata": {
    "collapsed": false,
    "ExecuteTime": {
     "end_time": "2023-11-30T23:42:10.591984800Z",
     "start_time": "2023-11-30T23:42:10.439404400Z"
    }
   },
   "id": "c9da55ad75982651"
  },
  {
   "cell_type": "code",
   "execution_count": 23,
   "outputs": [
    {
     "data": {
      "text/plain": "array([0, 2, 4, 6, 8])"
     },
     "execution_count": 23,
     "metadata": {},
     "output_type": "execute_result"
    }
   ],
   "source": [
    "range_array"
   ],
   "metadata": {
    "collapsed": false,
    "ExecuteTime": {
     "end_time": "2023-11-30T23:42:10.591984800Z",
     "start_time": "2023-11-30T23:42:10.449271Z"
    }
   },
   "id": "978fa0cff006a556"
  },
  {
   "cell_type": "markdown",
   "source": [
    "### Creating numpy array with random values - np.random.randint(start, stop, size = (3, 5))"
   ],
   "metadata": {
    "collapsed": false
   },
   "id": "dc9cc49886459e62"
  },
  {
   "cell_type": "code",
   "execution_count": 24,
   "outputs": [],
   "source": [
    "random_array = np.random.randint(0, 10, size = (3, 5))"
   ],
   "metadata": {
    "collapsed": false,
    "ExecuteTime": {
     "end_time": "2023-11-30T23:42:10.591984800Z",
     "start_time": "2023-11-30T23:42:10.462979800Z"
    }
   },
   "id": "4fe7f74d1ffcf550"
  },
  {
   "cell_type": "code",
   "execution_count": 25,
   "outputs": [
    {
     "data": {
      "text/plain": "array([[4, 3, 0, 2, 5],\n       [7, 2, 9, 3, 3],\n       [8, 1, 6, 7, 3]])"
     },
     "execution_count": 25,
     "metadata": {},
     "output_type": "execute_result"
    }
   ],
   "source": [
    "random_array"
   ],
   "metadata": {
    "collapsed": false,
    "ExecuteTime": {
     "end_time": "2023-11-30T23:42:10.599810400Z",
     "start_time": "2023-11-30T23:42:10.483373500Z"
    }
   },
   "id": "4555f5d44595c499"
  },
  {
   "cell_type": "markdown",
   "source": [
    "### Creating numpy array with random values ranging from [0.0, 1.0) - np.random.random(size = ()) or np.random.rand(d1, d2, ....)"
   ],
   "metadata": {
    "collapsed": false
   },
   "id": "bfa56a93e7a1a655"
  },
  {
   "cell_type": "code",
   "execution_count": 26,
   "outputs": [],
   "source": [
    "random_array2 = np.random.random(size = (5, 3))"
   ],
   "metadata": {
    "collapsed": false,
    "ExecuteTime": {
     "end_time": "2023-11-30T23:42:10.600319500Z",
     "start_time": "2023-11-30T23:42:10.495576500Z"
    }
   },
   "id": "9241bdd5e43a0c28"
  },
  {
   "cell_type": "code",
   "execution_count": 27,
   "outputs": [
    {
     "data": {
      "text/plain": "array([[0.74256491, 0.09759443, 0.31606917],\n       [0.40411873, 0.54276758, 0.08658036],\n       [0.67203402, 0.4866741 , 0.83737854],\n       [0.18640708, 0.20693461, 0.87295403],\n       [0.04286679, 0.40052153, 0.44445359]])"
     },
     "execution_count": 27,
     "metadata": {},
     "output_type": "execute_result"
    }
   ],
   "source": [
    "random_array2"
   ],
   "metadata": {
    "collapsed": false,
    "ExecuteTime": {
     "end_time": "2023-11-30T23:42:10.600319500Z",
     "start_time": "2023-11-30T23:42:10.500288600Z"
    }
   },
   "id": "b8e90f1acd647992"
  },
  {
   "cell_type": "code",
   "execution_count": 28,
   "outputs": [],
   "source": [
    "random_array3 = np.random.rand(5, 3)"
   ],
   "metadata": {
    "collapsed": false,
    "ExecuteTime": {
     "end_time": "2023-11-30T23:42:10.600319500Z",
     "start_time": "2023-11-30T23:42:10.509629100Z"
    }
   },
   "id": "c9cdf473660ce1ba"
  },
  {
   "cell_type": "code",
   "execution_count": 29,
   "outputs": [
    {
     "data": {
      "text/plain": "array([[0.84544753, 0.46183084, 0.59549848],\n       [0.66596444, 0.79373105, 0.85300876],\n       [0.03219947, 0.76836055, 0.1179606 ],\n       [0.44112806, 0.37400591, 0.79102016],\n       [0.27579908, 0.62168211, 0.13907712]])"
     },
     "execution_count": 29,
     "metadata": {},
     "output_type": "execute_result"
    }
   ],
   "source": [
    "random_array3"
   ],
   "metadata": {
    "collapsed": false,
    "ExecuteTime": {
     "end_time": "2023-11-30T23:42:10.600319500Z",
     "start_time": "2023-11-30T23:42:10.518028600Z"
    }
   },
   "id": "1b438594ba5bc1a1"
  },
  {
   "cell_type": "markdown",
   "source": [
    "### Getting same numpy random array - np.random.seed(seed_value)"
   ],
   "metadata": {
    "collapsed": false
   },
   "id": "46a5318eceadeae2"
  },
  {
   "cell_type": "code",
   "execution_count": 30,
   "outputs": [
    {
     "data": {
      "text/plain": "array([[5, 0, 3],\n       [3, 7, 9],\n       [3, 5, 2],\n       [4, 7, 6],\n       [8, 8, 1]])"
     },
     "execution_count": 30,
     "metadata": {},
     "output_type": "execute_result"
    }
   ],
   "source": [
    "np.random.seed(0)\n",
    "random_array4 = np.random.randint(10, size = (5, 3))\n",
    "random_array4"
   ],
   "metadata": {
    "collapsed": false,
    "ExecuteTime": {
     "end_time": "2023-11-30T23:42:10.600319500Z",
     "start_time": "2023-11-30T23:42:10.528078100Z"
    }
   },
   "id": "b193061ec42dca39"
  },
  {
   "cell_type": "code",
   "execution_count": 31,
   "outputs": [
    {
     "data": {
      "text/plain": "(5, 3)"
     },
     "execution_count": 31,
     "metadata": {},
     "output_type": "execute_result"
    }
   ],
   "source": [
    "random_array4.shape"
   ],
   "metadata": {
    "collapsed": false,
    "ExecuteTime": {
     "end_time": "2023-11-30T23:42:10.600319500Z",
     "start_time": "2023-11-30T23:42:10.539125300Z"
    }
   },
   "id": "8f4987156e648890"
  },
  {
   "cell_type": "code",
   "execution_count": 32,
   "outputs": [
    {
     "data": {
      "text/plain": "array([[0.07630829, 0.77991879, 0.43840923],\n       [0.72346518, 0.97798951, 0.53849587],\n       [0.50112046, 0.07205113, 0.26843898],\n       [0.4998825 , 0.67923   , 0.80373904],\n       [0.38094113, 0.06593635, 0.2881456 ]])"
     },
     "execution_count": 32,
     "metadata": {},
     "output_type": "execute_result"
    }
   ],
   "source": [
    "np.random.seed(7)\n",
    "random_array5 = np.random.rand(5, 3)\n",
    "random_array5"
   ],
   "metadata": {
    "collapsed": false,
    "ExecuteTime": {
     "end_time": "2023-11-30T23:42:10.600319500Z",
     "start_time": "2023-11-30T23:42:10.547692300Z"
    }
   },
   "id": "71576a2fc0b4fa49"
  },
  {
   "cell_type": "markdown",
   "source": [
    "## Viewing Arrays and Matrices"
   ],
   "metadata": {
    "collapsed": false
   },
   "id": "f1c154338e0efb77"
  },
  {
   "cell_type": "markdown",
   "source": [
    "### Finding unique element in the numpy array - np.unique(ar)"
   ],
   "metadata": {
    "collapsed": false
   },
   "id": "f4a99ae78edf29ae"
  },
  {
   "cell_type": "code",
   "execution_count": 33,
   "outputs": [
    {
     "data": {
      "text/plain": "array([0, 1, 2, 3, 4, 5, 6, 7, 8, 9])"
     },
     "execution_count": 33,
     "metadata": {},
     "output_type": "execute_result"
    }
   ],
   "source": [
    "np.unique(random_array4)"
   ],
   "metadata": {
    "collapsed": false,
    "ExecuteTime": {
     "end_time": "2023-11-30T23:42:10.600319500Z",
     "start_time": "2023-11-30T23:42:10.562047800Z"
    }
   },
   "id": "e2100c1d9a69d02"
  },
  {
   "cell_type": "code",
   "execution_count": 33,
   "outputs": [],
   "source": [],
   "metadata": {
    "collapsed": false,
    "ExecuteTime": {
     "end_time": "2023-11-30T23:42:10.600319500Z",
     "start_time": "2023-11-30T23:42:10.571492200Z"
    }
   },
   "id": "7df27d4b9fbf6834"
  },
  {
   "cell_type": "markdown",
   "source": [
    "### Indexing elements of numpy array - ar[:, :] (anything more than 1 dim is called matrix)(any dim is called array)"
   ],
   "metadata": {
    "collapsed": false
   },
   "id": "972a277009d6cfe7"
  },
  {
   "cell_type": "code",
   "execution_count": 34,
   "outputs": [
    {
     "data": {
      "text/plain": "(1,)"
     },
     "execution_count": 34,
     "metadata": {},
     "output_type": "execute_result"
    }
   ],
   "source": [
    "a1[0], "
   ],
   "metadata": {
    "collapsed": false,
    "ExecuteTime": {
     "end_time": "2023-11-30T23:42:10.600319500Z",
     "start_time": "2023-11-30T23:42:10.574508300Z"
    }
   },
   "id": "ee17210326a5dbe8"
  },
  {
   "cell_type": "code",
   "execution_count": 35,
   "outputs": [
    {
     "data": {
      "text/plain": "array([[[ 1,  2],\n        [ 4,  5]],\n\n       [[ 7,  8],\n        [10, 11]]])"
     },
     "execution_count": 35,
     "metadata": {},
     "output_type": "execute_result"
    }
   ],
   "source": [
    "a3[:2, :2, :2]"
   ],
   "metadata": {
    "collapsed": false,
    "ExecuteTime": {
     "end_time": "2023-11-30T23:42:10.627470600Z",
     "start_time": "2023-11-30T23:42:10.578542800Z"
    }
   },
   "id": "8b1dacbd09f1c012"
  },
  {
   "cell_type": "code",
   "execution_count": 36,
   "outputs": [
    {
     "data": {
      "text/plain": "array([[[[3, 5, 8, 8, 7],\n         [5, 0, 0, 2, 8],\n         [9, 6, 4, 9, 7],\n         [3, 3, 8, 3, 0]],\n\n        [[1, 0, 0, 6, 7],\n         [7, 9, 3, 0, 7],\n         [7, 7, 0, 5, 4],\n         [3, 1, 3, 1, 3]],\n\n        [[4, 3, 1, 9, 5],\n         [9, 1, 2, 3, 2],\n         [2, 5, 7, 3, 0],\n         [9, 9, 3, 4, 5]]],\n\n\n       [[[3, 0, 4, 8, 6],\n         [7, 2, 7, 3, 8],\n         [6, 6, 5, 6, 5],\n         [7, 1, 5, 4, 4]],\n\n        [[9, 9, 0, 6, 2],\n         [6, 8, 2, 4, 1],\n         [6, 1, 5, 1, 6],\n         [9, 8, 6, 5, 9]],\n\n        [[7, 5, 4, 9, 6],\n         [8, 1, 5, 5, 8],\n         [3, 7, 7, 9, 4],\n         [7, 5, 9, 6, 2]]]])"
     },
     "execution_count": 36,
     "metadata": {},
     "output_type": "execute_result"
    }
   ],
   "source": [
    "a4 = np.random.randint(10, size = (2,3,4,5))\n",
    "a4"
   ],
   "metadata": {
    "collapsed": false,
    "ExecuteTime": {
     "end_time": "2023-11-30T23:42:10.679939400Z",
     "start_time": "2023-11-30T23:42:10.591984800Z"
    }
   },
   "id": "dae333eaf0ce84c9"
  },
  {
   "cell_type": "code",
   "execution_count": 37,
   "outputs": [
    {
     "data": {
      "text/plain": "((2, 3, 4, 5), 4)"
     },
     "execution_count": 37,
     "metadata": {},
     "output_type": "execute_result"
    }
   ],
   "source": [
    "a4.shape, a4.ndim"
   ],
   "metadata": {
    "collapsed": false,
    "ExecuteTime": {
     "end_time": "2023-11-30T23:42:10.930286100Z",
     "start_time": "2023-11-30T23:42:10.600319500Z"
    }
   },
   "id": "f6f1a0dc102bacc2"
  },
  {
   "cell_type": "code",
   "execution_count": 38,
   "outputs": [
    {
     "data": {
      "text/plain": "array([[[[3, 5, 8, 8]],\n\n        [[1, 0, 0, 6]],\n\n        [[4, 3, 1, 9]]],\n\n\n       [[[3, 0, 4, 8]],\n\n        [[9, 9, 0, 6]],\n\n        [[7, 5, 4, 9]]]])"
     },
     "execution_count": 38,
     "metadata": {},
     "output_type": "execute_result"
    }
   ],
   "source": [
    "a4[:, :, :1, :4]"
   ],
   "metadata": {
    "collapsed": false,
    "ExecuteTime": {
     "end_time": "2023-11-30T23:42:10.930286100Z",
     "start_time": "2023-11-30T23:42:10.609585400Z"
    }
   },
   "id": "ad93e883e192b438"
  },
  {
   "cell_type": "markdown",
   "source": [
    "## Manipulating & Comparing Arrays"
   ],
   "metadata": {
    "collapsed": false
   },
   "id": "7e9366463eae9750"
  },
  {
   "cell_type": "markdown",
   "source": [
    "### Arithmetic Operators - Subject to certain constraints, the smaller array is broadcast across the large array so that they have compatible shapes."
   ],
   "metadata": {
    "collapsed": false
   },
   "id": "3ce69bda381f00be"
  },
  {
   "cell_type": "markdown",
   "source": [
    "### Arithmetic Operator add - ar1 + ar2 "
   ],
   "metadata": {
    "collapsed": false
   },
   "id": "9db6a64049548594"
  },
  {
   "cell_type": "code",
   "execution_count": 39,
   "outputs": [],
   "source": [
    "ones = np.ones(3)"
   ],
   "metadata": {
    "collapsed": false,
    "ExecuteTime": {
     "end_time": "2023-11-30T23:42:10.930286100Z",
     "start_time": "2023-11-30T23:42:10.622080900Z"
    }
   },
   "id": "f81e3b14c5338c4c"
  },
  {
   "cell_type": "code",
   "execution_count": 40,
   "outputs": [
    {
     "data": {
      "text/plain": "array([2., 3., 4.])"
     },
     "execution_count": 40,
     "metadata": {},
     "output_type": "execute_result"
    }
   ],
   "source": [
    "a1 + ones"
   ],
   "metadata": {
    "collapsed": false,
    "ExecuteTime": {
     "end_time": "2023-11-30T23:42:10.930286100Z",
     "start_time": "2023-11-30T23:42:10.627470600Z"
    }
   },
   "id": "88c9bcc4bb98f7d9"
  },
  {
   "cell_type": "code",
   "execution_count": 41,
   "outputs": [
    {
     "data": {
      "text/plain": "array([1, 2, 3])"
     },
     "execution_count": 41,
     "metadata": {},
     "output_type": "execute_result"
    }
   ],
   "source": [
    "a1"
   ],
   "metadata": {
    "collapsed": false,
    "ExecuteTime": {
     "end_time": "2023-11-30T23:42:10.930286100Z",
     "start_time": "2023-11-30T23:42:10.641649700Z"
    }
   },
   "id": "14831bcb0a1480e4"
  },
  {
   "cell_type": "markdown",
   "source": [
    "### Arithmetic Operation sub - ar1 - ar2"
   ],
   "metadata": {
    "collapsed": false
   },
   "id": "bb3a862d8738a105"
  },
  {
   "cell_type": "code",
   "execution_count": 42,
   "outputs": [
    {
     "data": {
      "text/plain": "array([0., 1., 2.])"
     },
     "execution_count": 42,
     "metadata": {},
     "output_type": "execute_result"
    }
   ],
   "source": [
    "a1 - ones"
   ],
   "metadata": {
    "collapsed": false,
    "ExecuteTime": {
     "end_time": "2023-11-30T23:42:11.055936900Z",
     "start_time": "2023-11-30T23:42:10.650072400Z"
    }
   },
   "id": "32a0e23772f900ce"
  },
  {
   "cell_type": "markdown",
   "source": [
    "### Arithmetic Operator mul - ar1 * ar2"
   ],
   "metadata": {
    "collapsed": false
   },
   "id": "736a61553654c062"
  },
  {
   "cell_type": "code",
   "execution_count": 43,
   "outputs": [
    {
     "data": {
      "text/plain": "array([1., 2., 3.])"
     },
     "execution_count": 43,
     "metadata": {},
     "output_type": "execute_result"
    }
   ],
   "source": [
    "a1 * ones"
   ],
   "metadata": {
    "collapsed": false,
    "ExecuteTime": {
     "end_time": "2023-11-30T23:42:11.055936900Z",
     "start_time": "2023-11-30T23:42:10.662031300Z"
    }
   },
   "id": "459b2005712c2936"
  },
  {
   "cell_type": "code",
   "execution_count": 44,
   "outputs": [
    {
     "data": {
      "text/plain": "array([[ 1. ,  4. ,  9.9],\n       [ 4. , 10. , 19.5]])"
     },
     "execution_count": 44,
     "metadata": {},
     "output_type": "execute_result"
    }
   ],
   "source": [
    "a1 * a2"
   ],
   "metadata": {
    "collapsed": false,
    "ExecuteTime": {
     "end_time": "2023-11-30T23:42:11.055936900Z",
     "start_time": "2023-11-30T23:42:10.670093600Z"
    }
   },
   "id": "f107c08e7685b361"
  },
  {
   "cell_type": "code",
   "execution_count": 45,
   "outputs": [
    {
     "data": {
      "text/plain": "array([[[  1. ,   4. ,   9.9],\n        [ 16. ,  25. ,  39. ]],\n\n       [[  7. ,  16. ,  29.7],\n        [ 40. ,  55. ,  78. ]],\n\n       [[ 13. ,  28. ,  49.5],\n        [ 64. ,  85. , 117. ]]])"
     },
     "execution_count": 45,
     "metadata": {},
     "output_type": "execute_result"
    }
   ],
   "source": [
    "a2 * a3"
   ],
   "metadata": {
    "collapsed": false,
    "ExecuteTime": {
     "end_time": "2023-11-30T23:42:11.055936900Z",
     "start_time": "2023-11-30T23:42:10.679939400Z"
    }
   },
   "id": "e81e5a09ac5077d9"
  },
  {
   "cell_type": "code",
   "execution_count": 46,
   "outputs": [
    {
     "data": {
      "text/plain": "array([1., 2., 3.])"
     },
     "execution_count": 46,
     "metadata": {},
     "output_type": "execute_result"
    }
   ],
   "source": [
    "a1 / ones"
   ],
   "metadata": {
    "collapsed": false,
    "ExecuteTime": {
     "end_time": "2023-11-30T23:42:11.055936900Z",
     "start_time": "2023-11-30T23:42:10.690191400Z"
    }
   },
   "id": "44e4b390f8d5af72"
  },
  {
   "cell_type": "markdown",
   "source": [
    "### Arithmetic Operation - floor division ar1 // ar2"
   ],
   "metadata": {
    "collapsed": false
   },
   "id": "955c1ab4d3bcda54"
  },
  {
   "cell_type": "code",
   "execution_count": 47,
   "outputs": [
    {
     "data": {
      "text/plain": "array([[1., 1., 1.],\n       [4., 2., 2.]])"
     },
     "execution_count": 47,
     "metadata": {},
     "output_type": "execute_result"
    }
   ],
   "source": [
    "a2 // a1"
   ],
   "metadata": {
    "collapsed": false,
    "ExecuteTime": {
     "end_time": "2023-11-30T23:42:11.055936900Z",
     "start_time": "2023-11-30T23:42:10.701903900Z"
    }
   },
   "id": "1fb28425cbac3ed2"
  },
  {
   "cell_type": "markdown",
   "source": [
    "### Arithmetic Operation square ar1 ** 2 or np.square(ar1)"
   ],
   "metadata": {
    "collapsed": false
   },
   "id": "71813e6a224cf060"
  },
  {
   "cell_type": "code",
   "execution_count": 48,
   "outputs": [
    {
     "data": {
      "text/plain": "array([1, 4, 9])"
     },
     "execution_count": 48,
     "metadata": {},
     "output_type": "execute_result"
    }
   ],
   "source": [
    "np.square(a1)"
   ],
   "metadata": {
    "collapsed": false,
    "ExecuteTime": {
     "end_time": "2023-11-30T23:42:11.055936900Z",
     "start_time": "2023-11-30T23:42:10.709701700Z"
    }
   },
   "id": "9ed1cf3083f083de"
  },
  {
   "cell_type": "markdown",
   "source": [
    "### Log operation on numpy array np.log(ar)"
   ],
   "metadata": {
    "collapsed": false
   },
   "id": "e8811fa8abeaa82c"
  },
  {
   "cell_type": "code",
   "execution_count": 49,
   "outputs": [
    {
     "data": {
      "text/plain": "array([0.        , 0.69314718, 1.09861229])"
     },
     "execution_count": 49,
     "metadata": {},
     "output_type": "execute_result"
    }
   ],
   "source": [
    "np.log(a1)"
   ],
   "metadata": {
    "collapsed": false,
    "ExecuteTime": {
     "end_time": "2023-11-30T23:42:11.055936900Z",
     "start_time": "2023-11-30T23:42:10.723045400Z"
    }
   },
   "id": "55d16744326a7b31"
  },
  {
   "cell_type": "markdown",
   "source": [
    "## Aggregation\n",
    "Aggregation = performing the same operation on a number of things."
   ],
   "metadata": {
    "collapsed": false
   },
   "id": "f5b45817a63ad3b3"
  },
  {
   "cell_type": "markdown",
   "source": [
    "### np.sum() - use it for numpy arrays even though we can do using sum(npar)"
   ],
   "metadata": {
    "collapsed": false
   },
   "id": "5d9d3c71d40804eb"
  },
  {
   "cell_type": "code",
   "execution_count": 50,
   "outputs": [
    {
     "data": {
      "text/plain": "6"
     },
     "execution_count": 50,
     "metadata": {},
     "output_type": "execute_result"
    }
   ],
   "source": [
    "np.sum([1,2,3])"
   ],
   "metadata": {
    "collapsed": false,
    "ExecuteTime": {
     "end_time": "2023-11-30T23:44:02.068250200Z",
     "start_time": "2023-11-30T23:44:02.021931400Z"
    }
   },
   "id": "96cb39e918a189e3"
  },
  {
   "cell_type": "markdown",
   "source": [
    "### sum() - use it for python lists"
   ],
   "metadata": {
    "collapsed": false
   },
   "id": "7ac73c5fc43ae38a"
  },
  {
   "cell_type": "code",
   "execution_count": 51,
   "outputs": [
    {
     "data": {
      "text/plain": "(6, 15)"
     },
     "execution_count": 51,
     "metadata": {},
     "output_type": "execute_result"
    }
   ],
   "source": [
    "sum(a1), sum([4,5,6])"
   ],
   "metadata": {
    "collapsed": false,
    "ExecuteTime": {
     "end_time": "2023-11-30T23:46:25.096447100Z",
     "start_time": "2023-11-30T23:46:25.080620300Z"
    }
   },
   "id": "94e7c01e51454e1a"
  },
  {
   "cell_type": "markdown",
   "source": [
    "### Proof why np.sum() is better in case of numpy arrays then python's sum() method"
   ],
   "metadata": {
    "collapsed": false
   },
   "id": "e7607b99777724fb"
  },
  {
   "cell_type": "code",
   "execution_count": 52,
   "outputs": [],
   "source": [
    "massive_array = np.random.random(size = (100000,))"
   ],
   "metadata": {
    "collapsed": false,
    "ExecuteTime": {
     "end_time": "2023-11-30T23:47:41.155879600Z",
     "start_time": "2023-11-30T23:47:41.061309700Z"
    }
   },
   "id": "fec568f176e1a0d3"
  },
  {
   "cell_type": "code",
   "execution_count": 53,
   "outputs": [
    {
     "data": {
      "text/plain": "array([0.82845319, 0.94180927, 0.12814785, 0.23043067, 0.6591584 ,\n       0.13247399, 0.22407864, 0.57486259, 0.16952372, 0.78223015,\n       0.85697563, 0.0336742 , 0.5326448 , 0.79695136, 0.97513968,\n       0.27425859, 0.16910106, 0.87670093, 0.90918246, 0.19753289,\n       0.44152974, 0.71923214, 0.84534516, 0.16827531, 0.66496896,\n       0.80783546, 0.54971412, 0.16471666, 0.0355288 , 0.28153382,\n       0.80787085, 0.04476626, 0.00821651, 0.36161665, 0.06362229,\n       0.1494863 , 0.02319037, 0.52471984, 0.6966959 , 0.42705349,\n       0.13457046, 0.33135721, 0.59034585, 0.94066139, 0.99255772,\n       0.24160292, 0.01057991, 0.83064033, 0.92661294, 0.45860348,\n       0.77144234, 0.86619903, 0.6096148 , 0.87262718, 0.02390303,\n       0.27159522, 0.27721958, 0.12063243, 0.91071345, 0.03043927,\n       0.67256103, 0.07133969, 0.36078049, 0.41809954, 0.18140429,\n       0.5210141 , 0.53499176, 0.31704388, 0.73708806, 0.16020241,\n       0.19250822, 0.35451102, 0.37837613, 0.20628586, 0.91870921,\n       0.82809357, 0.10687674, 0.36948592, 0.2326711 , 0.4510786 ,\n       0.27631719, 0.50180689, 0.92260315, 0.38251114, 0.65012833,\n       0.59562111, 0.75195356, 0.06166533, 0.74482367, 0.94627593,\n       0.60355955, 0.28757994, 0.67236922, 0.71204879, 0.65645029,\n       0.14693032, 0.97347557, 0.95538345, 0.42462553, 0.59363733])"
     },
     "execution_count": 53,
     "metadata": {},
     "output_type": "execute_result"
    }
   ],
   "source": [
    "massive_array[:100]"
   ],
   "metadata": {
    "collapsed": false,
    "ExecuteTime": {
     "end_time": "2023-11-30T23:47:50.080029800Z",
     "start_time": "2023-11-30T23:47:50.065264700Z"
    }
   },
   "id": "6c919b51dfc080e0"
  },
  {
   "cell_type": "code",
   "execution_count": 54,
   "outputs": [
    {
     "name": "stdout",
     "output_type": "stream",
     "text": [
      "5.16 ms ± 315 µs per loop (mean ± std. dev. of 7 runs, 100 loops each)\n",
      "20.5 µs ± 1.09 µs per loop (mean ± std. dev. of 7 runs, 10,000 loops each)\n"
     ]
    }
   ],
   "source": [
    "%timeit sum(massive_array)\n",
    "%timeit np.sum(massive_array)"
   ],
   "metadata": {
    "collapsed": false,
    "ExecuteTime": {
     "end_time": "2023-11-30T23:48:42.138291900Z",
     "start_time": "2023-11-30T23:48:35.760838500Z"
    }
   },
   "id": "b579c0a2dc14e7df"
  },
  {
   "cell_type": "markdown",
   "source": [
    "### np.mean()"
   ],
   "metadata": {
    "collapsed": false
   },
   "id": "6b053c3bdd47459e"
  },
  {
   "cell_type": "code",
   "execution_count": 55,
   "outputs": [
    {
     "data": {
      "text/plain": "3.6333333333333333"
     },
     "execution_count": 55,
     "metadata": {},
     "output_type": "execute_result"
    }
   ],
   "source": [
    "np.mean(a2)"
   ],
   "metadata": {
    "collapsed": false,
    "ExecuteTime": {
     "end_time": "2023-11-30T23:50:08.972066Z",
     "start_time": "2023-11-30T23:50:08.940407600Z"
    }
   },
   "id": "75109fc47cb5b98c"
  },
  {
   "cell_type": "markdown",
   "source": [
    "### np.min(), np.max()"
   ],
   "metadata": {
    "collapsed": false
   },
   "id": "4a7c3f701002e3d"
  },
  {
   "cell_type": "code",
   "execution_count": 56,
   "outputs": [
    {
     "data": {
      "text/plain": "(1.0, 6.5)"
     },
     "execution_count": 56,
     "metadata": {},
     "output_type": "execute_result"
    }
   ],
   "source": [
    "np.min(a2), np.max(a2)"
   ],
   "metadata": {
    "collapsed": false,
    "ExecuteTime": {
     "end_time": "2023-11-30T23:50:35.108318600Z",
     "start_time": "2023-11-30T23:50:35.076756700Z"
    }
   },
   "id": "cc13a21e5997b45d"
  },
  {
   "cell_type": "markdown",
   "source": [
    "### Standard Deviation - np.std() => measure of how spread out a group of number is from the mean"
   ],
   "metadata": {
    "collapsed": false
   },
   "id": "a23153fd9713a67a"
  },
  {
   "cell_type": "code",
   "execution_count": 57,
   "outputs": [
    {
     "data": {
      "text/plain": "1.8226964152656422"
     },
     "execution_count": 57,
     "metadata": {},
     "output_type": "execute_result"
    }
   ],
   "source": [
    "np.std(a2)"
   ],
   "metadata": {
    "collapsed": false,
    "ExecuteTime": {
     "end_time": "2023-11-30T23:50:58.671085200Z",
     "start_time": "2023-11-30T23:50:58.655433800Z"
    }
   },
   "id": "1172dbc8cebbb9ec"
  },
  {
   "cell_type": "markdown",
   "source": [
    "### Variance => measure of the average degree to which each number is different => np.var()\n",
    "- High Variance => wide range of numbers\n",
    "- Low Variance => lower range of numbers"
   ],
   "metadata": {
    "collapsed": false
   },
   "id": "1fb44a0c0776fa8b"
  },
  {
   "cell_type": "code",
   "execution_count": 58,
   "outputs": [
    {
     "data": {
      "text/plain": "3.3222222222222224"
     },
     "execution_count": 58,
     "metadata": {},
     "output_type": "execute_result"
    }
   ],
   "source": [
    "np.var(a2)"
   ],
   "metadata": {
    "collapsed": false,
    "ExecuteTime": {
     "end_time": "2023-11-30T23:52:06.365719300Z",
     "start_time": "2023-11-30T23:52:06.334303200Z"
    }
   },
   "id": "496bdd6f2040c4e6"
  },
  {
   "cell_type": "markdown",
   "source": [
    "### np.sqrt()"
   ],
   "metadata": {
    "collapsed": false
   },
   "id": "3f92f7dbaf557d06"
  },
  {
   "cell_type": "code",
   "execution_count": 59,
   "outputs": [
    {
     "data": {
      "text/plain": "1.8226964152656422"
     },
     "execution_count": 59,
     "metadata": {},
     "output_type": "execute_result"
    }
   ],
   "source": [
    "np.sqrt(np.var(a2))"
   ],
   "metadata": {
    "collapsed": false,
    "ExecuteTime": {
     "end_time": "2023-11-30T23:53:20.793972300Z",
     "start_time": "2023-11-30T23:53:20.699332800Z"
    }
   },
   "id": "fa1de402887b04e9"
  },
  {
   "cell_type": "markdown",
   "source": [
    "### Demo of STD and VAR"
   ],
   "metadata": {
    "collapsed": false
   },
   "id": "dc2e0505f6f199da"
  },
  {
   "cell_type": "code",
   "execution_count": 60,
   "outputs": [],
   "source": [
    "high_var_array = np.array([1, 100, 200, 300, 4000, 5000])\n",
    "low_var_array = np.array([2, 4, 6, 8, 10])"
   ],
   "metadata": {
    "collapsed": false,
    "ExecuteTime": {
     "end_time": "2023-11-30T23:55:41.664918900Z",
     "start_time": "2023-11-30T23:55:41.619634500Z"
    }
   },
   "id": "eff0c932899aac1e"
  },
  {
   "cell_type": "code",
   "execution_count": 61,
   "outputs": [
    {
     "data": {
      "text/plain": "(array([   1,  100,  200,  300, 4000, 5000]), array([ 2,  4,  6,  8, 10]))"
     },
     "execution_count": 61,
     "metadata": {},
     "output_type": "execute_result"
    }
   ],
   "source": [
    "high_var_array, low_var_array"
   ],
   "metadata": {
    "collapsed": false,
    "ExecuteTime": {
     "end_time": "2023-11-30T23:55:45.604327800Z",
     "start_time": "2023-11-30T23:55:45.556776Z"
    }
   },
   "id": "4a89d67c1412c96"
  },
  {
   "cell_type": "code",
   "execution_count": 62,
   "outputs": [
    {
     "data": {
      "text/plain": "(4296133.472222221, 8.0)"
     },
     "execution_count": 62,
     "metadata": {},
     "output_type": "execute_result"
    }
   ],
   "source": [
    "np.var(high_var_array), np.var(low_var_array)"
   ],
   "metadata": {
    "collapsed": false,
    "ExecuteTime": {
     "end_time": "2023-11-30T23:55:59.999050Z",
     "start_time": "2023-11-30T23:55:59.952448900Z"
    }
   },
   "id": "cee63da13bf146f6"
  },
  {
   "cell_type": "code",
   "execution_count": 63,
   "outputs": [
    {
     "data": {
      "text/plain": "(2072.711623024829, 2.8284271247461903)"
     },
     "execution_count": 63,
     "metadata": {},
     "output_type": "execute_result"
    }
   ],
   "source": [
    "np.std(high_var_array), np.std(low_var_array)"
   ],
   "metadata": {
    "collapsed": false,
    "ExecuteTime": {
     "end_time": "2023-11-30T23:56:17.129261600Z",
     "start_time": "2023-11-30T23:56:17.034197500Z"
    }
   },
   "id": "afdaa762617bd9dc"
  },
  {
   "cell_type": "code",
   "execution_count": 64,
   "outputs": [
    {
     "data": {
      "text/plain": "(1600.1666666666667, 6.0)"
     },
     "execution_count": 64,
     "metadata": {},
     "output_type": "execute_result"
    }
   ],
   "source": [
    "np.mean(high_var_array), np.mean(low_var_array)"
   ],
   "metadata": {
    "collapsed": false,
    "ExecuteTime": {
     "end_time": "2023-11-30T23:56:36.133466Z",
     "start_time": "2023-11-30T23:56:36.101851500Z"
    }
   },
   "id": "36ca9b52762edfec"
  },
  {
   "cell_type": "code",
   "execution_count": 65,
   "outputs": [
    {
     "data": {
      "text/plain": "[<matplotlib.lines.Line2D at 0x23d70dcd390>]"
     },
     "execution_count": 65,
     "metadata": {},
     "output_type": "execute_result"
    },
    {
     "data": {
      "text/plain": "<Figure size 640x480 with 1 Axes>",
      "image/png": "[encoded data removed]"
     },
     "metadata": {},
     "output_type": "display_data"
    }
   ],
   "source": [
    "%matplotlib inline\n",
    "import matplotlib.pyplot as plt\n",
    "plt.plot(high_var_array)"
   ],
   "metadata": {
    "collapsed": false,
    "ExecuteTime": {
     "end_time": "2023-11-30T23:57:41.318438100Z",
     "start_time": "2023-11-30T23:57:40.153654600Z"
    }
   },
   "id": "14226ab2954e5cb"
  },
  {
   "cell_type": "code",
   "execution_count": 66,
   "outputs": [
    {
     "data": {
      "text/plain": "[<matplotlib.lines.Line2D at 0x23d7165cf50>]"
     },
     "execution_count": 66,
     "metadata": {},
     "output_type": "execute_result"
    },
    {
     "data": {
      "text/plain": "<Figure size 640x480 with 1 Axes>",
      "image/png": "[encoded data removed]"
     },
     "metadata": {},
     "output_type": "display_data"
    }
   ],
   "source": [
    "plt.plot(low_var_array)"
   ],
   "metadata": {
    "collapsed": false,
    "ExecuteTime": {
     "end_time": "2023-11-30T23:57:50.207229Z",
     "start_time": "2023-11-30T23:57:50.066341100Z"
    }
   },
   "id": "3b3306b0d60de630"
  },
  {
   "cell_type": "code",
   "execution_count": 67,
   "outputs": [
    {
     "data": {
      "text/plain": "(array([4., 0., 0., 0., 0., 0., 0., 1., 0., 1.]),\n array([1.0000e+00, 5.0090e+02, 1.0008e+03, 1.5007e+03, 2.0006e+03,\n        2.5005e+03, 3.0004e+03, 3.5003e+03, 4.0002e+03, 4.5001e+03,\n        5.0000e+03]),\n <BarContainer object of 10 artists>)"
     },
     "execution_count": 67,
     "metadata": {},
     "output_type": "execute_result"
    },
    {
     "data": {
      "text/plain": "<Figure size 640x480 with 1 Axes>",
      "image/png": "[encoded data removed]"
     },
     "metadata": {},
     "output_type": "display_data"
    }
   ],
   "source": [
    "plt.hist(high_var_array)"
   ],
   "metadata": {
    "collapsed": false,
    "ExecuteTime": {
     "end_time": "2023-11-30T23:58:02.738328Z",
     "start_time": "2023-11-30T23:58:02.561686600Z"
    }
   },
   "id": "6cfc25e964b1b803"
  },
  {
   "cell_type": "code",
   "execution_count": 68,
   "outputs": [
    {
     "data": {
      "text/plain": "(array([1., 0., 1., 0., 0., 1., 0., 1., 0., 1.]),\n array([ 2. ,  2.8,  3.6,  4.4,  5.2,  6. ,  6.8,  7.6,  8.4,  9.2, 10. ]),\n <BarContainer object of 10 artists>)"
     },
     "execution_count": 68,
     "metadata": {},
     "output_type": "execute_result"
    },
    {
     "data": {
      "text/plain": "<Figure size 640x480 with 1 Axes>",
      "image/png": "[encoded data removed]"
     },
     "metadata": {},
     "output_type": "display_data"
    }
   ],
   "source": [
    "plt.hist(low_var_array)"
   ],
   "metadata": {
    "collapsed": false,
    "ExecuteTime": {
     "end_time": "2023-11-30T23:58:08.195684400Z",
     "start_time": "2023-11-30T23:58:08.049657400Z"
    }
   },
   "id": "2ecdc8a8f37fe11e"
  },
  {
   "cell_type": "markdown",
   "source": [
    "## Reshape and Transpose"
   ],
   "metadata": {
    "collapsed": false
   },
   "id": "d4816e51f0d22a29"
  },
  {
   "cell_type": "code",
   "execution_count": 69,
   "outputs": [
    {
     "data": {
      "text/plain": "array([[1. , 2. , 3.3],\n       [4. , 5. , 6.5]])"
     },
     "execution_count": 69,
     "metadata": {},
     "output_type": "execute_result"
    }
   ],
   "source": [
    "a2"
   ],
   "metadata": {
    "collapsed": false,
    "ExecuteTime": {
     "end_time": "2023-11-30T23:59:10.482964Z",
     "start_time": "2023-11-30T23:59:10.435331800Z"
    }
   },
   "id": "c5c6b3110720bf56"
  },
  {
   "cell_type": "code",
   "execution_count": 70,
   "outputs": [
    {
     "data": {
      "text/plain": "(2, 3)"
     },
     "execution_count": 70,
     "metadata": {},
     "output_type": "execute_result"
    }
   ],
   "source": [
    "a2.shape"
   ],
   "metadata": {
    "collapsed": false,
    "ExecuteTime": {
     "end_time": "2023-11-30T23:59:14.604759500Z",
     "start_time": "2023-11-30T23:59:14.541587600Z"
    }
   },
   "id": "290a6896611beddb"
  },
  {
   "cell_type": "code",
   "execution_count": 71,
   "outputs": [
    {
     "data": {
      "text/plain": "array([[[  1. ,   4. ,   9.9],\n        [ 16. ,  25. ,  39. ]],\n\n       [[  7. ,  16. ,  29.7],\n        [ 40. ,  55. ,  78. ]],\n\n       [[ 13. ,  28. ,  49.5],\n        [ 64. ,  85. , 117. ]]])"
     },
     "execution_count": 71,
     "metadata": {},
     "output_type": "execute_result"
    }
   ],
   "source": [
    "a2 * a3"
   ],
   "metadata": {
    "collapsed": false,
    "ExecuteTime": {
     "end_time": "2023-11-30T23:59:18.971731900Z",
     "start_time": "2023-11-30T23:59:18.914976600Z"
    }
   },
   "id": "89dd789b44d46e5e"
  },
  {
   "cell_type": "code",
   "execution_count": 72,
   "outputs": [],
   "source": [
    "new_a3 = np.array([[[1,2,3], [4,5,6], [7,8,9]], [[10, 11, 12], [13,14,15],[16,17,18]]])"
   ],
   "metadata": {
    "collapsed": false,
    "ExecuteTime": {
     "end_time": "2023-12-01T00:00:33.488592400Z",
     "start_time": "2023-12-01T00:00:33.394484600Z"
    }
   },
   "id": "7ee8119a9b170b7a"
  },
  {
   "cell_type": "code",
   "execution_count": 73,
   "outputs": [
    {
     "data": {
      "text/plain": "array([[[ 1,  2,  3],\n        [ 4,  5,  6],\n        [ 7,  8,  9]],\n\n       [[10, 11, 12],\n        [13, 14, 15],\n        [16, 17, 18]]])"
     },
     "execution_count": 73,
     "metadata": {},
     "output_type": "execute_result"
    }
   ],
   "source": [
    "new_a3"
   ],
   "metadata": {
    "collapsed": false,
    "ExecuteTime": {
     "end_time": "2023-12-01T00:00:36.194160400Z",
     "start_time": "2023-12-01T00:00:36.162858600Z"
    }
   },
   "id": "df0af33316dc8366"
  },
  {
   "cell_type": "code",
   "execution_count": 74,
   "outputs": [
    {
     "ename": "ValueError",
     "evalue": "operands could not be broadcast together with shapes (2,3) (2,3,3) ",
     "output_type": "error",
     "traceback": [
      "\u001B[1;31m---------------------------------------------------------------------------\u001B[0m",
      "\u001B[1;31mValueError\u001B[0m                                Traceback (most recent call last)",
      "Cell \u001B[1;32mIn[74], line 1\u001B[0m\n\u001B[1;32m----> 1\u001B[0m a2 \u001B[38;5;241m*\u001B[39m new_a3\n",
      "\u001B[1;31mValueError\u001B[0m: operands could not be broadcast together with shapes (2,3) (2,3,3) "
     ]
    }
   ],
   "source": [
    "a2 * new_a3"
   ],
   "metadata": {
    "collapsed": false,
    "ExecuteTime": {
     "end_time": "2023-12-01T00:00:43.069048Z",
     "start_time": "2023-12-01T00:00:41.853012100Z"
    }
   },
   "id": "4019b987723fa9c1"
  },
  {
   "cell_type": "markdown",
   "source": [
    "###     Reshaping => ar.reshape(d0, d1, d2, ...)"
   ],
   "metadata": {
    "collapsed": false
   },
   "id": "b26386c3c2c7791d"
  },
  {
   "cell_type": "code",
   "execution_count": 75,
   "outputs": [
    {
     "data": {
      "text/plain": "array([[[1. ],\n        [2. ],\n        [3.3]],\n\n       [[4. ],\n        [5. ],\n        [6.5]]])"
     },
     "execution_count": 75,
     "metadata": {},
     "output_type": "execute_result"
    }
   ],
   "source": [
    "a2.reshape(2, 3, 1)"
   ],
   "metadata": {
    "collapsed": false,
    "ExecuteTime": {
     "end_time": "2023-12-01T00:01:47.296374800Z",
     "start_time": "2023-12-01T00:01:47.264725100Z"
    }
   },
   "id": "f204256032fc8311"
  },
  {
   "cell_type": "code",
   "execution_count": 77,
   "outputs": [
    {
     "data": {
      "text/plain": "array([[[  1. ,   2. ,   3. ],\n        [  8. ,  10. ,  12. ],\n        [ 23.1,  26.4,  29.7]],\n\n       [[ 40. ,  44. ,  48. ],\n        [ 65. ,  70. ,  75. ],\n        [104. , 110.5, 117. ]]])"
     },
     "execution_count": 77,
     "metadata": {},
     "output_type": "execute_result"
    }
   ],
   "source": [
    "a2.reshape(2, 3, 1) * new_a3"
   ],
   "metadata": {
    "collapsed": false,
    "ExecuteTime": {
     "end_time": "2023-12-01T00:03:07.692944Z",
     "start_time": "2023-12-01T00:03:07.646028500Z"
    }
   },
   "id": "4ac14149cafbe55e"
  },
  {
   "cell_type": "markdown",
   "source": [
    "### Transpose => ar.T, ar.transpose()"
   ],
   "metadata": {
    "collapsed": false
   },
   "id": "312e1924aafac533"
  },
  {
   "cell_type": "code",
   "execution_count": 82,
   "outputs": [
    {
     "data": {
      "text/plain": "array([[1. , 4. ],\n       [2. , 5. ],\n       [3.3, 6.5]])"
     },
     "execution_count": 82,
     "metadata": {},
     "output_type": "execute_result"
    }
   ],
   "source": [
    "a2.T"
   ],
   "metadata": {
    "collapsed": false,
    "ExecuteTime": {
     "end_time": "2023-12-01T00:04:08.517115900Z",
     "start_time": "2023-12-01T00:04:08.497185Z"
    }
   },
   "id": "2a3be5fb27bde7ef"
  },
  {
   "cell_type": "code",
   "execution_count": 83,
   "outputs": [
    {
     "data": {
      "text/plain": "array([[1. , 4. ],\n       [2. , 5. ],\n       [3.3, 6.5]])"
     },
     "execution_count": 83,
     "metadata": {},
     "output_type": "execute_result"
    }
   ],
   "source": [
    "a2.transpose()"
   ],
   "metadata": {
    "collapsed": false,
    "ExecuteTime": {
     "end_time": "2023-12-01T00:04:09.066230900Z",
     "start_time": "2023-12-01T00:04:09.042048400Z"
    }
   },
   "id": "dc1f85cbaf609f74"
  },
  {
   "cell_type": "code",
   "execution_count": 84,
   "outputs": [
    {
     "data": {
      "text/plain": "array([[ True,  True],\n       [ True,  True],\n       [ True,  True]])"
     },
     "execution_count": 84,
     "metadata": {},
     "output_type": "execute_result"
    }
   ],
   "source": [
    "a2.T == a2.transpose()"
   ],
   "metadata": {
    "collapsed": false,
    "ExecuteTime": {
     "end_time": "2023-12-01T00:04:18.447571200Z",
     "start_time": "2023-12-01T00:04:18.382213500Z"
    }
   },
   "id": "cde4eade60f2e1b5"
  },
  {
   "cell_type": "markdown",
   "source": [
    "## DOT Product vs Element wise"
   ],
   "metadata": {
    "collapsed": false
   },
   "id": "1c7e6e0f9fa33391"
  },
  {
   "cell_type": "markdown",
   "source": [
    "### np.dot()"
   ],
   "metadata": {
    "collapsed": false
   },
   "id": "cb99ac8bbd46d1ec"
  },
  {
   "cell_type": "code",
   "execution_count": 86,
   "outputs": [],
   "source": [
    "np.random.seed(0)\n",
    "mat1 = np.random.randint(10, size = (5, 3))\n",
    "mat2 = np.random.randint(10, size = (5, 3))"
   ],
   "metadata": {
    "collapsed": false,
    "ExecuteTime": {
     "end_time": "2023-12-01T00:07:01.920556800Z",
     "start_time": "2023-12-01T00:07:01.904465Z"
    }
   },
   "id": "33ae4c34083576b1"
  },
  {
   "cell_type": "code",
   "execution_count": 87,
   "outputs": [
    {
     "data": {
      "text/plain": "(array([[5, 0, 3],\n        [3, 7, 9],\n        [3, 5, 2],\n        [4, 7, 6],\n        [8, 8, 1]]),\n array([[6, 7, 7],\n        [8, 1, 5],\n        [9, 8, 9],\n        [4, 3, 0],\n        [3, 5, 0]]))"
     },
     "execution_count": 87,
     "metadata": {},
     "output_type": "execute_result"
    }
   ],
   "source": [
    "mat1, mat2"
   ],
   "metadata": {
    "collapsed": false,
    "ExecuteTime": {
     "end_time": "2023-12-01T00:07:06.913991100Z",
     "start_time": "2023-12-01T00:07:06.835749600Z"
    }
   },
   "id": "17d277b0ceefa42a"
  },
  {
   "cell_type": "markdown",
   "source": [],
   "metadata": {
    "collapsed": false
   },
   "id": "5c879fc6f48f6412"
  },
  {
   "cell_type": "code",
   "execution_count": 90,
   "outputs": [
    {
     "data": {
      "text/plain": "array([[ 51,  55,  72,  20,  15],\n       [130,  76, 164,  33,  44],\n       [ 67,  39,  85,  27,  34],\n       [115,  69, 146,  37,  47],\n       [111,  77, 145,  56,  64]])"
     },
     "execution_count": 90,
     "metadata": {},
     "output_type": "execute_result"
    }
   ],
   "source": [
    "np.dot(mat1, mat2.T)"
   ],
   "metadata": {
    "collapsed": false,
    "ExecuteTime": {
     "end_time": "2023-12-01T00:08:46.727960700Z",
     "start_time": "2023-12-01T00:08:46.680884200Z"
    }
   },
   "id": "830eb2d699dc4722"
  },
  {
   "cell_type": "markdown",
   "source": [
    "### Element wise multiplication a2 * a3 or np.multiply(a2, a3)"
   ],
   "metadata": {
    "collapsed": false
   },
   "id": "35e6ee0cd4b96890"
  },
  {
   "cell_type": "code",
   "execution_count": 89,
   "outputs": [
    {
     "data": {
      "text/plain": "array([[30,  0, 21],\n       [24,  7, 45],\n       [27, 40, 18],\n       [16, 21,  0],\n       [24, 40,  0]])"
     },
     "execution_count": 89,
     "metadata": {},
     "output_type": "execute_result"
    }
   ],
   "source": [
    "mat1 * mat2"
   ],
   "metadata": {
    "collapsed": false,
    "ExecuteTime": {
     "end_time": "2023-12-01T00:07:37.853142Z",
     "start_time": "2023-12-01T00:07:37.806071300Z"
    }
   },
   "id": "5f58d0660addeda4"
  },
  {
   "cell_type": "markdown",
   "source": [
    "## Nut Butter Sales - Exercise"
   ],
   "metadata": {
    "collapsed": false
   },
   "id": "bd61fa317cdb42f3"
  },
  {
   "cell_type": "code",
   "execution_count": 91,
   "outputs": [
    {
     "data": {
      "text/plain": "array([[12, 15,  0],\n       [ 3,  3,  7],\n       [ 9, 19, 18],\n       [ 4,  6, 12],\n       [ 1,  6,  7]])"
     },
     "execution_count": 91,
     "metadata": {},
     "output_type": "execute_result"
    }
   ],
   "source": [
    "np.random.seed(0)\n",
    "sales_amounts = np.random.randint(20, size = (5, 3))\n",
    "sales_amounts"
   ],
   "metadata": {
    "collapsed": false,
    "ExecuteTime": {
     "end_time": "2023-12-01T00:12:03.054967900Z",
     "start_time": "2023-12-01T00:12:02.995432100Z"
    }
   },
   "id": "b31c309982bfeef0"
  },
  {
   "cell_type": "code",
   "execution_count": 92,
   "outputs": [],
   "source": [
    "weekly_sales = pd.DataFrame(sales_amounts, index = [\"Mon\", \"Tues\", \"Wed\", \"Thur\", \"Fri\"], columns= [\"Almond Butter\", \"Peanut Butter\", \"Cashew Butter\"])"
   ],
   "metadata": {
    "collapsed": false,
    "ExecuteTime": {
     "end_time": "2023-12-01T00:13:15.870546200Z",
     "start_time": "2023-12-01T00:13:15.801054400Z"
    }
   },
   "id": "97730d02e9c15c25"
  },
  {
   "cell_type": "code",
   "execution_count": 93,
   "outputs": [
    {
     "data": {
      "text/plain": "      Almond Butter  Peanut Butter  Cashew Butter\nMon              12             15              0\nTues              3              3              7\nWed               9             19             18\nThur              4              6             12\nFri               1              6              7",
      "text/html": "<div>\n<style scoped>\n    .dataframe tbody tr th:only-of-type {\n        vertical-align: middle;\n    }\n\n    .dataframe tbody tr th {\n        vertical-align: top;\n    }\n\n    .dataframe thead th {\n        text-align: right;\n    }\n</style>\n<table border=\"1\" class=\"dataframe\">\n  <thead>\n    <tr style=\"text-align: right;\">\n      <th></th>\n      <th>Almond Butter</th>\n      <th>Peanut Butter</th>\n      <th>Cashew Butter</th>\n    </tr>\n  </thead>\n  <tbody>\n    <tr>\n      <th>Mon</th>\n      <td>12</td>\n      <td>15</td>\n      <td>0</td>\n    </tr>\n    <tr>\n      <th>Tues</th>\n      <td>3</td>\n      <td>3</td>\n      <td>7</td>\n    </tr>\n    <tr>\n      <th>Wed</th>\n      <td>9</td>\n      <td>19</td>\n      <td>18</td>\n    </tr>\n    <tr>\n      <th>Thur</th>\n      <td>4</td>\n      <td>6</td>\n      <td>12</td>\n    </tr>\n    <tr>\n      <th>Fri</th>\n      <td>1</td>\n      <td>6</td>\n      <td>7</td>\n    </tr>\n  </tbody>\n</table>\n</div>"
     },
     "execution_count": 93,
     "metadata": {},
     "output_type": "execute_result"
    }
   ],
   "source": [
    "weekly_sales"
   ],
   "metadata": {
    "collapsed": false,
    "ExecuteTime": {
     "end_time": "2023-12-01T00:13:18.162388700Z",
     "start_time": "2023-12-01T00:13:18.087419600Z"
    }
   },
   "id": "a0d9e9a0dafde393"
  },
  {
   "cell_type": "code",
   "execution_count": 94,
   "outputs": [
    {
     "data": {
      "text/plain": "array([10,  8, 12])"
     },
     "execution_count": 94,
     "metadata": {},
     "output_type": "execute_result"
    }
   ],
   "source": [
    "# Create Prices Array\n",
    "prices = np.array([10, 8, 12])\n",
    "prices"
   ],
   "metadata": {
    "collapsed": false,
    "ExecuteTime": {
     "end_time": "2023-12-01T00:13:44.999490Z",
     "start_time": "2023-12-01T00:13:44.929919600Z"
    }
   },
   "id": "a626ba763af098a9"
  },
  {
   "cell_type": "code",
   "execution_count": null,
   "outputs": [],
   "source": [],
   "metadata": {
    "collapsed": false
   },
   "id": "30540c80ba0c4a46"
  },
  {
   "cell_type": "code",
   "execution_count": 97,
   "outputs": [],
   "source": [
    "butter_prices = pd.DataFrame(prices.reshape(1, 3), index = [\"prices\"], columns= [\"Almond Butter\", \"Peanut Butter\", \"Cashew Butter\"])"
   ],
   "metadata": {
    "collapsed": false,
    "ExecuteTime": {
     "end_time": "2023-12-01T00:15:13.230289200Z",
     "start_time": "2023-12-01T00:15:13.197972400Z"
    }
   },
   "id": "e13cc191ecf712e2"
  },
  {
   "cell_type": "code",
   "execution_count": 98,
   "outputs": [
    {
     "data": {
      "text/plain": "        Almond Butter  Peanut Butter  Cashew Butter\nprices             10              8             12",
      "text/html": "<div>\n<style scoped>\n    .dataframe tbody tr th:only-of-type {\n        vertical-align: middle;\n    }\n\n    .dataframe tbody tr th {\n        vertical-align: top;\n    }\n\n    .dataframe thead th {\n        text-align: right;\n    }\n</style>\n<table border=\"1\" class=\"dataframe\">\n  <thead>\n    <tr style=\"text-align: right;\">\n      <th></th>\n      <th>Almond Butter</th>\n      <th>Peanut Butter</th>\n      <th>Cashew Butter</th>\n    </tr>\n  </thead>\n  <tbody>\n    <tr>\n      <th>prices</th>\n      <td>10</td>\n      <td>8</td>\n      <td>12</td>\n    </tr>\n  </tbody>\n</table>\n</div>"
     },
     "execution_count": 98,
     "metadata": {},
     "output_type": "execute_result"
    }
   ],
   "source": [
    "butter_prices"
   ],
   "metadata": {
    "collapsed": false,
    "ExecuteTime": {
     "end_time": "2023-12-01T00:15:15.794882500Z",
     "start_time": "2023-12-01T00:15:15.685331600Z"
    }
   },
   "id": "ddae3807c8b7427a"
  },
  {
   "cell_type": "code",
   "execution_count": 100,
   "outputs": [
    {
     "ename": "ValueError",
     "evalue": "shapes (3,) and (5,3) not aligned: 3 (dim 0) != 5 (dim 0)",
     "output_type": "error",
     "traceback": [
      "\u001B[1;31m---------------------------------------------------------------------------\u001B[0m",
      "\u001B[1;31mValueError\u001B[0m                                Traceback (most recent call last)",
      "Cell \u001B[1;32mIn[100], line 1\u001B[0m\n\u001B[1;32m----> 1\u001B[0m total_sales \u001B[38;5;241m=\u001B[39m prices\u001B[38;5;241m.\u001B[39mdot(sales_amounts)\n",
      "\u001B[1;31mValueError\u001B[0m: shapes (3,) and (5,3) not aligned: 3 (dim 0) != 5 (dim 0)"
     ]
    }
   ],
   "source": [
    "total_sales = prices.dot(sales_amounts)"
   ],
   "metadata": {
    "collapsed": false,
    "ExecuteTime": {
     "end_time": "2023-12-01T00:17:08.760543400Z",
     "start_time": "2023-12-01T00:17:08.691293800Z"
    }
   },
   "id": "161fa5b22d04910c"
  },
  {
   "cell_type": "code",
   "execution_count": 101,
   "outputs": [],
   "source": [
    "total_sales = prices.dot(sales_amounts.T)"
   ],
   "metadata": {
    "collapsed": false,
    "ExecuteTime": {
     "end_time": "2023-12-01T00:17:35.176083Z",
     "start_time": "2023-12-01T00:17:35.098857300Z"
    }
   },
   "id": "5392b75b0ed002f5"
  },
  {
   "cell_type": "code",
   "execution_count": 102,
   "outputs": [
    {
     "data": {
      "text/plain": "array([240, 138, 458, 232, 142])"
     },
     "execution_count": 102,
     "metadata": {},
     "output_type": "execute_result"
    }
   ],
   "source": [
    "total_sales"
   ],
   "metadata": {
    "collapsed": false,
    "ExecuteTime": {
     "end_time": "2023-12-01T00:17:37.686594200Z",
     "start_time": "2023-12-01T00:17:37.614305Z"
    }
   },
   "id": "ba0dc04a0a59e499"
  },
  {
   "cell_type": "code",
   "execution_count": 103,
   "outputs": [],
   "source": [
    "daily_sales = butter_prices.dot(weekly_sales.T)"
   ],
   "metadata": {
    "collapsed": false,
    "ExecuteTime": {
     "end_time": "2023-12-01T00:18:49.251722200Z",
     "start_time": "2023-12-01T00:18:49.184364100Z"
    }
   },
   "id": "97ce0bb066fb172d"
  },
  {
   "cell_type": "code",
   "execution_count": 104,
   "outputs": [
    {
     "data": {
      "text/plain": "        Mon  Tues  Wed  Thur  Fri\nprices  240   138  458   232  142",
      "text/html": "<div>\n<style scoped>\n    .dataframe tbody tr th:only-of-type {\n        vertical-align: middle;\n    }\n\n    .dataframe tbody tr th {\n        vertical-align: top;\n    }\n\n    .dataframe thead th {\n        text-align: right;\n    }\n</style>\n<table border=\"1\" class=\"dataframe\">\n  <thead>\n    <tr style=\"text-align: right;\">\n      <th></th>\n      <th>Mon</th>\n      <th>Tues</th>\n      <th>Wed</th>\n      <th>Thur</th>\n      <th>Fri</th>\n    </tr>\n  </thead>\n  <tbody>\n    <tr>\n      <th>prices</th>\n      <td>240</td>\n      <td>138</td>\n      <td>458</td>\n      <td>232</td>\n      <td>142</td>\n    </tr>\n  </tbody>\n</table>\n</div>"
     },
     "execution_count": 104,
     "metadata": {},
     "output_type": "execute_result"
    }
   ],
   "source": [
    "daily_sales"
   ],
   "metadata": {
    "collapsed": false,
    "ExecuteTime": {
     "end_time": "2023-12-01T00:18:51.716680Z",
     "start_time": "2023-12-01T00:18:51.658262600Z"
    }
   },
   "id": "f0ae97f564ff7149"
  },
  {
   "cell_type": "code",
   "execution_count": 106,
   "outputs": [],
   "source": [
    "weekly_sales['Total ($)'] = daily_sales.T"
   ],
   "metadata": {
    "collapsed": false,
    "ExecuteTime": {
     "end_time": "2023-12-01T00:19:32.461550200Z",
     "start_time": "2023-12-01T00:19:32.430259600Z"
    }
   },
   "id": "83ad5cbda6896b71"
  },
  {
   "cell_type": "code",
   "execution_count": 107,
   "outputs": [
    {
     "data": {
      "text/plain": "      Almond Butter  Peanut Butter  Cashew Butter  Total ($)\nMon              12             15              0        240\nTues              3              3              7        138\nWed               9             19             18        458\nThur              4              6             12        232\nFri               1              6              7        142",
      "text/html": "<div>\n<style scoped>\n    .dataframe tbody tr th:only-of-type {\n        vertical-align: middle;\n    }\n\n    .dataframe tbody tr th {\n        vertical-align: top;\n    }\n\n    .dataframe thead th {\n        text-align: right;\n    }\n</style>\n<table border=\"1\" class=\"dataframe\">\n  <thead>\n    <tr style=\"text-align: right;\">\n      <th></th>\n      <th>Almond Butter</th>\n      <th>Peanut Butter</th>\n      <th>Cashew Butter</th>\n      <th>Total ($)</th>\n    </tr>\n  </thead>\n  <tbody>\n    <tr>\n      <th>Mon</th>\n      <td>12</td>\n      <td>15</td>\n      <td>0</td>\n      <td>240</td>\n    </tr>\n    <tr>\n      <th>Tues</th>\n      <td>3</td>\n      <td>3</td>\n      <td>7</td>\n      <td>138</td>\n    </tr>\n    <tr>\n      <th>Wed</th>\n      <td>9</td>\n      <td>19</td>\n      <td>18</td>\n      <td>458</td>\n    </tr>\n    <tr>\n      <th>Thur</th>\n      <td>4</td>\n      <td>6</td>\n      <td>12</td>\n      <td>232</td>\n    </tr>\n    <tr>\n      <th>Fri</th>\n      <td>1</td>\n      <td>6</td>\n      <td>7</td>\n      <td>142</td>\n    </tr>\n  </tbody>\n</table>\n</div>"
     },
     "execution_count": 107,
     "metadata": {},
     "output_type": "execute_result"
    }
   ],
   "source": [
    "weekly_sales"
   ],
   "metadata": {
    "collapsed": false,
    "ExecuteTime": {
     "end_time": "2023-12-01T00:19:34.757536600Z",
     "start_time": "2023-12-01T00:19:34.698855300Z"
    }
   },
   "id": "ff14abbdda28fb56"
  },
  {
   "cell_type": "markdown",
   "source": [
    "## Comparision Operators => performs element wise comparision(>, <, >=, <=, != , ==)"
   ],
   "metadata": {
    "collapsed": false
   },
   "id": "89e7c65a94c73766"
  },
  {
   "cell_type": "code",
   "execution_count": 109,
   "outputs": [
    {
     "data": {
      "text/plain": "(array([1, 2, 3]),\n array([[1. , 2. , 3.3],\n        [4. , 5. , 6.5]]))"
     },
     "execution_count": 109,
     "metadata": {},
     "output_type": "execute_result"
    }
   ],
   "source": [
    "a1, a2"
   ],
   "metadata": {
    "collapsed": false,
    "ExecuteTime": {
     "end_time": "2023-12-01T00:21:21.028221Z",
     "start_time": "2023-12-01T00:21:20.946487Z"
    }
   },
   "id": "f79bbdcdc0e6a9ce"
  },
  {
   "cell_type": "code",
   "execution_count": 110,
   "outputs": [
    {
     "data": {
      "text/plain": "array([[False, False, False],\n       [False, False, False]])"
     },
     "execution_count": 110,
     "metadata": {},
     "output_type": "execute_result"
    }
   ],
   "source": [
    "a1 > a2"
   ],
   "metadata": {
    "collapsed": false,
    "ExecuteTime": {
     "end_time": "2023-12-01T00:21:26.645101400Z",
     "start_time": "2023-12-01T00:21:26.572765600Z"
    }
   },
   "id": "fe5f80d93e91b139"
  },
  {
   "cell_type": "code",
   "execution_count": 111,
   "outputs": [
    {
     "data": {
      "text/plain": "array([[ True,  True, False],\n       [False, False, False]])"
     },
     "execution_count": 111,
     "metadata": {},
     "output_type": "execute_result"
    }
   ],
   "source": [
    "a1 >= a2"
   ],
   "metadata": {
    "collapsed": false,
    "ExecuteTime": {
     "end_time": "2023-12-01T00:21:36.655111700Z",
     "start_time": "2023-12-01T00:21:36.550209900Z"
    }
   },
   "id": "fee21bde73092ca0"
  },
  {
   "cell_type": "code",
   "execution_count": 112,
   "outputs": [
    {
     "data": {
      "text/plain": "array([[ True,  True, False],\n       [False, False, False]])"
     },
     "execution_count": 112,
     "metadata": {},
     "output_type": "execute_result"
    }
   ],
   "source": [
    "a1 == a2"
   ],
   "metadata": {
    "collapsed": false,
    "ExecuteTime": {
     "end_time": "2023-12-01T00:22:29.895715300Z",
     "start_time": "2023-12-01T00:22:29.821879700Z"
    }
   },
   "id": "33b188c52d7f71e4"
  },
  {
   "cell_type": "code",
   "execution_count": 113,
   "outputs": [
    {
     "data": {
      "text/plain": "array([[False, False,  True],\n       [ True,  True,  True]])"
     },
     "execution_count": 113,
     "metadata": {},
     "output_type": "execute_result"
    }
   ],
   "source": [
    "a1 != a2"
   ],
   "metadata": {
    "collapsed": false,
    "ExecuteTime": {
     "end_time": "2023-12-01T00:22:33.844480800Z",
     "start_time": "2023-12-01T00:22:33.751446400Z"
    }
   },
   "id": "1c8c6a1994c68f7a"
  },
  {
   "cell_type": "code",
   "execution_count": 114,
   "outputs": [
    {
     "data": {
      "text/plain": "array([ True,  True,  True])"
     },
     "execution_count": 114,
     "metadata": {},
     "output_type": "execute_result"
    }
   ],
   "source": [
    "a1 < 5"
   ],
   "metadata": {
    "collapsed": false,
    "ExecuteTime": {
     "end_time": "2023-12-01T00:22:40.190787Z",
     "start_time": "2023-12-01T00:22:40.083699900Z"
    }
   },
   "id": "5f055eeb9e9335e6"
  },
  {
   "cell_type": "markdown",
   "source": [
    "## Sorting Arrays"
   ],
   "metadata": {
    "collapsed": false
   },
   "id": "7b1f0a679871a854"
  },
  {
   "cell_type": "code",
   "execution_count": 115,
   "outputs": [],
   "source": [
    "random_array = np.random.randint(10, size = (3, 5))"
   ],
   "metadata": {
    "collapsed": false,
    "ExecuteTime": {
     "end_time": "2023-12-01T00:23:45.072460400Z",
     "start_time": "2023-12-01T00:23:44.997678Z"
    }
   },
   "id": "439f6240079345ea"
  },
  {
   "cell_type": "code",
   "execution_count": 116,
   "outputs": [
    {
     "data": {
      "text/plain": "array([[7, 8, 1, 5, 9],\n       [8, 9, 4, 3, 0],\n       [3, 5, 0, 2, 3]])"
     },
     "execution_count": 116,
     "metadata": {},
     "output_type": "execute_result"
    }
   ],
   "source": [
    "random_array"
   ],
   "metadata": {
    "collapsed": false,
    "ExecuteTime": {
     "end_time": "2023-12-01T00:23:47.811158400Z",
     "start_time": "2023-12-01T00:23:47.699551200Z"
    }
   },
   "id": "c68f02a45b2ef9a9"
  },
  {
   "cell_type": "markdown",
   "source": [
    "### np.sort() => sorts elements along the axis default is row(axis = 1)"
   ],
   "metadata": {
    "collapsed": false
   },
   "id": "b47a6eca3789d9c"
  },
  {
   "cell_type": "code",
   "execution_count": 117,
   "outputs": [
    {
     "data": {
      "text/plain": "array([[1, 5, 7, 8, 9],\n       [0, 3, 4, 8, 9],\n       [0, 2, 3, 3, 5]])"
     },
     "execution_count": 117,
     "metadata": {},
     "output_type": "execute_result"
    }
   ],
   "source": [
    "np.sort(random_array)"
   ],
   "metadata": {
    "collapsed": false,
    "ExecuteTime": {
     "end_time": "2023-12-01T00:24:00.576813Z",
     "start_time": "2023-12-01T00:24:00.495776600Z"
    }
   },
   "id": "48baf6348fba9803"
  },
  {
   "cell_type": "markdown",
   "source": [
    "### np.argsort(array) => returns array with indices of the elements from original array after sorting"
   ],
   "metadata": {
    "collapsed": false
   },
   "id": "10e8d5de3109e0c"
  },
  {
   "cell_type": "code",
   "execution_count": 118,
   "outputs": [
    {
     "data": {
      "text/plain": "array([[2, 3, 0, 1, 4],\n       [4, 3, 2, 0, 1],\n       [2, 3, 0, 4, 1]], dtype=int64)"
     },
     "execution_count": 118,
     "metadata": {},
     "output_type": "execute_result"
    }
   ],
   "source": [
    "np.argsort(random_array)"
   ],
   "metadata": {
    "collapsed": false,
    "ExecuteTime": {
     "end_time": "2023-12-01T00:25:23.183103400Z",
     "start_time": "2023-12-01T00:25:23.054651300Z"
    }
   },
   "id": "a8541e7d4fcba765"
  },
  {
   "cell_type": "code",
   "execution_count": 120,
   "outputs": [
    {
     "data": {
      "text/plain": "array([[3, 5, 0, 2, 0],\n       [7, 8, 1, 3, 3],\n       [8, 9, 4, 5, 9]])"
     },
     "execution_count": 120,
     "metadata": {},
     "output_type": "execute_result"
    }
   ],
   "source": [
    "np.sort(random_array, axis =  0)"
   ],
   "metadata": {
    "collapsed": false,
    "ExecuteTime": {
     "end_time": "2023-12-01T00:27:17.642615600Z",
     "start_time": "2023-12-01T00:27:17.598557Z"
    }
   },
   "id": "3eabbd3a45765427"
  },
  {
   "cell_type": "code",
   "execution_count": 121,
   "outputs": [
    {
     "data": {
      "text/plain": "array([4, 1, 1], dtype=int64)"
     },
     "execution_count": 121,
     "metadata": {},
     "output_type": "execute_result"
    }
   ],
   "source": [
    "np.argmax(random_array, axis=1)"
   ],
   "metadata": {
    "collapsed": false,
    "ExecuteTime": {
     "end_time": "2023-12-01T00:28:10.601073200Z",
     "start_time": "2023-12-01T00:28:10.523105700Z"
    }
   },
   "id": "e5120cf09cbd388f"
  },
  {
   "cell_type": "code",
   "execution_count": 123,
   "outputs": [
    {
     "data": {
      "text/plain": "array([9, 9, 5])"
     },
     "execution_count": 123,
     "metadata": {},
     "output_type": "execute_result"
    }
   ],
   "source": [
    "np.max(random_array, axis = 1)"
   ],
   "metadata": {
    "collapsed": false,
    "ExecuteTime": {
     "end_time": "2023-12-01T00:28:33.505419500Z",
     "start_time": "2023-12-01T00:28:33.465853300Z"
    }
   },
   "id": "8eff76672e97518d"
  },
  {
   "cell_type": "markdown",
   "source": [
    "## Turning Images into numpy array"
   ],
   "metadata": {
    "collapsed": false
   },
   "id": "7cda3e35e2b38759"
  },
  {
   "cell_type": "code",
   "execution_count": 125,
   "outputs": [],
   "source": [
    "from matplotlib.image import imread\n",
    "\n",
    "panda = imread('./numpy-images/panda.png')"
   ],
   "metadata": {
    "collapsed": false,
    "ExecuteTime": {
     "end_time": "2023-12-01T00:31:27.923938400Z",
     "start_time": "2023-12-01T00:31:27.678606800Z"
    }
   },
   "id": "22ae11882f407659"
  },
  {
   "cell_type": "code",
   "execution_count": 126,
   "outputs": [
    {
     "data": {
      "text/plain": "array([[[0.05490196, 0.10588235, 0.06666667],\n        [0.05490196, 0.10588235, 0.06666667],\n        [0.05490196, 0.10588235, 0.06666667],\n        ...,\n        [0.16470589, 0.12941177, 0.09411765],\n        [0.16470589, 0.12941177, 0.09411765],\n        [0.16470589, 0.12941177, 0.09411765]],\n\n       [[0.05490196, 0.10588235, 0.06666667],\n        [0.05490196, 0.10588235, 0.06666667],\n        [0.05490196, 0.10588235, 0.06666667],\n        ...,\n        [0.16470589, 0.12941177, 0.09411765],\n        [0.16470589, 0.12941177, 0.09411765],\n        [0.16470589, 0.12941177, 0.09411765]],\n\n       [[0.05490196, 0.10588235, 0.06666667],\n        [0.05490196, 0.10588235, 0.06666667],\n        [0.05490196, 0.10588235, 0.06666667],\n        ...,\n        [0.16470589, 0.12941177, 0.09411765],\n        [0.16470589, 0.12941177, 0.09411765],\n        [0.16470589, 0.12941177, 0.09411765]],\n\n       ...,\n\n       [[0.13333334, 0.07450981, 0.05490196],\n        [0.12156863, 0.0627451 , 0.04313726],\n        [0.10980392, 0.05098039, 0.03137255],\n        ...,\n        [0.02745098, 0.02745098, 0.03529412],\n        [0.02745098, 0.02745098, 0.03529412],\n        [0.02745098, 0.02745098, 0.03529412]],\n\n       [[0.13333334, 0.07450981, 0.05490196],\n        [0.12156863, 0.0627451 , 0.04313726],\n        [0.12156863, 0.0627451 , 0.04313726],\n        ...,\n        [0.02352941, 0.02352941, 0.03137255],\n        [0.02352941, 0.02352941, 0.03137255],\n        [0.02352941, 0.02352941, 0.03137255]],\n\n       [[0.13333334, 0.07450981, 0.05490196],\n        [0.12156863, 0.0627451 , 0.04313726],\n        [0.12156863, 0.0627451 , 0.04313726],\n        ...,\n        [0.02352941, 0.02352941, 0.03137255],\n        [0.02352941, 0.02352941, 0.03137255],\n        [0.02352941, 0.02352941, 0.03137255]]], dtype=float32)"
     },
     "execution_count": 126,
     "metadata": {},
     "output_type": "execute_result"
    }
   ],
   "source": [
    "panda"
   ],
   "metadata": {
    "collapsed": false,
    "ExecuteTime": {
     "end_time": "2023-12-01T00:31:29.912101900Z",
     "start_time": "2023-12-01T00:31:29.816095500Z"
    }
   },
   "id": "8ad0f09154e41f35"
  },
  {
   "cell_type": "code",
   "execution_count": 127,
   "outputs": [
    {
     "data": {
      "text/plain": "((2330, 3500, 3), 3, 24465000)"
     },
     "execution_count": 127,
     "metadata": {},
     "output_type": "execute_result"
    }
   ],
   "source": [
    "panda.shape, panda.ndim, panda.size"
   ],
   "metadata": {
    "collapsed": false,
    "ExecuteTime": {
     "end_time": "2023-12-01T00:31:57.937362300Z",
     "start_time": "2023-12-01T00:31:57.839909200Z"
    }
   },
   "id": "33aeeceaf1657e44"
  },
  {
   "cell_type": "code",
   "execution_count": null,
   "outputs": [],
   "source": [],
   "metadata": {
    "collapsed": false
   },
   "id": "858d4b8dae51989d"
  }
 ],
 "metadata": {
  "kernelspec": {
   "display_name": "Python 3",
   "language": "python",
   "name": "python3"
  },
  "language_info": {
   "codemirror_mode": {
    "name": "ipython",
    "version": 2
   },
   "file_extension": ".py",
   "mimetype": "text/x-python",
   "name": "python",
   "nbconvert_exporter": "python",
   "pygments_lexer": "ipython2",
   "version": "2.7.6"
  }
 },
 "nbformat": 4,
 "nbformat_minor": 5
}
