{
 "cells": [
  {
   "cell_type": "markdown",
   "source": [
    "# Numpy"
   ],
   "metadata": {
    "collapsed": false
   },
   "id": "66f86aa4fd1f6d07"
  },
  {
   "cell_type": "code",
   "execution_count": 2,
   "outputs": [],
   "source": [
    "import numpy as np"
   ],
   "metadata": {
    "collapsed": false,
    "ExecuteTime": {
     "end_time": "2023-11-28T23:49:32.898545700Z",
     "start_time": "2023-11-28T23:49:32.830577200Z"
    }
   },
   "id": "1b0e3bcbeed34692"
  },
  {
   "cell_type": "markdown",
   "source": [
    "## DataTypes & Attributes"
   ],
   "metadata": {
    "collapsed": false
   },
   "id": "f7c99817eee66c57"
  },
  {
   "cell_type": "markdown",
   "source": [
    "### Numpy's main datatype is ndarray"
   ],
   "metadata": {
    "collapsed": false
   },
   "id": "d04c79e96af54897"
  },
  {
   "cell_type": "code",
   "execution_count": 3,
   "outputs": [
    {
     "data": {
      "text/plain": "array([1, 2, 3])"
     },
     "execution_count": 3,
     "metadata": {},
     "output_type": "execute_result"
    }
   ],
   "source": [
    "a1 = np.array([1,2,3])\n",
    "a1"
   ],
   "metadata": {
    "collapsed": false,
    "ExecuteTime": {
     "end_time": "2023-11-28T23:54:15.812118700Z",
     "start_time": "2023-11-28T23:54:15.780047700Z"
    }
   },
   "id": "6a738877922bdb17"
  },
  {
   "cell_type": "code",
   "execution_count": 4,
   "outputs": [
    {
     "data": {
      "text/plain": "numpy.ndarray"
     },
     "execution_count": 4,
     "metadata": {},
     "output_type": "execute_result"
    }
   ],
   "source": [
    "type(a1)\n"
   ],
   "metadata": {
    "collapsed": false,
    "ExecuteTime": {
     "end_time": "2023-11-28T23:54:20.952168400Z",
     "start_time": "2023-11-28T23:54:20.943613700Z"
    }
   },
   "id": "8a3a6ef82d9e7208"
  },
  {
   "cell_type": "code",
   "execution_count": 5,
   "outputs": [],
   "source": [
    "a2 = np.array([[1, 2.0, 3.3], [4, 5, 6.5]])"
   ],
   "metadata": {
    "collapsed": false,
    "ExecuteTime": {
     "end_time": "2023-11-28T23:55:05.731089400Z",
     "start_time": "2023-11-28T23:55:05.690884300Z"
    }
   },
   "id": "1d260be7e23e79c8"
  },
  {
   "cell_type": "code",
   "execution_count": 6,
   "outputs": [
    {
     "data": {
      "text/plain": "array([[1. , 2. , 3.3],\n       [4. , 5. , 6.5]])"
     },
     "execution_count": 6,
     "metadata": {},
     "output_type": "execute_result"
    }
   ],
   "source": [
    "a2"
   ],
   "metadata": {
    "collapsed": false,
    "ExecuteTime": {
     "end_time": "2023-11-28T23:55:08.024035900Z",
     "start_time": "2023-11-28T23:55:08.014552100Z"
    }
   },
   "id": "3a69f4c529eef890"
  },
  {
   "cell_type": "code",
   "execution_count": 7,
   "outputs": [],
   "source": [
    "a3 = np.array([[[1, 2, 3],\n",
    "                [4, 5, 6]],\n",
    "               [[7, 8, 9],\n",
    "                [10, 11, 12]],\n",
    "               [[13, 14, 15],\n",
    "                [16, 17, 18]]])"
   ],
   "metadata": {
    "collapsed": false,
    "ExecuteTime": {
     "end_time": "2023-11-28T23:56:58.696872400Z",
     "start_time": "2023-11-28T23:56:58.660117Z"
    }
   },
   "id": "39d61adc46f309f"
  },
  {
   "cell_type": "code",
   "execution_count": 8,
   "outputs": [
    {
     "data": {
      "text/plain": "array([[[ 1,  2,  3],\n        [ 4,  5,  6]],\n\n       [[ 7,  8,  9],\n        [10, 11, 12]],\n\n       [[13, 14, 15],\n        [16, 17, 18]]])"
     },
     "execution_count": 8,
     "metadata": {},
     "output_type": "execute_result"
    }
   ],
   "source": [
    "a3"
   ],
   "metadata": {
    "collapsed": false,
    "ExecuteTime": {
     "end_time": "2023-11-28T23:57:01.652566800Z",
     "start_time": "2023-11-28T23:57:01.623143900Z"
    }
   },
   "id": "cfe9f62d9fa682ed"
  },
  {
   "cell_type": "markdown",
   "source": [
    "### finding dimensions of numpy array - ar.shape"
   ],
   "metadata": {
    "collapsed": false
   },
   "id": "889fd7f486ddcdbd"
  },
  {
   "cell_type": "code",
   "execution_count": 9,
   "outputs": [
    {
     "data": {
      "text/plain": "(3, 2, 3)"
     },
     "execution_count": 9,
     "metadata": {},
     "output_type": "execute_result"
    }
   ],
   "source": [
    "a3.shape\n"
   ],
   "metadata": {
    "collapsed": false,
    "ExecuteTime": {
     "end_time": "2023-11-28T23:58:12.759330Z",
     "start_time": "2023-11-28T23:58:12.721048400Z"
    }
   },
   "id": "11788c816ff3c87c"
  },
  {
   "cell_type": "code",
   "execution_count": 10,
   "outputs": [
    {
     "data": {
      "text/plain": "(3,)"
     },
     "execution_count": 10,
     "metadata": {},
     "output_type": "execute_result"
    }
   ],
   "source": [
    "a1.shape\n"
   ],
   "metadata": {
    "collapsed": false,
    "ExecuteTime": {
     "end_time": "2023-11-28T23:59:23.337167600Z",
     "start_time": "2023-11-28T23:59:23.309517500Z"
    }
   },
   "id": "3a5883860953cbc8"
  },
  {
   "cell_type": "code",
   "execution_count": 11,
   "outputs": [
    {
     "data": {
      "text/plain": "(2, 3)"
     },
     "execution_count": 11,
     "metadata": {},
     "output_type": "execute_result"
    }
   ],
   "source": [
    "a2.shape"
   ],
   "metadata": {
    "collapsed": false,
    "ExecuteTime": {
     "end_time": "2023-11-28T23:59:35.061280800Z",
     "start_time": "2023-11-28T23:59:35.045266900Z"
    }
   },
   "id": "f3ba96cd37457394"
  },
  {
   "cell_type": "markdown",
   "source": [
    "### Finding number of dimensions of numpy array - ar.ndmin"
   ],
   "metadata": {
    "collapsed": false
   },
   "id": "cdb6b0534d80709e"
  },
  {
   "cell_type": "code",
   "execution_count": 12,
   "outputs": [
    {
     "data": {
      "text/plain": "(1, 2, 3)"
     },
     "execution_count": 12,
     "metadata": {},
     "output_type": "execute_result"
    }
   ],
   "source": [
    "a1.ndim, a2.ndim, a3.ndim"
   ],
   "metadata": {
    "collapsed": false,
    "ExecuteTime": {
     "end_time": "2023-11-29T00:01:51.418680700Z",
     "start_time": "2023-11-29T00:01:51.406141600Z"
    }
   },
   "id": "7b452bb4749c3af3"
  },
  {
   "cell_type": "markdown",
   "source": [
    "### Finding type of values in numpy array - ar.dtype"
   ],
   "metadata": {
    "collapsed": false
   },
   "id": "884a2a0ec44bc53"
  },
  {
   "cell_type": "code",
   "execution_count": 13,
   "outputs": [
    {
     "data": {
      "text/plain": "(dtype('float64'), dtype('float64'), dtype('int32'))"
     },
     "execution_count": 13,
     "metadata": {},
     "output_type": "execute_result"
    }
   ],
   "source": [
    "a2.dtype, a2.dtype, a3.dtype"
   ],
   "metadata": {
    "collapsed": false,
    "ExecuteTime": {
     "end_time": "2023-11-29T00:02:34.980718800Z",
     "start_time": "2023-11-29T00:02:34.971482900Z"
    }
   },
   "id": "75230556d115e3c5"
  },
  {
   "cell_type": "markdown",
   "source": [
    "### Finding number of values in numpy array - ar.size"
   ],
   "metadata": {
    "collapsed": false
   },
   "id": "a55d4a4121e8ece"
  },
  {
   "cell_type": "code",
   "execution_count": 14,
   "outputs": [
    {
     "data": {
      "text/plain": "(3, 6, 18)"
     },
     "execution_count": 14,
     "metadata": {},
     "output_type": "execute_result"
    }
   ],
   "source": [
    "a1.size, a2.size, a3.size"
   ],
   "metadata": {
    "collapsed": false,
    "ExecuteTime": {
     "end_time": "2023-11-29T00:03:08.765976700Z",
     "start_time": "2023-11-29T00:03:08.749382100Z"
    }
   },
   "id": "c7e76a8f74529133"
  },
  {
   "cell_type": "markdown",
   "source": [
    "### Making pandas series using numpy array - pd.Series(ar)"
   ],
   "metadata": {
    "collapsed": false
   },
   "id": "de308a160336b6d5"
  },
  {
   "cell_type": "code",
   "execution_count": 17,
   "outputs": [
    {
     "data": {
      "text/plain": "0    1\n1    2\n2    3\ndtype: int32"
     },
     "execution_count": 17,
     "metadata": {},
     "output_type": "execute_result"
    }
   ],
   "source": [
    "import pandas as pd\n",
    "pd.Series(a1)"
   ],
   "metadata": {
    "collapsed": false,
    "ExecuteTime": {
     "end_time": "2023-11-29T00:05:17.573496300Z",
     "start_time": "2023-11-29T00:05:17.561205Z"
    }
   },
   "id": "2b3644358da122f1"
  },
  {
   "cell_type": "markdown",
   "source": [
    "## Creating Numpy Arrays"
   ],
   "metadata": {
    "collapsed": false
   },
   "id": "9dfc7f3d8dd9dd03"
  },
  {
   "cell_type": "markdown",
   "source": [
    "### Creating using list - np.array(list)"
   ],
   "metadata": {
    "collapsed": false
   },
   "id": "508d3a7f091f858b"
  },
  {
   "cell_type": "code",
   "execution_count": 18,
   "outputs": [
    {
     "data": {
      "text/plain": "array([1, 2, 3])"
     },
     "execution_count": 18,
     "metadata": {},
     "output_type": "execute_result"
    }
   ],
   "source": [
    "sample_array = np.array([1,2,3])\n",
    "sample_array"
   ],
   "metadata": {
    "collapsed": false,
    "ExecuteTime": {
     "end_time": "2023-11-29T00:07:00.506103900Z",
     "start_time": "2023-11-29T00:07:00.466111400Z"
    }
   },
   "id": "7de3df645030a902"
  },
  {
   "cell_type": "markdown",
   "source": [
    "### Creating array of Ones - np.ones((5,), dtype=int) or np.ones(shape)"
   ],
   "metadata": {
    "collapsed": false
   },
   "id": "f2e39161ffa973ed"
  },
  {
   "cell_type": "code",
   "execution_count": 20,
   "outputs": [
    {
     "data": {
      "text/plain": "array([1., 1., 1., 1., 1.])"
     },
     "execution_count": 20,
     "metadata": {},
     "output_type": "execute_result"
    }
   ],
   "source": [
    "np.ones(5)"
   ],
   "metadata": {
    "collapsed": false,
    "ExecuteTime": {
     "end_time": "2023-11-29T00:07:53.463760400Z",
     "start_time": "2023-11-29T00:07:53.446572500Z"
    }
   },
   "id": "5fe9276f31276bc3"
  },
  {
   "cell_type": "code",
   "execution_count": 21,
   "outputs": [],
   "source": [
    "ones = np.ones((2, 3))"
   ],
   "metadata": {
    "collapsed": false,
    "ExecuteTime": {
     "end_time": "2023-11-29T00:08:06.954883700Z",
     "start_time": "2023-11-29T00:08:06.934031700Z"
    }
   },
   "id": "c391cbeb5b3cf651"
  },
  {
   "cell_type": "code",
   "execution_count": 22,
   "outputs": [
    {
     "data": {
      "text/plain": "dtype('float64')"
     },
     "execution_count": 22,
     "metadata": {},
     "output_type": "execute_result"
    }
   ],
   "source": [
    "ones.dtype"
   ],
   "metadata": {
    "collapsed": false,
    "ExecuteTime": {
     "end_time": "2023-11-29T00:08:11.476005400Z",
     "start_time": "2023-11-29T00:08:11.432977500Z"
    }
   },
   "id": "5c57984054de61a7"
  },
  {
   "cell_type": "code",
   "execution_count": 23,
   "outputs": [
    {
     "data": {
      "text/plain": "array([[1., 1., 1.],\n       [1., 1., 1.]])"
     },
     "execution_count": 23,
     "metadata": {},
     "output_type": "execute_result"
    }
   ],
   "source": [
    "ones"
   ],
   "metadata": {
    "collapsed": false,
    "ExecuteTime": {
     "end_time": "2023-11-29T00:08:14.672484600Z",
     "start_time": "2023-11-29T00:08:14.659274200Z"
    }
   },
   "id": "e02c4b1716d08980"
  },
  {
   "cell_type": "markdown",
   "source": [
    "### Creating numpy array of zeros - np.zeros(shape, dtype)"
   ],
   "metadata": {
    "collapsed": false
   },
   "id": "365651b49f9f042"
  },
  {
   "cell_type": "code",
   "execution_count": 26,
   "outputs": [],
   "source": [
    "zeros = np.zeros((2, 3), dtype=float)"
   ],
   "metadata": {
    "collapsed": false,
    "ExecuteTime": {
     "end_time": "2023-11-29T00:10:16.821624800Z",
     "start_time": "2023-11-29T00:10:16.803354400Z"
    }
   },
   "id": "9e5a1b513ca373f6"
  },
  {
   "cell_type": "code",
   "execution_count": 27,
   "outputs": [
    {
     "data": {
      "text/plain": "array([[0., 0., 0.],\n       [0., 0., 0.]])"
     },
     "execution_count": 27,
     "metadata": {},
     "output_type": "execute_result"
    }
   ],
   "source": [
    "zeros"
   ],
   "metadata": {
    "collapsed": false,
    "ExecuteTime": {
     "end_time": "2023-11-29T00:10:17.269338600Z",
     "start_time": "2023-11-29T00:10:17.251345600Z"
    }
   },
   "id": "c6610fabaaa7212c"
  },
  {
   "cell_type": "markdown",
   "source": [
    "### Creating even spaced values numpy array - np.arange(start, stop, step)"
   ],
   "metadata": {
    "collapsed": false
   },
   "id": "d128a042f0d11ce7"
  },
  {
   "cell_type": "code",
   "execution_count": 28,
   "outputs": [],
   "source": [
    "range_array = np.arange(0, 10, 2)"
   ],
   "metadata": {
    "collapsed": false,
    "ExecuteTime": {
     "end_time": "2023-11-29T00:11:29.253413300Z",
     "start_time": "2023-11-29T00:11:29.229476500Z"
    }
   },
   "id": "c9da55ad75982651"
  },
  {
   "cell_type": "code",
   "execution_count": 29,
   "outputs": [
    {
     "data": {
      "text/plain": "array([0, 2, 4, 6, 8])"
     },
     "execution_count": 29,
     "metadata": {},
     "output_type": "execute_result"
    }
   ],
   "source": [
    "range_array"
   ],
   "metadata": {
    "collapsed": false,
    "ExecuteTime": {
     "end_time": "2023-11-29T00:11:31.443073800Z",
     "start_time": "2023-11-29T00:11:31.413783700Z"
    }
   },
   "id": "978fa0cff006a556"
  },
  {
   "cell_type": "markdown",
   "source": [
    "### Creating numpy array with random values - np.random.randint(start, stop, size = (3, 5))"
   ],
   "metadata": {
    "collapsed": false
   },
   "id": "dc9cc49886459e62"
  },
  {
   "cell_type": "code",
   "execution_count": 32,
   "outputs": [],
   "source": [
    "random_array = np.random.randint(0, 10, size = (3, 5))"
   ],
   "metadata": {
    "collapsed": false,
    "ExecuteTime": {
     "end_time": "2023-11-29T00:13:33.633752800Z",
     "start_time": "2023-11-29T00:13:33.616346900Z"
    }
   },
   "id": "4fe7f74d1ffcf550"
  },
  {
   "cell_type": "code",
   "execution_count": 33,
   "outputs": [
    {
     "data": {
      "text/plain": "array([[3, 5, 4, 7, 2],\n       [6, 4, 0, 0, 6],\n       [9, 4, 3, 8, 4]])"
     },
     "execution_count": 33,
     "metadata": {},
     "output_type": "execute_result"
    }
   ],
   "source": [
    "random_array"
   ],
   "metadata": {
    "collapsed": false,
    "ExecuteTime": {
     "end_time": "2023-11-29T00:13:33.955995Z",
     "start_time": "2023-11-29T00:13:33.941663300Z"
    }
   },
   "id": "4555f5d44595c499"
  },
  {
   "cell_type": "markdown",
   "source": [
    "### Creating numpy array with random values ranging from [0.0, 1.0) - np.random.random(size = ()) or np.random.rand(d1, d2, ....)"
   ],
   "metadata": {
    "collapsed": false
   },
   "id": "bfa56a93e7a1a655"
  },
  {
   "cell_type": "code",
   "execution_count": 37,
   "outputs": [],
   "source": [
    "random_array2 = np.random.random(size = (5, 3))"
   ],
   "metadata": {
    "collapsed": false,
    "ExecuteTime": {
     "end_time": "2023-11-29T00:15:46.064606900Z",
     "start_time": "2023-11-29T00:15:46.047088800Z"
    }
   },
   "id": "9241bdd5e43a0c28"
  },
  {
   "cell_type": "code",
   "execution_count": 38,
   "outputs": [
    {
     "data": {
      "text/plain": "array([[0.40799484, 0.46534829, 0.12977194],\n       [0.23410917, 0.37346983, 0.67666114],\n       [0.18560398, 0.25809396, 0.46570201],\n       [0.02328162, 0.96408593, 0.57705478],\n       [0.7232832 , 0.20556649, 0.57676184]])"
     },
     "execution_count": 38,
     "metadata": {},
     "output_type": "execute_result"
    }
   ],
   "source": [
    "random_array2"
   ],
   "metadata": {
    "collapsed": false,
    "ExecuteTime": {
     "end_time": "2023-11-29T00:15:47.047849600Z",
     "start_time": "2023-11-29T00:15:47.034710600Z"
    }
   },
   "id": "b8e90f1acd647992"
  },
  {
   "cell_type": "code",
   "execution_count": 39,
   "outputs": [],
   "source": [
    "random_array3 = np.random.rand(5, 3)"
   ],
   "metadata": {
    "collapsed": false,
    "ExecuteTime": {
     "end_time": "2023-11-29T00:16:06.168344100Z",
     "start_time": "2023-11-29T00:16:06.143122Z"
    }
   },
   "id": "c9cdf473660ce1ba"
  },
  {
   "cell_type": "code",
   "execution_count": 40,
   "outputs": [
    {
     "data": {
      "text/plain": "array([[0.53660668, 0.31283748, 0.83367284],\n       [0.42107564, 0.8273376 , 0.68915443],\n       [0.2031369 , 0.04569394, 0.78528319],\n       [0.22099877, 0.80278951, 0.81406847],\n       [0.08950514, 0.16985724, 0.31140641]])"
     },
     "execution_count": 40,
     "metadata": {},
     "output_type": "execute_result"
    }
   ],
   "source": [
    "random_array3"
   ],
   "metadata": {
    "collapsed": false,
    "ExecuteTime": {
     "end_time": "2023-11-29T00:16:08.868220100Z",
     "start_time": "2023-11-29T00:16:08.841939300Z"
    }
   },
   "id": "1b438594ba5bc1a1"
  },
  {
   "cell_type": "markdown",
   "source": [
    "### Getting same numpy random array - np.random.seed(seed_value)"
   ],
   "metadata": {
    "collapsed": false
   },
   "id": "46a5318eceadeae2"
  },
  {
   "cell_type": "code",
   "execution_count": 47,
   "outputs": [
    {
     "data": {
      "text/plain": "array([[5, 0, 3],\n       [3, 7, 9],\n       [3, 5, 2],\n       [4, 7, 6],\n       [8, 8, 1]])"
     },
     "execution_count": 47,
     "metadata": {},
     "output_type": "execute_result"
    }
   ],
   "source": [
    "np.random.seed(0)\n",
    "random_array4 = np.random.randint(10, size = (5, 3))\n",
    "random_array4"
   ],
   "metadata": {
    "collapsed": false,
    "ExecuteTime": {
     "end_time": "2023-11-29T00:19:47.663050500Z",
     "start_time": "2023-11-29T00:19:47.649239600Z"
    }
   },
   "id": "b193061ec42dca39"
  },
  {
   "cell_type": "code",
   "execution_count": 43,
   "outputs": [
    {
     "data": {
      "text/plain": "(5, 3)"
     },
     "execution_count": 43,
     "metadata": {},
     "output_type": "execute_result"
    }
   ],
   "source": [
    "random_array4.shape"
   ],
   "metadata": {
    "collapsed": false,
    "ExecuteTime": {
     "end_time": "2023-11-29T00:18:45.361364400Z",
     "start_time": "2023-11-29T00:18:45.332406700Z"
    }
   },
   "id": "8f4987156e648890"
  },
  {
   "cell_type": "code",
   "execution_count": 49,
   "outputs": [
    {
     "data": {
      "text/plain": "array([[0.07630829, 0.77991879, 0.43840923],\n       [0.72346518, 0.97798951, 0.53849587],\n       [0.50112046, 0.07205113, 0.26843898],\n       [0.4998825 , 0.67923   , 0.80373904],\n       [0.38094113, 0.06593635, 0.2881456 ]])"
     },
     "execution_count": 49,
     "metadata": {},
     "output_type": "execute_result"
    }
   ],
   "source": [
    "np.random.seed(7)\n",
    "random_array5 = np.random.rand(5, 3)\n",
    "random_array5"
   ],
   "metadata": {
    "collapsed": false,
    "ExecuteTime": {
     "end_time": "2023-11-29T00:21:15.574494200Z",
     "start_time": "2023-11-29T00:21:15.560806100Z"
    }
   },
   "id": "71576a2fc0b4fa49"
  },
  {
   "cell_type": "markdown",
   "source": [
    "## Viewing Arrays and Matrices"
   ],
   "metadata": {
    "collapsed": false
   },
   "id": "f1c154338e0efb77"
  },
  {
   "cell_type": "markdown",
   "source": [
    "### Finding unique element in the numpy array - np.unique(ar)"
   ],
   "metadata": {
    "collapsed": false
   },
   "id": "f4a99ae78edf29ae"
  },
  {
   "cell_type": "code",
   "execution_count": 51,
   "outputs": [
    {
     "data": {
      "text/plain": "array([0, 1, 2, 3, 4, 5, 6, 7, 8, 9])"
     },
     "execution_count": 51,
     "metadata": {},
     "output_type": "execute_result"
    }
   ],
   "source": [
    "np.unique(random_array4)"
   ],
   "metadata": {
    "collapsed": false,
    "ExecuteTime": {
     "end_time": "2023-11-29T00:24:04.167080Z",
     "start_time": "2023-11-29T00:24:04.141881600Z"
    }
   },
   "id": "e2100c1d9a69d02"
  },
  {
   "cell_type": "code",
   "execution_count": null,
   "outputs": [],
   "source": [],
   "metadata": {
    "collapsed": false
   },
   "id": "7df27d4b9fbf6834"
  },
  {
   "cell_type": "markdown",
   "source": [
    "### Indexing elements of numpy array - ar[:, :] (anything more than 1 dim is called matrix)(any dim is called array)"
   ],
   "metadata": {
    "collapsed": false
   },
   "id": "972a277009d6cfe7"
  },
  {
   "cell_type": "code",
   "execution_count": 52,
   "outputs": [
    {
     "data": {
      "text/plain": "1"
     },
     "execution_count": 52,
     "metadata": {},
     "output_type": "execute_result"
    }
   ],
   "source": [
    "a1[0], "
   ],
   "metadata": {
    "collapsed": false,
    "ExecuteTime": {
     "end_time": "2023-11-29T00:25:17.333364600Z",
     "start_time": "2023-11-29T00:25:17.304150400Z"
    }
   },
   "id": "ee17210326a5dbe8"
  },
  {
   "cell_type": "code",
   "execution_count": 53,
   "outputs": [
    {
     "data": {
      "text/plain": "array([[[ 1,  2],\n        [ 4,  5]],\n\n       [[ 7,  8],\n        [10, 11]]])"
     },
     "execution_count": 53,
     "metadata": {},
     "output_type": "execute_result"
    }
   ],
   "source": [
    "a3[:2, :2, :2]"
   ],
   "metadata": {
    "collapsed": false,
    "ExecuteTime": {
     "end_time": "2023-11-29T00:27:11.048974500Z",
     "start_time": "2023-11-29T00:27:11.021295100Z"
    }
   },
   "id": "8b1dacbd09f1c012"
  },
  {
   "cell_type": "code",
   "execution_count": 58,
   "outputs": [
    {
     "data": {
      "text/plain": "array([[[[0, 5, 3, 0, 5],\n         [7, 1, 8, 4, 9],\n         [0, 2, 0, 7, 6],\n         [2, 9, 9, 5, 1]],\n\n        [[0, 0, 9, 1, 1],\n         [5, 3, 2, 0, 4],\n         [8, 7, 1, 4, 9],\n         [3, 6, 7, 1, 0]],\n\n        [[2, 7, 0, 0, 9],\n         [8, 2, 0, 5, 5],\n         [0, 9, 0, 8, 4],\n         [5, 1, 4, 0, 7]]],\n\n\n       [[[2, 0, 3, 9, 8],\n         [3, 7, 1, 0, 1],\n         [4, 6, 1, 0, 1],\n         [0, 1, 8, 4, 1]],\n\n        [[6, 8, 5, 2, 4],\n         [7, 4, 1, 2, 8],\n         [5, 2, 9, 6, 2],\n         [5, 7, 7, 5, 5]],\n\n        [[6, 0, 6, 4, 6],\n         [2, 6, 8, 7, 0],\n         [5, 8, 9, 7, 7],\n         [6, 2, 5, 6, 1]]]])"
     },
     "execution_count": 58,
     "metadata": {},
     "output_type": "execute_result"
    }
   ],
   "source": [
    "a4 = np.random.randint(10, size = (2,3,4,5))\n",
    "a4"
   ],
   "metadata": {
    "collapsed": false,
    "ExecuteTime": {
     "end_time": "2023-11-29T00:29:40.575764500Z",
     "start_time": "2023-11-29T00:29:40.554483Z"
    }
   },
   "id": "dae333eaf0ce84c9"
  },
  {
   "cell_type": "code",
   "execution_count": 59,
   "outputs": [
    {
     "data": {
      "text/plain": "((2, 3, 4, 5), 4)"
     },
     "execution_count": 59,
     "metadata": {},
     "output_type": "execute_result"
    }
   ],
   "source": [
    "a4.shape, a4.ndim"
   ],
   "metadata": {
    "collapsed": false,
    "ExecuteTime": {
     "end_time": "2023-11-29T00:29:53.428081900Z",
     "start_time": "2023-11-29T00:29:53.423169200Z"
    }
   },
   "id": "f6f1a0dc102bacc2"
  },
  {
   "cell_type": "code",
   "execution_count": 60,
   "outputs": [
    {
     "data": {
      "text/plain": "array([[[[0, 5, 3, 0]],\n\n        [[0, 0, 9, 1]],\n\n        [[2, 7, 0, 0]]],\n\n\n       [[[2, 0, 3, 9]],\n\n        [[6, 8, 5, 2]],\n\n        [[6, 0, 6, 4]]]])"
     },
     "execution_count": 60,
     "metadata": {},
     "output_type": "execute_result"
    }
   ],
   "source": [
    "a4[:, :, :1, :4]"
   ],
   "metadata": {
    "collapsed": false,
    "ExecuteTime": {
     "end_time": "2023-11-29T00:29:53.900168800Z",
     "start_time": "2023-11-29T00:29:53.884980900Z"
    }
   },
   "id": "ad93e883e192b438"
  },
  {
   "cell_type": "markdown",
   "source": [
    "## Manipulating & Comapring Arrays"
   ],
   "metadata": {
    "collapsed": false
   },
   "id": "7e9366463eae9750"
  },
  {
   "cell_type": "markdown",
   "source": [
    "### Arithmetic Operators - Subject to certain constraints, the smaller array is broadcast across the large array so that they have compatible shapes."
   ],
   "metadata": {
    "collapsed": false
   },
   "id": "3ce69bda381f00be"
  },
  {
   "cell_type": "markdown",
   "source": [
    "### Arithmetic Operator add - ar1 + ar2 "
   ],
   "metadata": {
    "collapsed": false
   },
   "id": "9db6a64049548594"
  },
  {
   "cell_type": "code",
   "execution_count": 61,
   "outputs": [],
   "source": [
    "ones = np.ones(3)"
   ],
   "metadata": {
    "collapsed": false,
    "ExecuteTime": {
     "end_time": "2023-11-29T00:31:37.365096200Z",
     "start_time": "2023-11-29T00:31:37.339662100Z"
    }
   },
   "id": "f81e3b14c5338c4c"
  },
  {
   "cell_type": "code",
   "execution_count": 62,
   "outputs": [
    {
     "data": {
      "text/plain": "array([2., 3., 4.])"
     },
     "execution_count": 62,
     "metadata": {},
     "output_type": "execute_result"
    }
   ],
   "source": [
    "a1 + ones"
   ],
   "metadata": {
    "collapsed": false,
    "ExecuteTime": {
     "end_time": "2023-11-29T00:31:41.520755300Z",
     "start_time": "2023-11-29T00:31:41.491076400Z"
    }
   },
   "id": "88c9bcc4bb98f7d9"
  },
  {
   "cell_type": "code",
   "execution_count": 63,
   "outputs": [
    {
     "data": {
      "text/plain": "array([1, 2, 3])"
     },
     "execution_count": 63,
     "metadata": {},
     "output_type": "execute_result"
    }
   ],
   "source": [
    "a1"
   ],
   "metadata": {
    "collapsed": false,
    "ExecuteTime": {
     "end_time": "2023-11-29T00:31:44.734145200Z",
     "start_time": "2023-11-29T00:31:44.704910300Z"
    }
   },
   "id": "14831bcb0a1480e4"
  },
  {
   "cell_type": "markdown",
   "source": [
    "### Arithmetic Operation sub - ar1 - ar2"
   ],
   "metadata": {
    "collapsed": false
   },
   "id": "bb3a862d8738a105"
  },
  {
   "cell_type": "code",
   "execution_count": 64,
   "outputs": [
    {
     "data": {
      "text/plain": "array([0., 1., 2.])"
     },
     "execution_count": 64,
     "metadata": {},
     "output_type": "execute_result"
    }
   ],
   "source": [
    "a1 - ones"
   ],
   "metadata": {
    "collapsed": false,
    "ExecuteTime": {
     "end_time": "2023-11-29T00:32:35.819791200Z",
     "start_time": "2023-11-29T00:32:35.788830300Z"
    }
   },
   "id": "32a0e23772f900ce"
  },
  {
   "cell_type": "markdown",
   "source": [
    "### Arithmetic Operator mul - ar1 * ar2"
   ],
   "metadata": {
    "collapsed": false
   },
   "id": "736a61553654c062"
  },
  {
   "cell_type": "code",
   "execution_count": 65,
   "outputs": [
    {
     "data": {
      "text/plain": "array([1., 2., 3.])"
     },
     "execution_count": 65,
     "metadata": {},
     "output_type": "execute_result"
    }
   ],
   "source": [
    "a1 * ones"
   ],
   "metadata": {
    "collapsed": false,
    "ExecuteTime": {
     "end_time": "2023-11-29T00:32:39.615035500Z",
     "start_time": "2023-11-29T00:32:39.564266200Z"
    }
   },
   "id": "459b2005712c2936"
  },
  {
   "cell_type": "code",
   "execution_count": 66,
   "outputs": [
    {
     "data": {
      "text/plain": "array([[ 1. ,  4. ,  9.9],\n       [ 4. , 10. , 19.5]])"
     },
     "execution_count": 66,
     "metadata": {},
     "output_type": "execute_result"
    }
   ],
   "source": [
    "a1 * a2"
   ],
   "metadata": {
    "collapsed": false,
    "ExecuteTime": {
     "end_time": "2023-11-29T00:33:03.539412900Z",
     "start_time": "2023-11-29T00:33:03.498478Z"
    }
   },
   "id": "f107c08e7685b361"
  },
  {
   "cell_type": "code",
   "execution_count": 67,
   "outputs": [
    {
     "data": {
      "text/plain": "array([[[  1. ,   4. ,   9.9],\n        [ 16. ,  25. ,  39. ]],\n\n       [[  7. ,  16. ,  29.7],\n        [ 40. ,  55. ,  78. ]],\n\n       [[ 13. ,  28. ,  49.5],\n        [ 64. ,  85. , 117. ]]])"
     },
     "execution_count": 67,
     "metadata": {},
     "output_type": "execute_result"
    }
   ],
   "source": [
    "a2 * a3"
   ],
   "metadata": {
    "collapsed": false,
    "ExecuteTime": {
     "end_time": "2023-11-29T00:38:09.581985100Z",
     "start_time": "2023-11-29T00:38:09.541501200Z"
    }
   },
   "id": "e81e5a09ac5077d9"
  },
  {
   "cell_type": "code",
   "execution_count": 68,
   "outputs": [
    {
     "data": {
      "text/plain": "array([1., 2., 3.])"
     },
     "execution_count": 68,
     "metadata": {},
     "output_type": "execute_result"
    }
   ],
   "source": [
    "a1 / ones"
   ],
   "metadata": {
    "collapsed": false,
    "ExecuteTime": {
     "end_time": "2023-11-29T00:38:18.951657400Z",
     "start_time": "2023-11-29T00:38:18.919466500Z"
    }
   },
   "id": "44e4b390f8d5af72"
  },
  {
   "cell_type": "markdown",
   "source": [
    "### Arithmetic Operation - floor division ar1 // ar2"
   ],
   "metadata": {
    "collapsed": false
   },
   "id": "955c1ab4d3bcda54"
  },
  {
   "cell_type": "code",
   "execution_count": 69,
   "outputs": [
    {
     "data": {
      "text/plain": "array([[1., 1., 1.],\n       [4., 2., 2.]])"
     },
     "execution_count": 69,
     "metadata": {},
     "output_type": "execute_result"
    }
   ],
   "source": [
    "a2 // a1"
   ],
   "metadata": {
    "collapsed": false,
    "ExecuteTime": {
     "end_time": "2023-11-29T00:38:23.039114900Z",
     "start_time": "2023-11-29T00:38:22.996216300Z"
    }
   },
   "id": "1fb28425cbac3ed2"
  },
  {
   "cell_type": "markdown",
   "source": [
    "### Arithmetic Operation square ar1 ** 2 or np.square(ar1)"
   ],
   "metadata": {
    "collapsed": false
   },
   "id": "71813e6a224cf060"
  },
  {
   "cell_type": "code",
   "execution_count": 70,
   "outputs": [
    {
     "data": {
      "text/plain": "array([1, 4, 9])"
     },
     "execution_count": 70,
     "metadata": {},
     "output_type": "execute_result"
    }
   ],
   "source": [
    "np.square(a1)"
   ],
   "metadata": {
    "collapsed": false,
    "ExecuteTime": {
     "end_time": "2023-11-29T00:39:37.610595600Z",
     "start_time": "2023-11-29T00:39:37.577196800Z"
    }
   },
   "id": "9ed1cf3083f083de"
  },
  {
   "cell_type": "markdown",
   "source": [
    "### Log operation on numpy array np.log(ar)"
   ],
   "metadata": {
    "collapsed": false
   },
   "id": "e8811fa8abeaa82c"
  },
  {
   "cell_type": "code",
   "execution_count": 71,
   "outputs": [
    {
     "data": {
      "text/plain": "array([0.        , 0.69314718, 1.09861229])"
     },
     "execution_count": 71,
     "metadata": {},
     "output_type": "execute_result"
    }
   ],
   "source": [
    "np.log(a1)"
   ],
   "metadata": {
    "collapsed": false,
    "ExecuteTime": {
     "end_time": "2023-11-29T00:40:41.024246800Z",
     "start_time": "2023-11-29T00:40:40.988531Z"
    }
   },
   "id": "55d16744326a7b31"
  },
  {
   "cell_type": "code",
   "execution_count": null,
   "outputs": [],
   "source": [],
   "metadata": {
    "collapsed": false
   },
   "id": "6cf0af1b491c601d"
  }
 ],
 "metadata": {
  "kernelspec": {
   "display_name": "Python 3",
   "language": "python",
   "name": "python3"
  },
  "language_info": {
   "codemirror_mode": {
    "name": "ipython",
    "version": 2
   },
   "file_extension": ".py",
   "mimetype": "text/x-python",
   "name": "python",
   "nbconvert_exporter": "python",
   "pygments_lexer": "ipython2",
   "version": "2.7.6"
  }
 },
 "nbformat": 4,
 "nbformat_minor": 5
}
