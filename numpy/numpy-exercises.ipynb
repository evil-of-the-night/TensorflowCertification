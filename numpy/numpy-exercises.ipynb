{
 "cells": [
  {
   "cell_type": "markdown",
   "metadata": {},
   "source": [
    "# NumPy Practice\n",
    "\n",
    "This notebook offers a set of exercises for different tasks with NumPy.\n",
    "\n",
    "It should be noted there may be more than one different way to answer a question or complete an exercise.\n",
    "\n",
    "Exercises are based off (and directly taken from) the quick introduction to NumPy notebook.\n",
    "\n",
    "Different tasks will be detailed by comments or text.\n",
    "\n",
    "For further reference and resources, it's advised to check out the [NumPy documentation](https://numpy.org/devdocs/user/index.html).\n",
    "\n",
    "And if you get stuck, try searching for a question in the following format: \"how to do XYZ with numpy\", where XYZ is the function you want to leverage from NumPy."
   ]
  },
  {
   "cell_type": "code",
   "execution_count": 1,
   "metadata": {
    "ExecuteTime": {
     "end_time": "2023-12-01T00:34:24.287991600Z",
     "start_time": "2023-12-01T00:34:24.095199300Z"
    }
   },
   "outputs": [],
   "source": [
    "# Import NumPy as its abbreviation 'np'\n",
    "import numpy as np"
   ]
  },
  {
   "cell_type": "code",
   "execution_count": 2,
   "metadata": {
    "ExecuteTime": {
     "end_time": "2023-12-01T00:35:20.628109Z",
     "start_time": "2023-12-01T00:35:20.594081400Z"
    }
   },
   "outputs": [],
   "source": [
    "# Create a 1-dimensional NumPy array using np.array()\n",
    "a1 = np.array([1,2,3])\n",
    "\n",
    "# Create a 2-dimensional NumPy array using np.array()\n",
    "a2 = np.array([[1, 2.0, 3.3], [4, 5, 6.5]])\n",
    "\n",
    "# Create a 3-dimensional Numpy array using np.array()\n",
    "a3 = np.array([[[1,2,3], [4,5,6], [7,8,9]], [[10, 11, 12], [13,14,15],[16,17,18]]])"
   ]
  },
  {
   "cell_type": "markdown",
   "metadata": {},
   "source": [
    "Now we've you've created 3 different arrays, let's find details about them.\n",
    "\n",
    "Find the shape, number of dimensions, data type, size and type of each array."
   ]
  },
  {
   "cell_type": "code",
   "execution_count": 3,
   "metadata": {
    "ExecuteTime": {
     "end_time": "2023-12-01T00:35:40.920496500Z",
     "start_time": "2023-12-01T00:35:40.889934100Z"
    }
   },
   "outputs": [
    {
     "data": {
      "text/plain": "(dtype('int32'), (3,), 1, 3)"
     },
     "execution_count": 3,
     "metadata": {},
     "output_type": "execute_result"
    }
   ],
   "source": [
    "# Attributes of 1-dimensional array (shape, \n",
    "# number of dimensions, data type, size and type)\n",
    "a1.dtype, a1.shape, a1.ndim, a1.size"
   ]
  },
  {
   "cell_type": "code",
   "execution_count": 5,
   "metadata": {
    "ExecuteTime": {
     "end_time": "2023-12-01T00:36:11.737164500Z",
     "start_time": "2023-12-01T00:36:11.716151Z"
    }
   },
   "outputs": [
    {
     "data": {
      "text/plain": "(dtype('float64'), (2, 3), 2, 6)"
     },
     "execution_count": 5,
     "metadata": {},
     "output_type": "execute_result"
    }
   ],
   "source": [
    "# Attributes of 2-dimensional array\n",
    "a2.dtype, a2.shape, a2.ndim, a2.size"
   ]
  },
  {
   "cell_type": "code",
   "execution_count": 4,
   "metadata": {
    "ExecuteTime": {
     "end_time": "2023-12-01T00:36:09.350957800Z",
     "start_time": "2023-12-01T00:36:09.316888100Z"
    }
   },
   "outputs": [
    {
     "data": {
      "text/plain": "(dtype('int32'), (2, 3, 3), 3, 18)"
     },
     "execution_count": 4,
     "metadata": {},
     "output_type": "execute_result"
    }
   ],
   "source": [
    "# Attributes of 3-dimensional array\n",
    "a3.dtype, a3.shape, a3.ndim, a3.size"
   ]
  },
  {
   "cell_type": "code",
   "execution_count": 6,
   "metadata": {
    "ExecuteTime": {
     "end_time": "2023-12-01T00:36:49.671340700Z",
     "start_time": "2023-12-01T00:36:48.819739400Z"
    }
   },
   "outputs": [
    {
     "data": {
      "text/plain": "     0    1    2\n0  1.0  2.0  3.3\n1  4.0  5.0  6.5",
      "text/html": "<div>\n<style scoped>\n    .dataframe tbody tr th:only-of-type {\n        vertical-align: middle;\n    }\n\n    .dataframe tbody tr th {\n        vertical-align: top;\n    }\n\n    .dataframe thead th {\n        text-align: right;\n    }\n</style>\n<table border=\"1\" class=\"dataframe\">\n  <thead>\n    <tr style=\"text-align: right;\">\n      <th></th>\n      <th>0</th>\n      <th>1</th>\n      <th>2</th>\n    </tr>\n  </thead>\n  <tbody>\n    <tr>\n      <th>0</th>\n      <td>1.0</td>\n      <td>2.0</td>\n      <td>3.3</td>\n    </tr>\n    <tr>\n      <th>1</th>\n      <td>4.0</td>\n      <td>5.0</td>\n      <td>6.5</td>\n    </tr>\n  </tbody>\n</table>\n</div>"
     },
     "execution_count": 6,
     "metadata": {},
     "output_type": "execute_result"
    }
   ],
   "source": [
    "# Import pandas and create a DataFrame out of one\n",
    "# of the arrays you've created\n",
    "import pandas as pd\n",
    "df = pd.DataFrame(a2)\n",
    "df"
   ]
  },
  {
   "cell_type": "code",
   "execution_count": 7,
   "metadata": {
    "ExecuteTime": {
     "end_time": "2023-12-01T00:37:11.520978Z",
     "start_time": "2023-12-01T00:37:11.473041800Z"
    }
   },
   "outputs": [
    {
     "data": {
      "text/plain": "array([[1., 1.],\n       [1., 1.],\n       [1., 1.],\n       [1., 1.],\n       [1., 1.],\n       [1., 1.],\n       [1., 1.],\n       [1., 1.],\n       [1., 1.],\n       [1., 1.]])"
     },
     "execution_count": 7,
     "metadata": {},
     "output_type": "execute_result"
    }
   ],
   "source": [
    "# Create an array of shape (10, 2) with only ones\n",
    "ones = np.ones((10, 2))\n",
    "ones"
   ]
  },
  {
   "cell_type": "code",
   "execution_count": 14,
   "metadata": {
    "ExecuteTime": {
     "end_time": "2023-12-01T00:38:39.481865300Z",
     "start_time": "2023-12-01T00:38:39.445775100Z"
    }
   },
   "outputs": [
    {
     "data": {
      "text/plain": "array([[[0., 0., 0.],\n        [0., 0., 0.]],\n\n       [[0., 0., 0.],\n        [0., 0., 0.]],\n\n       [[0., 0., 0.],\n        [0., 0., 0.]],\n\n       [[0., 0., 0.],\n        [0., 0., 0.]],\n\n       [[0., 0., 0.],\n        [0., 0., 0.]],\n\n       [[0., 0., 0.],\n        [0., 0., 0.]],\n\n       [[0., 0., 0.],\n        [0., 0., 0.]]])"
     },
     "execution_count": 14,
     "metadata": {},
     "output_type": "execute_result"
    }
   ],
   "source": [
    "# Create an array of shape (7, 2, 3) of only zeros\n",
    "zeros = np.zeros(shape = (7,2,3))\n",
    "zeros"
   ]
  },
  {
   "cell_type": "code",
   "execution_count": 10,
   "metadata": {
    "ExecuteTime": {
     "end_time": "2023-12-01T00:37:52.529686400Z",
     "start_time": "2023-12-01T00:37:52.487761200Z"
    }
   },
   "outputs": [
    {
     "data": {
      "text/plain": "array([ 0,  2,  4,  6,  8, 10, 12, 14, 16, 18, 20, 22, 24, 26, 28, 30, 32,\n       34, 36, 38, 40, 42, 44, 46, 48, 50, 52, 54, 56, 58, 60, 62, 64, 66,\n       68, 70, 72, 74, 76, 78, 80, 82, 84, 86, 88, 90, 92, 94, 96, 98])"
     },
     "execution_count": 10,
     "metadata": {},
     "output_type": "execute_result"
    }
   ],
   "source": [
    "# Create an array within a range of 0 and 100 with step 3\n",
    "range_array = np.arange(0, 100, 2)\n",
    "range_array"
   ]
  },
  {
   "cell_type": "code",
   "execution_count": 12,
   "metadata": {
    "ExecuteTime": {
     "end_time": "2023-12-01T00:38:24.495711700Z",
     "start_time": "2023-12-01T00:38:24.447481800Z"
    }
   },
   "outputs": [
    {
     "data": {
      "text/plain": "array([[4, 1],\n       [3, 2],\n       [3, 6],\n       [5, 4],\n       [4, 7],\n       [9, 4],\n       [8, 3]])"
     },
     "execution_count": 12,
     "metadata": {},
     "output_type": "execute_result"
    }
   ],
   "source": [
    "# Create a random array with numbers between 0 and 10 of size (7, 2)\n",
    "random_array = np.random.randint(10, size = (7, 2))\n",
    "random_array"
   ]
  },
  {
   "cell_type": "code",
   "execution_count": 16,
   "metadata": {
    "ExecuteTime": {
     "end_time": "2023-12-01T00:39:19.643475Z",
     "start_time": "2023-12-01T00:39:19.597528900Z"
    }
   },
   "outputs": [
    {
     "data": {
      "text/plain": "array([[0.60214281, 0.09050249, 0.99798348, 0.25583201, 0.43153194],\n       [0.95903152, 0.17165199, 0.52806392, 0.4657214 , 0.57544593],\n       [0.41438612, 0.46640212, 0.80048064, 0.91345856, 0.77726342]])"
     },
     "execution_count": 16,
     "metadata": {},
     "output_type": "execute_result"
    }
   ],
   "source": [
    "# Create a random array of floats between 0 & 1 of shape (3, 5)\n",
    "random_array1 = np.random.random((3, 5))\n",
    "random_array1"
   ]
  },
  {
   "cell_type": "code",
   "execution_count": 18,
   "metadata": {
    "ExecuteTime": {
     "end_time": "2023-12-01T00:40:09.710033800Z",
     "start_time": "2023-12-01T00:40:09.679875Z"
    }
   },
   "outputs": [
    {
     "data": {
      "text/plain": "array([[6, 3, 7, 4, 6, 9],\n       [2, 6, 7, 4, 3, 7],\n       [7, 2, 5, 4, 1, 7],\n       [5, 1, 4, 0, 9, 5]])"
     },
     "execution_count": 18,
     "metadata": {},
     "output_type": "execute_result"
    }
   ],
   "source": [
    "# Set the random seed to 42\n",
    "np.random.seed(42)\n",
    "\n",
    "# Create a random array of numbers between 0 & 10 of size (4, 6)\n",
    "random_array2 = np.random.randint(10, size = (4, 6))\n",
    "random_array2"
   ]
  },
  {
   "cell_type": "markdown",
   "metadata": {},
   "source": [
    "Run the cell above again, what happens?\n",
    "\n",
    "Are the numbers in the array different or the same? Why do think this is?"
   ]
  },
  {
   "cell_type": "code",
   "execution_count": 20,
   "metadata": {
    "ExecuteTime": {
     "end_time": "2023-12-01T00:41:11.017435600Z",
     "start_time": "2023-12-01T00:41:10.981014900Z"
    }
   },
   "outputs": [
    {
     "data": {
      "text/plain": "array([1, 2, 3, 4, 5, 6, 7, 8, 9])"
     },
     "execution_count": 20,
     "metadata": {},
     "output_type": "execute_result"
    }
   ],
   "source": [
    "# Create an array of random numbers between 1 & 10 of size (3, 7)\n",
    "# and save it to a variable\n",
    "randint_array  = np.random.randint(1, 10, size = (3, 7))\n",
    "randint_array\n",
    "\n",
    "# Find the unique numbers in the array you just created\n",
    "np.unique(randint_array)"
   ]
  },
  {
   "cell_type": "code",
   "execution_count": 21,
   "metadata": {
    "ExecuteTime": {
     "end_time": "2023-12-01T00:41:28.606821300Z",
     "start_time": "2023-12-01T00:41:28.570884800Z"
    }
   },
   "outputs": [
    {
     "data": {
      "text/plain": "array([7, 8, 3, 1, 4, 2, 8])"
     },
     "execution_count": 21,
     "metadata": {},
     "output_type": "execute_result"
    }
   ],
   "source": [
    "# Find the 0'th index of the latest array you created\n",
    "randint_array[0]"
   ]
  },
  {
   "cell_type": "code",
   "execution_count": 22,
   "metadata": {
    "ExecuteTime": {
     "end_time": "2023-12-01T00:41:35.858708500Z",
     "start_time": "2023-12-01T00:41:35.818480700Z"
    }
   },
   "outputs": [
    {
     "data": {
      "text/plain": "array([[7, 8, 3, 1, 4, 2, 8],\n       [4, 2, 6, 6, 4, 6, 2]])"
     },
     "execution_count": 22,
     "metadata": {},
     "output_type": "execute_result"
    }
   ],
   "source": [
    "# Get the first 2 rows of latest array you created\n",
    "randint_array[:2]"
   ]
  },
  {
   "cell_type": "code",
   "execution_count": 23,
   "metadata": {
    "ExecuteTime": {
     "end_time": "2023-12-01T00:41:44.789935200Z",
     "start_time": "2023-12-01T00:41:44.748287300Z"
    }
   },
   "outputs": [
    {
     "data": {
      "text/plain": "array([[7, 8],\n       [4, 2]])"
     },
     "execution_count": 23,
     "metadata": {},
     "output_type": "execute_result"
    }
   ],
   "source": [
    "# Get the first 2 values of the first 2 rows of the latest array\n",
    "randint_array[:2, :2]"
   ]
  },
  {
   "cell_type": "code",
   "execution_count": 24,
   "metadata": {
    "ExecuteTime": {
     "end_time": "2023-12-01T00:42:38.028998400Z",
     "start_time": "2023-12-01T00:42:37.996097800Z"
    }
   },
   "outputs": [],
   "source": [
    "# Create a random array of numbers between 0 & 10 and an array of ones\n",
    "# both of size (3, 5), save them both to variables\n",
    "randint_array1 = np.random.randint(10, size = (3, 5))\n",
    "ones = np.ones((3, 5))\n"
   ]
  },
  {
   "cell_type": "code",
   "execution_count": 25,
   "metadata": {
    "ExecuteTime": {
     "end_time": "2023-12-01T00:42:43.280623100Z",
     "start_time": "2023-12-01T00:42:43.239228600Z"
    }
   },
   "outputs": [
    {
     "data": {
      "text/plain": "array([[ 2.,  5.,  8., 10.,  9.],\n       [ 9.,  1.,  9.,  7.,  9.],\n       [ 8.,  1.,  8.,  8.,  3.]])"
     },
     "execution_count": 25,
     "metadata": {},
     "output_type": "execute_result"
    }
   ],
   "source": [
    "# Add the two arrays together\n",
    "randint_array1 + ones"
   ]
  },
  {
   "cell_type": "code",
   "execution_count": 26,
   "metadata": {
    "ExecuteTime": {
     "end_time": "2023-12-01T00:42:58.272613100Z",
     "start_time": "2023-12-01T00:42:58.221466700Z"
    }
   },
   "outputs": [],
   "source": [
    "# Create another array of ones of shape (5, 3)\n",
    "another_ones = ones.T"
   ]
  },
  {
   "cell_type": "code",
   "execution_count": 27,
   "metadata": {
    "ExecuteTime": {
     "end_time": "2023-12-01T00:43:08.820974400Z",
     "start_time": "2023-12-01T00:43:08.712568500Z"
    }
   },
   "outputs": [
    {
     "ename": "ValueError",
     "evalue": "operands could not be broadcast together with shapes (3,5) (5,3) ",
     "output_type": "error",
     "traceback": [
      "\u001B[1;31m---------------------------------------------------------------------------\u001B[0m",
      "\u001B[1;31mValueError\u001B[0m                                Traceback (most recent call last)",
      "Cell \u001B[1;32mIn[27], line 2\u001B[0m\n\u001B[0;32m      1\u001B[0m \u001B[38;5;66;03m# Try add the array of ones and the other most recent array together\u001B[39;00m\n\u001B[1;32m----> 2\u001B[0m ones \u001B[38;5;241m+\u001B[39m another_ones\n",
      "\u001B[1;31mValueError\u001B[0m: operands could not be broadcast together with shapes (3,5) (5,3) "
     ]
    }
   ],
   "source": [
    "# Try add the array of ones and the other most recent array together\n",
    "ones + another_ones"
   ]
  },
  {
   "cell_type": "markdown",
   "metadata": {},
   "source": [
    "When you try the last cell, it produces an error. Why do think this is?\n",
    "\n",
    "How would you fix it?"
   ]
  },
  {
   "cell_type": "code",
   "execution_count": 28,
   "metadata": {
    "ExecuteTime": {
     "end_time": "2023-12-01T00:43:29.788747400Z",
     "start_time": "2023-12-01T00:43:29.740449200Z"
    }
   },
   "outputs": [],
   "source": [
    "# Create another array of ones of shape (3, 5)\n",
    "another_ones1 = np.ones((3, 5))"
   ]
  },
  {
   "cell_type": "code",
   "execution_count": 29,
   "metadata": {
    "ExecuteTime": {
     "end_time": "2023-12-01T00:43:46.850443900Z",
     "start_time": "2023-12-01T00:43:46.810424500Z"
    }
   },
   "outputs": [
    {
     "data": {
      "text/plain": "array([[0., 0., 0., 0., 0.],\n       [0., 0., 0., 0., 0.],\n       [0., 0., 0., 0., 0.]])"
     },
     "execution_count": 29,
     "metadata": {},
     "output_type": "execute_result"
    }
   ],
   "source": [
    "# Subtract the new array of ones from the other most recent array\n",
    "ones - another_ones1"
   ]
  },
  {
   "cell_type": "code",
   "execution_count": 30,
   "metadata": {
    "ExecuteTime": {
     "end_time": "2023-12-01T00:44:01.353315900Z",
     "start_time": "2023-12-01T00:44:01.296706200Z"
    }
   },
   "outputs": [
    {
     "data": {
      "text/plain": "array([[1., 4., 7., 9., 8.],\n       [8., 0., 8., 6., 8.],\n       [7., 0., 7., 7., 2.]])"
     },
     "execution_count": 30,
     "metadata": {},
     "output_type": "execute_result"
    }
   ],
   "source": [
    "# Multiply the ones array with the latest array\n",
    "ones * randint_array1"
   ]
  },
  {
   "cell_type": "code",
   "execution_count": 32,
   "metadata": {
    "ExecuteTime": {
     "end_time": "2023-12-01T00:44:25.879957600Z",
     "start_time": "2023-12-01T00:44:25.845193100Z"
    }
   },
   "outputs": [
    {
     "data": {
      "text/plain": "array([[ 1, 16, 49, 81, 64],\n       [64,  0, 64, 36, 64],\n       [49,  0, 49, 49,  4]])"
     },
     "execution_count": 32,
     "metadata": {},
     "output_type": "execute_result"
    }
   ],
   "source": [
    "# Take the latest array to the power of 2 using '**'\n",
    "randint_array1 ** 2"
   ]
  },
  {
   "cell_type": "code",
   "execution_count": 33,
   "metadata": {
    "ExecuteTime": {
     "end_time": "2023-12-01T00:44:29.255940400Z",
     "start_time": "2023-12-01T00:44:29.223157400Z"
    }
   },
   "outputs": [
    {
     "data": {
      "text/plain": "array([[ 1, 16, 49, 81, 64],\n       [64,  0, 64, 36, 64],\n       [49,  0, 49, 49,  4]])"
     },
     "execution_count": 33,
     "metadata": {},
     "output_type": "execute_result"
    }
   ],
   "source": [
    "# Do the same thing with np.square()\n",
    "np.square(randint_array1)"
   ]
  },
  {
   "cell_type": "code",
   "execution_count": 34,
   "metadata": {
    "ExecuteTime": {
     "end_time": "2023-12-01T00:44:37.451107100Z",
     "start_time": "2023-12-01T00:44:37.360730200Z"
    }
   },
   "outputs": [
    {
     "data": {
      "text/plain": "5.466666666666667"
     },
     "execution_count": 34,
     "metadata": {},
     "output_type": "execute_result"
    }
   ],
   "source": [
    "# Find the mean of the latest array using np.mean()\n",
    "np.mean(randint_array1)"
   ]
  },
  {
   "cell_type": "code",
   "execution_count": 35,
   "metadata": {
    "ExecuteTime": {
     "end_time": "2023-12-01T00:44:43.015031600Z",
     "start_time": "2023-12-01T00:44:42.971157200Z"
    }
   },
   "outputs": [
    {
     "data": {
      "text/plain": "9"
     },
     "execution_count": 35,
     "metadata": {},
     "output_type": "execute_result"
    }
   ],
   "source": [
    "# Find the maximum of the latest array using np.max()\n",
    "np.max(randint_array1)"
   ]
  },
  {
   "cell_type": "code",
   "execution_count": 36,
   "metadata": {
    "ExecuteTime": {
     "end_time": "2023-12-01T00:44:52.451433300Z",
     "start_time": "2023-12-01T00:44:52.411572Z"
    }
   },
   "outputs": [
    {
     "data": {
      "text/plain": "0"
     },
     "execution_count": 36,
     "metadata": {},
     "output_type": "execute_result"
    }
   ],
   "source": [
    "# Find the minimum of the latest array using np.min()\n",
    "np.min(randint_array1)"
   ]
  },
  {
   "cell_type": "code",
   "execution_count": 37,
   "metadata": {
    "ExecuteTime": {
     "end_time": "2023-12-01T00:45:00.570137700Z",
     "start_time": "2023-12-01T00:45:00.532984300Z"
    }
   },
   "outputs": [
    {
     "data": {
      "text/plain": "3.0739045022396008"
     },
     "execution_count": 37,
     "metadata": {},
     "output_type": "execute_result"
    }
   ],
   "source": [
    "# Find the standard deviation of the latest array\n",
    "np.std(randint_array1)"
   ]
  },
  {
   "cell_type": "code",
   "execution_count": 38,
   "metadata": {
    "ExecuteTime": {
     "end_time": "2023-12-01T00:45:08.072379200Z",
     "start_time": "2023-12-01T00:45:08.033381500Z"
    }
   },
   "outputs": [
    {
     "data": {
      "text/plain": "9.448888888888888"
     },
     "execution_count": 38,
     "metadata": {},
     "output_type": "execute_result"
    }
   ],
   "source": [
    "# Find the variance of the latest array\n",
    "np.var(randint_array1)"
   ]
  },
  {
   "cell_type": "code",
   "execution_count": 39,
   "metadata": {
    "ExecuteTime": {
     "end_time": "2023-12-01T00:45:18.969515700Z",
     "start_time": "2023-12-01T00:45:18.933024100Z"
    }
   },
   "outputs": [
    {
     "data": {
      "text/plain": "array([[[1],\n        [4],\n        [7],\n        [9],\n        [8]],\n\n       [[8],\n        [0],\n        [8],\n        [6],\n        [8]],\n\n       [[7],\n        [0],\n        [7],\n        [7],\n        [2]]])"
     },
     "execution_count": 39,
     "metadata": {},
     "output_type": "execute_result"
    }
   ],
   "source": [
    "# Reshape the latest array to (3, 5, 1)\n",
    "randint_array1.reshape(3, 5, 1)"
   ]
  },
  {
   "cell_type": "code",
   "execution_count": 40,
   "metadata": {
    "ExecuteTime": {
     "end_time": "2023-12-01T00:45:25.474446500Z",
     "start_time": "2023-12-01T00:45:25.441080700Z"
    }
   },
   "outputs": [
    {
     "data": {
      "text/plain": "array([[1, 8, 7],\n       [4, 0, 0],\n       [7, 8, 7],\n       [9, 6, 7],\n       [8, 8, 2]])"
     },
     "execution_count": 40,
     "metadata": {},
     "output_type": "execute_result"
    }
   ],
   "source": [
    "# Transpose the latest array\n",
    "randint_array1.T"
   ]
  },
  {
   "cell_type": "markdown",
   "metadata": {},
   "source": [
    "What does the transpose do?"
   ]
  },
  {
   "cell_type": "code",
   "execution_count": 42,
   "metadata": {
    "ExecuteTime": {
     "end_time": "2023-12-01T00:46:08.045703900Z",
     "start_time": "2023-12-01T00:46:07.991965Z"
    }
   },
   "outputs": [],
   "source": [
    "# Create two arrays of random integers between 0 to 10\n",
    "# one of size (3, 3) the other of size (3, 2)\n",
    "r1 = np.random.randint(10, size = (3, 3))\n",
    "r2 = np.random.randint(10, size = (3, 2))"
   ]
  },
  {
   "cell_type": "code",
   "execution_count": 43,
   "metadata": {
    "ExecuteTime": {
     "end_time": "2023-12-01T00:46:21.784945Z",
     "start_time": "2023-12-01T00:46:21.740947200Z"
    }
   },
   "outputs": [
    {
     "data": {
      "text/plain": "array([[60, 84],\n       [18, 32],\n       [48, 48]])"
     },
     "execution_count": 43,
     "metadata": {},
     "output_type": "execute_result"
    }
   ],
   "source": [
    "# Perform a dot product on the two newest arrays you created\n",
    "r1.dot(r2)"
   ]
  },
  {
   "cell_type": "code",
   "execution_count": 46,
   "metadata": {
    "ExecuteTime": {
     "end_time": "2023-12-01T00:47:19.432080800Z",
     "start_time": "2023-12-01T00:47:19.400755600Z"
    }
   },
   "outputs": [],
   "source": [
    "# Create two arrays of random integers between 0 to 10\n",
    "# both of size (4, 3)\n",
    "r3 = np.random.randint(10, size = (4, 3))\n",
    "r4 = np.random.randint(10, size = (4, 3))"
   ]
  },
  {
   "cell_type": "code",
   "execution_count": 48,
   "metadata": {
    "ExecuteTime": {
     "end_time": "2023-12-01T00:47:32.196838800Z",
     "start_time": "2023-12-01T00:47:32.119311500Z"
    }
   },
   "outputs": [
    {
     "ename": "ValueError",
     "evalue": "shapes (4,3) and (4,3) not aligned: 3 (dim 1) != 4 (dim 0)",
     "output_type": "error",
     "traceback": [
      "\u001B[1;31m---------------------------------------------------------------------------\u001B[0m",
      "\u001B[1;31mValueError\u001B[0m                                Traceback (most recent call last)",
      "Cell \u001B[1;32mIn[48], line 2\u001B[0m\n\u001B[0;32m      1\u001B[0m \u001B[38;5;66;03m# Perform a dot product on the two newest arrays you created\u001B[39;00m\n\u001B[1;32m----> 2\u001B[0m r3\u001B[38;5;241m.\u001B[39mdot(r4)\n",
      "\u001B[1;31mValueError\u001B[0m: shapes (4,3) and (4,3) not aligned: 3 (dim 1) != 4 (dim 0)"
     ]
    }
   ],
   "source": [
    "# Perform a dot product on the two newest arrays you created\n",
    "r3.dot(r4)"
   ]
  },
  {
   "cell_type": "markdown",
   "metadata": {},
   "source": [
    "It doesn't work. How would you fix it?"
   ]
  },
  {
   "cell_type": "code",
   "execution_count": 49,
   "metadata": {
    "ExecuteTime": {
     "end_time": "2023-12-01T00:47:39.819431800Z",
     "start_time": "2023-12-01T00:47:39.774121500Z"
    }
   },
   "outputs": [
    {
     "data": {
      "text/plain": "array([[123, 150,  96],\n       [ 56,  81,  63],\n       [ 97, 100, 104]])"
     },
     "execution_count": 49,
     "metadata": {},
     "output_type": "execute_result"
    }
   ],
   "source": [
    "# Take the latest two arrays, perform a transpose on one of them and then perform \n",
    "# a dot product on them both\n",
    "r3.T.dot(r4)"
   ]
  },
  {
   "cell_type": "markdown",
   "metadata": {},
   "source": [
    "Notice how performing a transpose allows the dot product to happen.\n",
    "\n",
    "Why is this?\n",
    "\n",
    "Checking out the documentation on [`np.dot()`](https://docs.scipy.org/doc/numpy/reference/generated/numpy.dot.html) may help, as well as reading [Math is Fun's guide on the dot product](https://www.mathsisfun.com/algebra/vectors-dot-product.html).\n",
    "\n",
    "Let's now compare arrays."
   ]
  },
  {
   "cell_type": "code",
   "execution_count": 38,
   "metadata": {},
   "outputs": [],
   "source": [
    "# Create two arrays of random integers between 0 & 10 of the same shape\n",
    "# and save them to variables\n",
    "r3 = np.random.randint(10, size = (4, 3))\n",
    "r4 = np.random.randint(10, size = (4, 3))"
   ]
  },
  {
   "cell_type": "code",
   "execution_count": 50,
   "metadata": {
    "ExecuteTime": {
     "end_time": "2023-12-01T00:47:56.324918900Z",
     "start_time": "2023-12-01T00:47:56.284392100Z"
    }
   },
   "outputs": [
    {
     "data": {
      "text/plain": "array([[ True,  True,  True],\n       [False, False, False],\n       [False,  True, False],\n       [False, False, False]])"
     },
     "execution_count": 50,
     "metadata": {},
     "output_type": "execute_result"
    }
   ],
   "source": [
    "# Compare the two arrays with '>'\n",
    "r3 > r4"
   ]
  },
  {
   "cell_type": "markdown",
   "metadata": {},
   "source": [
    "What happens when you compare the arrays with `>`?"
   ]
  },
  {
   "cell_type": "code",
   "execution_count": 51,
   "metadata": {
    "ExecuteTime": {
     "end_time": "2023-12-01T00:48:02.768716500Z",
     "start_time": "2023-12-01T00:48:02.724067700Z"
    }
   },
   "outputs": [
    {
     "data": {
      "text/plain": "array([[ True,  True,  True],\n       [False, False, False],\n       [False,  True, False],\n       [ True, False,  True]])"
     },
     "execution_count": 51,
     "metadata": {},
     "output_type": "execute_result"
    }
   ],
   "source": [
    "# Compare the two arrays with '>='\n",
    "r3 >= r4"
   ]
  },
  {
   "cell_type": "code",
   "execution_count": 52,
   "metadata": {
    "ExecuteTime": {
     "end_time": "2023-12-01T00:48:08.073457700Z",
     "start_time": "2023-12-01T00:48:08.021528100Z"
    }
   },
   "outputs": [
    {
     "data": {
      "text/plain": "array([[ True,  True, False],\n       [False, False, False],\n       [False, False, False],\n       [False, False, False]])"
     },
     "execution_count": 52,
     "metadata": {},
     "output_type": "execute_result"
    }
   ],
   "source": [
    "# Find which elements of the first array are greater than 7\n",
    "r3 > 7"
   ]
  },
  {
   "cell_type": "code",
   "execution_count": 53,
   "metadata": {
    "ExecuteTime": {
     "end_time": "2023-12-01T00:48:13.752051300Z",
     "start_time": "2023-12-01T00:48:13.722385Z"
    }
   },
   "outputs": [
    {
     "data": {
      "text/plain": "array([[False, False, False],\n       [False, False, False],\n       [False, False, False],\n       [ True, False,  True]])"
     },
     "execution_count": 53,
     "metadata": {},
     "output_type": "execute_result"
    }
   ],
   "source": [
    "# Which parts of each array are equal? (try using '==')\n",
    "r3 == r4"
   ]
  },
  {
   "cell_type": "code",
   "execution_count": 54,
   "metadata": {
    "ExecuteTime": {
     "end_time": "2023-12-01T00:48:19.540962800Z",
     "start_time": "2023-12-01T00:48:19.481559800Z"
    }
   },
   "outputs": [
    {
     "data": {
      "text/plain": "array([[2, 9, 9],\n       [0, 3, 6],\n       [3, 4, 6],\n       [3, 6, 6]])"
     },
     "execution_count": 54,
     "metadata": {},
     "output_type": "execute_result"
    }
   ],
   "source": [
    "# Sort one of the arrays you just created in ascending order\n",
    "np.sort(r3)"
   ]
  },
  {
   "cell_type": "code",
   "execution_count": 55,
   "metadata": {
    "ExecuteTime": {
     "end_time": "2023-12-01T00:48:29.302684600Z",
     "start_time": "2023-12-01T00:48:29.271941900Z"
    }
   },
   "outputs": [
    {
     "data": {
      "text/plain": "array([[2, 0, 1],\n       [1, 2, 0],\n       [0, 1, 2],\n       [1, 0, 2]], dtype=int64)"
     },
     "execution_count": 55,
     "metadata": {},
     "output_type": "execute_result"
    }
   ],
   "source": [
    "# Sort the indexes of one of the arrays you just created\n",
    "np.argsort(r3)"
   ]
  },
  {
   "cell_type": "code",
   "execution_count": 56,
   "metadata": {
    "ExecuteTime": {
     "end_time": "2023-12-01T00:48:43.180775500Z",
     "start_time": "2023-12-01T00:48:43.136818900Z"
    }
   },
   "outputs": [
    {
     "data": {
      "text/plain": "0"
     },
     "execution_count": 56,
     "metadata": {},
     "output_type": "execute_result"
    }
   ],
   "source": [
    "# Find the index with the maximum value in one of the arrays you've created\n",
    "np.argmax(r3)"
   ]
  },
  {
   "cell_type": "code",
   "execution_count": 57,
   "metadata": {
    "ExecuteTime": {
     "end_time": "2023-12-01T00:48:51.139585600Z",
     "start_time": "2023-12-01T00:48:51.113148Z"
    }
   },
   "outputs": [
    {
     "data": {
      "text/plain": "4"
     },
     "execution_count": 57,
     "metadata": {},
     "output_type": "execute_result"
    }
   ],
   "source": [
    "# Find the index with the minimum value in one of the arrays you've created\n",
    "np.argmin(r3)"
   ]
  },
  {
   "cell_type": "code",
   "execution_count": 58,
   "metadata": {
    "ExecuteTime": {
     "end_time": "2023-12-01T00:49:34.542265700Z",
     "start_time": "2023-12-01T00:49:34.495123500Z"
    }
   },
   "outputs": [
    {
     "data": {
      "text/plain": "array([0, 0, 2, 0], dtype=int64)"
     },
     "execution_count": 58,
     "metadata": {},
     "output_type": "execute_result"
    }
   ],
   "source": [
    "# Find the indexes with the maximum values down the 1st axis (axis=1)\n",
    "# of one of the arrays you created\n",
    "np.argmax(r3, axis =  1)"
   ]
  },
  {
   "cell_type": "code",
   "execution_count": 59,
   "metadata": {
    "ExecuteTime": {
     "end_time": "2023-12-01T00:49:51.394492900Z",
     "start_time": "2023-12-01T00:49:51.356394200Z"
    }
   },
   "outputs": [
    {
     "data": {
      "text/plain": "array([2, 1, 0], dtype=int64)"
     },
     "execution_count": 59,
     "metadata": {},
     "output_type": "execute_result"
    }
   ],
   "source": [
    "# Find the indexes with the minimum values across the 0th axis (axis=0)\n",
    "# of one of the arrays you created\n",
    "np.argmin(r3, axis =  0)"
   ]
  },
  {
   "cell_type": "code",
   "execution_count": 49,
   "metadata": {},
   "outputs": [],
   "source": [
    "# Create an array of normally distributed random numbers\n"
   ]
  },
  {
   "cell_type": "code",
   "execution_count": 60,
   "metadata": {
    "ExecuteTime": {
     "end_time": "2023-12-01T00:50:19.355186Z",
     "start_time": "2023-12-01T00:50:19.195255600Z"
    }
   },
   "outputs": [
    {
     "data": {
      "text/plain": "array([ 1, 11, 21, 31, 41, 51, 61, 71, 81, 91])"
     },
     "execution_count": 60,
     "metadata": {},
     "output_type": "execute_result"
    }
   ],
   "source": [
    "# Create an array with 10 evenly spaced numbers between 1 and 100\n",
    "np.arange(1, 100, 10)"
   ]
  },
  {
   "cell_type": "markdown",
   "metadata": {},
   "source": [
    "## Extensions\n",
    "\n",
    "For more exercises, check out the [NumPy quickstart tutorial](https://numpy.org/doc/stable/user/quickstart.html). A good practice would be to read through it and for the parts you find interesting, add them into the end of this notebook.\n",
    "\n",
    "Pay particular attention to the section on broadcasting. And most importantly, get hands-on with the code as much as possible. If in dobut, run the code, see what it does.\n",
    "\n",
    "The next place you could go is the [Stack Overflow page for the top questions and answers for NumPy](https://stackoverflow.com/questions/tagged/numpy?sort=MostVotes&edited=true). Often, you'll find some of the most common and useful NumPy functions here. Don't forget to play around with the filters! You'll likely find something helpful here.\n",
    "\n",
    "Finally, as always, remember, the best way to learn something new is to try it. And try it relentlessly. If you get interested in some kind of NumPy function, asking yourself, \"I wonder if NumPy could do that?\", go and find out."
   ]
  }
 ],
 "metadata": {
  "kernelspec": {
   "display_name": "Python 3",
   "language": "python",
   "name": "python3"
  },
  "language_info": {
   "codemirror_mode": {
    "name": "ipython",
    "version": 3
   },
   "file_extension": ".py",
   "mimetype": "text/x-python",
   "name": "python",
   "nbconvert_exporter": "python",
   "pygments_lexer": "ipython3",
   "version": "3.8.3"
  }
 },
 "nbformat": 4,
 "nbformat_minor": 2
}
